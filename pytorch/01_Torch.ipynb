{
 "cells": [
  {
   "cell_type": "markdown",
   "id": "611f5cbd-dc59-47ce-b4a0-1ab85f666506",
   "metadata": {},
   "source": [
    "# Pytorch Workflow\n",
    "\n",
    "|Topic|Content|\n",
    "|---|---|\n",
    "|1. Getting data ready|Data can be almost anything but to get started we're going to create a simple straight line|\n",
    "|2. Building a model|Here we'll create a model to learn pattterns in the data, we'll also choose a loss function, optimizer and build a training loop.|\n",
    "|3. Fitting the model to data (training)|We've got data and a model, now let's let the model (try to) find patterns in the (training) data.\n",
    "|4. Making predictions and evaluating a model (inference)|Our model's found patterns in the data, let's compare its finding to the actual (testing) data.|\n",
    "|5. Saving and loading a model|You may want to use your model elsewhere, or come back to it later, here we'll cover that.|\n",
    "|6. Putting it all together|Let's take all of the above and combine it|"
   ]
  },
  {
   "cell_type": "code",
   "execution_count": 5,
   "id": "cd4ad098-6572-4453-a173-2d3534a24fd1",
   "metadata": {},
   "outputs": [
    {
     "data": {
      "text/plain": [
       "'2.7.0.dev20250116+cu126'"
      ]
     },
     "execution_count": 5,
     "metadata": {},
     "output_type": "execute_result"
    }
   ],
   "source": [
    "import torch\n",
    "from torch import nn # nn contains all of PyTorch's building blocks for neural networks\n",
    "import matplotlib.pyplot as plt\n",
    "\n",
    "# Check PyTorch version\n",
    "torch.__version__"
   ]
  },
  {
   "cell_type": "markdown",
   "id": "51bf61a7-0cb8-4e38-9237-fe00fe7072f4",
   "metadata": {},
   "source": [
    "## 1. Data (preparing and loading)\n",
    "We'll use linear regression to create the data with known parameters (things that can be learned by a model) and then we'll use PyTorch to see if we can build model to estimate these parameters using gradient descent."
   ]
  },
  {
   "cell_type": "code",
   "execution_count": 7,
   "id": "59847409-07c8-4564-a9f2-ab185927b17d",
   "metadata": {},
   "outputs": [
    {
     "data": {
      "text/plain": [
       "(tensor([[0.0000],\n",
       "         [0.0200],\n",
       "         [0.0400],\n",
       "         [0.0600],\n",
       "         [0.0800],\n",
       "         [0.1000],\n",
       "         [0.1200],\n",
       "         [0.1400],\n",
       "         [0.1600],\n",
       "         [0.1800]]),\n",
       " tensor([[0.3000],\n",
       "         [0.3140],\n",
       "         [0.3280],\n",
       "         [0.3420],\n",
       "         [0.3560],\n",
       "         [0.3700],\n",
       "         [0.3840],\n",
       "         [0.3980],\n",
       "         [0.4120],\n",
       "         [0.4260]]))"
      ]
     },
     "execution_count": 7,
     "metadata": {},
     "output_type": "execute_result"
    }
   ],
   "source": [
    "# Create *known* parameters\n",
    "weight = 0.7\n",
    "bias = 0.3\n",
    "\n",
    "# Create data\n",
    "start = 0\n",
    "end = 1\n",
    "step = 0.02\n",
    "X = torch.arange(start, end, step).unsqueeze(dim=1)\n",
    "y = weight * X + bias\n",
    "\n",
    "X[:10], y[:10]"
   ]
  },
  {
   "cell_type": "markdown",
   "id": "d57b84ec-6103-4de3-8fc7-8e199c659929",
   "metadata": {},
   "source": [
    "Split data into training and testing set"
   ]
  },
  {
   "cell_type": "code",
   "execution_count": 9,
   "id": "d6493fc9-a19c-40c0-9b07-5e8c91dc538f",
   "metadata": {},
   "outputs": [
    {
     "data": {
      "text/plain": [
       "(40, 40, 10, 10)"
      ]
     },
     "execution_count": 9,
     "metadata": {},
     "output_type": "execute_result"
    }
   ],
   "source": [
    "# Create train/test split\n",
    "train_split = int(0.8 * len(X)) # 80% of data used for training set, 20% for testing\n",
    "X_train, y_train = X[:train_split], y[:train_split]\n",
    "X_test, y_test = X[train_split:], y[train_split:]\n",
    "\n",
    "len(X_train), len(y_train), len(X_test), len(y_test)"
   ]
  },
  {
   "cell_type": "code",
   "execution_count": 10,
   "id": "b8f1cad3-dba5-4bc7-8022-693c2aca6e0e",
   "metadata": {},
   "outputs": [
    {
     "data": {
      "text/plain": [
       "50"
      ]
     },
     "execution_count": 10,
     "metadata": {},
     "output_type": "execute_result"
    }
   ],
   "source": [
    "len(X)"
   ]
  },
  {
   "cell_type": "markdown",
   "id": "daf319da-8972-4c91-83b0-475f5177a542",
   "metadata": {},
   "source": [
    "Lets visualize the data"
   ]
  },
  {
   "cell_type": "code",
   "execution_count": 12,
   "id": "75fc1794-9e31-4348-9d6b-2b167a6ceac9",
   "metadata": {},
   "outputs": [],
   "source": [
    "def plot_predictions(train_data=X_train,\n",
    "                     train_labels=y_train,\n",
    "                     test_data=X_test,\n",
    "                     test_labels=y_test,\n",
    "                     predictions=None):\n",
    "    \"\"\"\n",
    "    Plots training data, test data and compares predictions.\n",
    "    \"\"\"\n",
    "    plt.figure(figsize=(10, 7))\n",
    "\n",
    "    # Plot training data in blue\n",
    "    plt.scatter(train_data, train_labels, c=\"b\", s=4, label=\"Training data\")\n",
    "\n",
    "    # Plot test data in green\n",
    "    plt.scatter(test_data, test_labels, c=\"g\", s=4, label=\"Testing data\")\n",
    "\n",
    "    if predictions is not None:\n",
    "        # Plot the predictions in red (predictions were made on the test data)\n",
    "        plt.scatter(test_data, predictions, c=\"r\", s=4, label=\"Predictions\")\n",
    "\n",
    "    # Show the legend\n",
    "    plt.legend(prop={\"size\": 14})"
   ]
  },
  {
   "cell_type": "code",
   "execution_count": 13,
   "id": "da1f6051-1fa8-4e12-8403-a882a589c7e3",
   "metadata": {},
   "outputs": [
    {
     "data": {
      "image/png": "[encoded data removed]",
      "text/plain": [
       "<Figure size 1000x700 with 1 Axes>"
      ]
     },
     "metadata": {},
     "output_type": "display_data"
    }
   ],
   "source": [
    "plot_predictions()"
   ]
  },
  {
   "cell_type": "markdown",
   "id": "b124ef6f-47dd-43a9-8340-eec5fdfca971",
   "metadata": {},
   "source": [
    "## 2. Build model\n",
    "Now we've got some data, let's build a model to use the blue ddots to predict the green dots.\n",
    "\n",
    "Let's replicated a standard linear regession model using pure PyTorch"
   ]
  },
  {
   "cell_type": "code",
   "execution_count": 15,
   "id": "454a8a2a-c55d-40c0-8a83-da2bcf187015",
   "metadata": {},
   "outputs": [],
   "source": [
    "# Create a Linear regression model class\n",
    "class LinearRegressionModel(nn.Module): # <- almost everything in PyTorch is a nn.Module (think of this as neural network lego blocks)\n",
    "    def __init__(self):\n",
    "        super().__init__()\n",
    "        self.weights = nn.Parameter(torch.randn(1, # <- start with random weights (this will get adjusted as the model learns)\n",
    "                                                dtype=torch.float), # <- PyTorch loves float32 by default\n",
    "                                    requires_grad=True) # <- can we update this value with gradient descents?))\n",
    "    \n",
    "        self.bias = nn.Parameter(torch.randn(1, # <- start with random bias (this will get adjusted as the model learns)\n",
    "                                            dtype=torch.float), # <- PyTorch loves float32 by default\n",
    "                                requires_grad=True) # <- can we update this value with gradient descent?))\n",
    "\n",
    "    # Forward defines the computation in the model, overwride forward in nn.module parent calss\n",
    "    def forward(self, x: torch.Tensor) -> torch.Tensor: # <- \"x\" is the input data (e.g. training/testing features)\n",
    "        return self.weights * x + self.bias # <- this is the linear regression formula (y = m * x + b)"
   ]
  },
  {
   "cell_type": "markdown",
   "id": "e113d44c-ed87-493f-9003-e99d9376c48e",
   "metadata": {},
   "source": [
    "## PyTorch model building essentials\n",
    "\n",
    "|PyTorch module|What does it do?|\n",
    "|--|--|\n",
    "|torch.nn|contains all the building blocks for computational graphs (essentially a series of computations executed in a particular way).|\n",
    "|torch.nn.Parameter|Stores tensors that can be used with nn.Modeule. If requires_grad=true gradients (used for updataing model parameters via gradient descent) are calculated automatically, this is often refereeed to as \"autograd\".|\n",
    "|torch.nn.Module|The base class for all neural network modules, all the building blocks for neural networks are subclasses.|\n",
    "|torch.optim|Contains various optimization algorithms (these tell the model parameters stored in nn.Parameter how to best chang to improve gradient descent and in turn reduce the loss).|\n",
    "|def forward()|All nn.Module subclasses require a forward() method, this defines the computation taht will take place on the data passed to the particular nn.Module (eg., the linear regression formula above).|\n",
    "\n",
    "If the above sounds complex, think of like this, almost everything in a PyTorch neural network comes from `torch.nn`,\n",
    "\n",
    "- `nn.Module` contains the larger building blocks (layers)\n",
    "- `nn.Parameter` contains the smaller parameters like weights and biases (put these tother to make `nn.Module`(s))\n",
    "- `forward()` tells tha larger blocks how to make calcualtions on inputs (tensors full of data) within `nn.Modeule`(s)\n",
    "- `torch.optim` contains optimization methods on how to improve the parameters within `nn.Parameter` to better represent input data"
   ]
  },
  {
   "cell_type": "markdown",
   "id": "e2c944ff-e835-4006-9295-3d31bced10ed",
   "metadata": {},
   "source": [
    "### Checking the comtents of a PyTorch model\n",
    "Lets careate a model instance with the class we've made and check its parameters using `.parameters()`."
   ]
  },
  {
   "cell_type": "code",
   "execution_count": 18,
   "id": "3e3f7852-c134-45e8-ba87-92589e85c837",
   "metadata": {},
   "outputs": [
    {
     "data": {
      "text/plain": [
       "[Parameter containing:\n",
       " tensor([0.3367], requires_grad=True),\n",
       " Parameter containing:\n",
       " tensor([0.1288], requires_grad=True)]"
      ]
     },
     "execution_count": 18,
     "metadata": {},
     "output_type": "execute_result"
    }
   ],
   "source": [
    "# Set manual seed since nn.Parameter are randomly initialized\n",
    "torch.manual_seed(42)\n",
    "\n",
    "# Create an instance of the model (this is a subclass of nn.Module that contains nn.Parameter(s))\n",
    "model_0 = LinearRegressionModel()\n",
    "\n",
    "# Check the nn.Parameter(s) within the nn.Module subclass we created\n",
    "list(model_0.parameters())"
   ]
  },
  {
   "cell_type": "markdown",
   "id": "6909a998-757c-4cf7-9b3b-62c54cb19944",
   "metadata": {},
   "source": [
    "We can also get the state (what the model contains) of the model using `.state_dict()`."
   ]
  },
  {
   "cell_type": "code",
   "execution_count": 20,
   "id": "f3f2d92d-7c85-4632-b0d3-b7475146490e",
   "metadata": {},
   "outputs": [
    {
     "data": {
      "text/plain": [
       "OrderedDict([('weights', tensor([0.3367])), ('bias', tensor([0.1288]))])"
      ]
     },
     "execution_count": 20,
     "metadata": {},
     "output_type": "execute_result"
    }
   ],
   "source": [
    "# List named parameters\n",
    "model_0.state_dict()"
   ]
  },
  {
   "cell_type": "markdown",
   "id": "78eb8903-310a-486c-870e-bdbb7a2c82fb",
   "metadata": {},
   "source": [
    "Notice how the values for `weights` and `bias` from `model_0.state_dict()` come out as random float tensors?\n",
    "\n",
    "This is because we initialized them above using `torch.randn()`.\n",
    "\n",
    "Essentially we want to start from random parameters adn get the model to update them towards parameters that fit our data best (the hardcoded `weight` and `bias` values we set when creating our straight line data).\n",
    "\n",
    "Because our Model starts witth random values, right now it'll have poor predictive power."
   ]
  },
  {
   "cell_type": "markdown",
   "id": "7dab3210-e2b1-44a9-b369-6f3e217d59e7",
   "metadata": {},
   "source": [
    "## Making predictions using `torch.inference_mode()`\n",
    "To check this we can pass it the test data `X_test` to see how closely it predicts `y_test`.\n",
    "\n",
    "When we pass data to our model, it'll go throught the model's `forward()` method and produce a result using the computation we've defined.\n",
    "\n",
    "Let's make some predictions."
   ]
  },
  {
   "cell_type": "code",
   "execution_count": 23,
   "id": "74e15032-a7e7-46ca-946f-fd4e48c723df",
   "metadata": {},
   "outputs": [],
   "source": [
    "# Make predictions with model\n",
    "with torch.inference_mode():\n",
    "    y_preds = model_0(X_test)\n",
    "\n",
    "# Note: in older PyTorch code you might also see torch.no_grad()\n",
    "# with torch.no_grad():\n",
    "#    y_preds = model_0(X_test)"
   ]
  },
  {
   "cell_type": "markdown",
   "id": "e8136f1a-0a5f-432f-b9bd-7278c7c4f0c6",
   "metadata": {},
   "source": [
    "You probably noticed we use `torch.inference_mode()` as a context manager (that's what the `with torch.inference_model():` is) to make the predictions.\n",
    "\n",
    "As the name suggests, `torch.inference_mode()` is used when using a model for inference (making predictions).\n",
    "\n",
    "`torch.inference_mode()` turns off a bunch of things (like gradient tracking, which is necessary fro training but not for inference) to make forward-passes (data going through the `forward()` method) faster."
   ]
  },
  {
   "cell_type": "code",
   "execution_count": 25,
   "id": "8627be7c-f9ca-4955-9859-478d8463c82c",
   "metadata": {},
   "outputs": [
    {
     "name": "stdout",
     "output_type": "stream",
     "text": [
      "Number of testing samples: 10\n",
      "Number of predictions made: 10\n",
      "Predicted values:\n",
      "tensor([[0.3982],\n",
      "        [0.4049],\n",
      "        [0.4116],\n",
      "        [0.4184],\n",
      "        [0.4251],\n",
      "        [0.4318],\n",
      "        [0.4386],\n",
      "        [0.4453],\n",
      "        [0.4520],\n",
      "        [0.4588]])\n"
     ]
    }
   ],
   "source": [
    "# Check the predictions\n",
    "print(f\"Number of testing samples: {len(X_test)}\") \n",
    "print(f\"Number of predictions made: {len(y_preds)}\")\n",
    "print(f\"Predicted values:\\n{y_preds}\")"
   ]
  },
  {
   "cell_type": "code",
   "execution_count": 26,
   "id": "620de211-0660-4d28-8dce-c2e8f30815a7",
   "metadata": {},
   "outputs": [
    {
     "data": {
      "image/png": "[encoded data removed]",
      "text/plain": [
       "<Figure size 1000x700 with 1 Axes>"
      ]
     },
     "metadata": {},
     "output_type": "display_data"
    }
   ],
   "source": [
    "plot_predictions(predictions=y_preds)"
   ]
  },
  {
   "cell_type": "code",
   "execution_count": 27,
   "id": "0735eb56-fc9c-4fe1-931d-933faaf9895a",
   "metadata": {},
   "outputs": [
    {
     "data": {
      "text/plain": [
       "tensor([[0.4618],\n",
       "        [0.4691],\n",
       "        [0.4764],\n",
       "        [0.4836],\n",
       "        [0.4909],\n",
       "        [0.4982],\n",
       "        [0.5054],\n",
       "        [0.5127],\n",
       "        [0.5200],\n",
       "        [0.5272]])"
      ]
     },
     "execution_count": 27,
     "metadata": {},
     "output_type": "execute_result"
    }
   ],
   "source": [
    "y_test - y_preds"
   ]
  },
  {
   "cell_type": "markdown",
   "id": "028eb7e3-9dc7-406c-8b83-5f6ea54e6e1f",
   "metadata": {},
   "source": [
    "## 3. Train model\n",
    "Right now our model is making predictions using random parameters to make calculations, it's basically guessing (randomly).\n",
    "\n",
    "To fix that, we can aupdate its internal parameters (I alsoe refere to parameters as patterns), the `weights` and `bias` values we set randomly using `nn.Parameter()` and `torch.randn()` to be something that better represents teh data.\n",
    "\n",
    "### Creating a loss function and optimizer in PyTorch\n",
    "For our model to update its parameters on its own, we'll need to add a few more thing to our recipe.\n",
    "\n",
    "And that's a loss function as well as an optimizer.\n",
    "\n",
    "The rolls of these are:\n",
    "\n",
    "|Function|What does it do?|Where does it live in PyTorch?|Common values|\n",
    "|--|--|--|--|\n",
    "|Loss function| Measures how wrong your model's predictions (eg., `y_preds`) are compared to the truth labels (eg., `y_test`). Lower the better.|PyTorch has plenty of built-in loss functions in `torch.nn`.|Mean absolute error (MAE) for regression problems (`torch.nn.L1Loss()`). binary cross entropy for binary classification problems (`torch.nn.BCELoss()`).|\n",
    "|Optimizer|Tells your model how to update its internal parameters to best lower the loss.|You can find various optimization functions implementations in `torch.optim`.|Stochastic gradient descent (`torch.optim.SGD()`). Adam optimizer (`torch.optim.Adam()`).|\n",
    "\n",
    "Let's create a loss function and an optimizer we can use to help improve our model.\n",
    "\n",
    "Depending on what kind of problem you're working on will depend on what loss function and what optimizer you use.\n",
    "\n",
    "However, there are some common values, that are known to work well such as the SGD (stochastic gradient descent) or Adam optimizer. and the MAE (mean absolute error) loss function for regression problems (predicting a number) or binary cross entropy loss for classification problems (predicting one thing or another).\n",
    "\n",
    "For our problem, since we're predicting a number, let's use MAE (which is under torch.nn.L1Loss()) in PyTorch as our loss function.\n",
    "\n",
    "Mean absolute error (MAE, in PyTorch: `torch.nn.L1Loss`) measures the absolute difference between 2 points (predictions and labels) and then takes the mean across all example.\n",
    "\n",
    "And we'll use SGD, `torch.optim.SGD(params, lr)` where:\n",
    "- `params` is the target model parameters you'd like to optimize (eg., the `weights` and `bias` values we randomly set before).\n",
    "- `lr` is the learning rate you'd like the optimizer to update the parameters at, higher means the optmizer will try larger updates (these can sometimes be too large and the optimizer will fail to work), lower means the optimizer will try smaller updates (these can sometimes be too small and the optimizer will take too long to find the ideal values). The leaning rate is considered a hyperparameter (because it's set by a machine learning engineer). common starting values for the learning rate are `0.01`, `0.001`, `0.0001`, however these can be adjusted over time (this is called learning rate scheduling).\n"
   ]
  },
  {
   "cell_type": "code",
   "execution_count": 29,
   "id": "4dde1741-1ce3-42eb-87bf-4ad16387eaad",
   "metadata": {},
   "outputs": [],
   "source": [
    "# Create the loss function\n",
    "loss_fn = nn.L1Loss() # MAE loss is same as L1Loss\n",
    "\n",
    "# Create the optimizer\n",
    "optimizer = torch.optim.SGD(params=model_0.parameters(), # parameters of target model to be optimized\n",
    "                            lr=0.001) # learning rate (how much the optimizer should change parameters at each step, higher=more (less stable), lower=liss (might take a long time)) "
   ]
  },
  {
   "cell_type": "markdown",
   "id": "e980b2c6-ba54-46d0-a27e-ba7120dd809b",
   "metadata": {},
   "source": [
    "### Creating an optimization loop in PyTorch\n",
    "The training loop involves the model going through the training data and learning the relationships between the `features` and `labels`.\n",
    "\n",
    "The testing loop involves going through the testing data and evaluating how good the patterns are that the model learned on the training data (the model never sees the testing dta durning training).\n",
    "\n",
    "Each of these is called a \"loop\" because we want our model to look (loop through) at each sample in each dataset.\n",
    "\n",
    "### PyTorch training loop\n",
    "For the training loop, we'll build the following steps:\n",
    "\n",
    "|Number|Step name|What does it do?|Code example|\n",
    "|--|--|--|--|\n",
    "|1|Forward pass|The model goes through all the training data once, performing its `forward()` function calculations.|`model(x_train)`|\n",
    "|2|Calculate the loss|The model's outputs (predictions) are compared to the ground truth and evaluated to see how wrong they are.|`loss = loss_fn(y_pred, y_train)`|\n",
    "|3|Zero gradients|The optimizers gradients are set to zero (they are accumulated by default) so they can be recalculated for the specific training step.|`optimizer.zero_grad()`|\n",
    "|4|Perform backpropagation on the loss|Computes the gradient of the loss with respect for every model parameter to be updated (each parameter with `requires_grad=True`). This is known as backpropatation, hence \"backwards\".|`loss.backward()`|\n",
    "|5|Update the optimizer (gradient descent)|Update the parameters with `requires_grad=True` with respect to the loss gradients in order to improve them.|`optimizer.step()`|\n",
    "\n",
    "### PyTorch testing loop\n",
    "As for the testing loop (evaluating our model), the typical steps include:\n",
    "\n",
    "|Number|Step name|What does it do?|Code example|\n",
    "|--|--|--|--|\n",
    "|1|Forward pass|The model goes through all the testing data once, performing its `forward()` function calculations.|`model(x_test)`|\n",
    "|2|Calculate the loss|The model's outputs (predictions) are compared to the ground truth and evaluated to see how wrong they are.|`Loss = loss_fn(y_pred, y_test)`|\n",
    "|3|Calculate evaluation metrics (optional)|Alongside the loss value you may want to calculate other evaluation metrics such as accuracy on the test set.|Custom functions|\n",
    "\n",
    "Train our model for 100 epochs (forward pases throught the data) and we'll evaluate it every 10 epochs."
   ]
  },
  {
   "cell_type": "code",
   "execution_count": null,
   "id": "3d5761b4-4042-4136-abc4-826c6f83a4f7",
   "metadata": {},
   "outputs": [],
   "source": [
    "torch.manual_seed(42)\n",
    "\n",
    "# Set the number of epochs (how many times the model will pass over the training data)\n",
    "epochs = 1000\n",
    "\n",
    "# Create empty loss lists to track values\n",
    "train_loss_values = []\n",
    "test_loss_values = []\n",
    "epoch_count =[]\n",
    "\n",
    "for epoch in range(epochs):\n",
    "    ### Training\n",
    "\n",
    "    # Put model in training mode (this is the default state for a model)\n",
    "    model_0.train()\n",
    "\n",
    "    # 1. Forward pass on train data using the forward() method inside\n",
    "    y_pred = model_0(X_train)\n",
    "    # print(y_pred)\n",
    "\n",
    "    # 2. Calculate the loss (how different are our models predictions to the ground truth)\n",
    "    loss = loss_fn(y_pred, y_train)\n",
    "\n",
    "    # 3. Zero grad of the optimizer\n",
    "    optimizer.zero_grad()\n",
    "\n",
    "    # 4. Loss backwards\n",
    "    loss.backward()\n",
    "\n",
    "    # 5. Progress the optimizer\n",
    "    optimizer.step()\n",
    "\n",
    "    ### Testing\n",
    "\n",
    "    # Put the model in evaluation mode\n",
    "    model_0.eval()\n",
    "\n",
    "    with torch.inference_mode():\n",
    "        # 1. Forward pass on test data\n",
    "        test_pred = model_0(X_test)\n",
    "\n",
    "        # 2. Calculate loss on test data\n",
    "        test_loss = loss_fn(test_pred, y_test.type(torch.float)) # predictions come in torch.float datatype, so comparisons need to be done with tensors of the same type\n",
    "\n",
    "        # Print out what's happening\\\n",
    "        if epoch % 10 == 0:\n",
    "            epoch_count.append(epoch)\n",
    "            train_loss_values.append(loss.detach().numpy())\n",
    "            test_loss_values.append(test_loss.detach().numpy())\n",
    "            print(f\"Epoch: {epoch} | MAE Train Loss: {loss} | MAE Test Loss: {test_loss} \")"
   ]
  },
  {
   "cell_type": "code",
   "execution_count": 85,
   "id": "1d767399-9360-4f0c-9658-d87cf1659ace",
   "metadata": {},
   "outputs": [
    {
     "data": {
      "text/plain": [
       "<matplotlib.legend.Legend at 0x7de13e93ac60>"
      ]
     },
     "execution_count": 85,
     "metadata": {},
     "output_type": "execute_result"
    },
    {
     "data": {
      "image/png": "[encoded data removed]",
      "text/plain": [
       "<Figure size 640x480 with 1 Axes>"
      ]
     },
     "metadata": {},
     "output_type": "display_data"
    }
   ],
   "source": [
    "# plot the loss curves\n",
    "plt.plot(epoch_count, train_loss_values, label=\"Train loss\")\n",
    "plt.plot(epoch_count, test_loss_values, label=\"Test loss\")\n",
    "plt.title(\"Training and test loss curves\")\n",
    "plt.ylabel(\"Loss\")\n",
    "plt.xlabel(\"Epochs\")\n",
    "plt.legend()"
   ]
  },
  {
   "cell_type": "markdown",
   "id": "a48c40b3-3b9c-4ebf-8157-30fad00d2fb6",
   "metadata": {},
   "source": [
    "### 5. saving and loading a PyTorch model\n",
    "\n",
    "|PyTorch method| What does it do?|\n",
    "|--|--|\n",
    "|`torch.save`|Saves a serialized object to dis using Python's `pickle` utility. Models, tensors and various other Python objects like dictionaries can be saved using `torch.save`.|\n",
    "|`torch.load`|Uses `pickle`'s unpickling features to desearialize and load pickled Python object files (like models, tensors or dictionaries) into memory. You can also set which device to load the object to (CPU, GPU etc).|\n",
    "|`torch.nn.Module.load_state_dict`|Loads a model's parameter dictionary (`model.state_dict()`) using a saved `state_dict()` object.|\n",
    "\n",
    "#### Saving a PyTorch model's `state_dict()`\n",
    "The recommended way for saving and loading a model for inference (making predictions) is by saving and loading a model's `state_dict()`\n",
    "\n",
    "Let's see how we can do that in a few steps:\n",
    "\n",
    "1. We'll create a dictionary for saving models called `models` using Python's `pathlib` module.\n",
    "2. We'll create a file path to save the model to.\n",
    "3. We'll call `torch.save(obj, f)` where `obj` is the target model's `state_dict()` and `f` is the filename of where to save the model."
   ]
  },
  {
   "cell_type": "code",
   "execution_count": 98,
   "id": "7150d3e6-ccae-4ebe-b91d-e766b20c737a",
   "metadata": {},
   "outputs": [
    {
     "name": "stdout",
     "output_type": "stream",
     "text": [
      "Saving model to: models/01_pytorch_workflow_model_0.pth\n"
     ]
    }
   ],
   "source": [
    "from pathlib import Path\n",
    "\n",
    "# 1. Create models directory\n",
    "MODEL_PATH = Path(\"models\")\n",
    "MODEL_PATH.mkdir(parents=True, exist_ok=True)\n",
    "\n",
    "# 2. Crete model save path\n",
    "MODEL_NAME = \"01_pytorch_workflow_model_0.pth\"\n",
    "MODEL_SAVE_PATH = MODEL_PATH / MODEL_NAME\n",
    "\n",
    "# 3. Save the model state dict\n",
    "print(f\"Saving model to: {MODEL_SAVE_PATH}\")\n",
    "torch.save(obj=model_0.state_dict(), # only saving the stae_dict() only saves the models learned parameters\n",
    "           f=MODEL_SAVE_PATH)"
   ]
  },
  {
   "cell_type": "code",
   "execution_count": 103,
   "id": "9fdfbee5-19f2-4563-9e62-9b99f6a60b22",
   "metadata": {},
   "outputs": [
    {
     "name": "stdout",
     "output_type": "stream",
     "text": [
      "-rw-rw-r-- 1 yi yi 1680 Jan 16 20:12 models/01_pytorch_workflow_model_0.pth\n"
     ]
    }
   ],
   "source": [
    "# Check the saved file path\n",
    "!ls -l models/01_pytorch_workflow_model_0.pth"
   ]
  },
  {
   "cell_type": "markdown",
   "id": "926c77fc-4e77-4bc5-9c76-b64231c5a999",
   "metadata": {},
   "source": [
    "#### Loading a saved PyTorch model's `state_dict()`\n",
    "We can now load it using `torch.nn.Module.load_state_dict(torch.load(f))` where `f` is the filepath of our saved model `state_dict()`.\n",
    "\n",
    "Why call `torch.load()` inside `torch.nn.Module.load_state_dict()`?\n",
    "\n",
    "Because we only saved the model's `state_dict()` which is a dictionary of learned parameters and not the entire model, we first have to load the `sate_dict()` with `torch.load()` and then pass that `state_dict()` to a new instance of our model (which is a subclass of `nn.Module`).\n",
    "\n",
    "Why not save the entire model?\n",
    "\n",
    "Saving the entire model rather than just the state_dict() is more intuitive, however, to quote the PyTorch documentation (italics mine):\n",
    "\n",
    "The disadvantage of this approach (saving the whole model) is that the serialized data is bound to the specific classes and the exact directory structure used when the model is saved...\n",
    "\n",
    "Because of this, your code can break in various ways when used in other projects or after refactors.\n",
    "\n",
    "Let's test it out by creating another instance of `LinearRegressionModel()`, which is a subclass of `torch.nn.Module`` and will hence have the in-built method `load_state_dict()`."
   ]
  },
  {
   "cell_type": "code",
   "execution_count": 109,
   "id": "1f1fe221-aef2-4b14-bf17-cda03f3ce532",
   "metadata": {},
   "outputs": [
    {
     "data": {
      "text/plain": [
       "<All keys matched successfully>"
      ]
     },
     "execution_count": 109,
     "metadata": {},
     "output_type": "execute_result"
    }
   ],
   "source": [
    "# Instantiate a new instance of our model this will be instantiated with random weights)\n",
    "loaded_model_0 = LinearRegressionModel()\n",
    "\n",
    "# Load the state_dict of our saved model (this will update the new instance of our model with trained weights)\n",
    "loaded_model_0.load_state_dict(torch.load(f=MODEL_SAVE_PATH))"
   ]
  },
  {
   "cell_type": "markdown",
   "id": "ed0b33c6-504f-4b78-9894-2e9d4610afda",
   "metadata": {},
   "source": [
    "Performing inference with PyTorch models.\n",
    "\n",
    "PyTorch inference rules:\n",
    "1. Set the model in evaluation model (`model.eval()`).\n",
    "2. Make the predictions using the inference mode context manager (`with torch.inference_model(): ...`).\n",
    "3. All predictions should be made with objects on the same device (eg., data and model on GPU only or data and model on CPU only)."
   ]
  },
  {
   "cell_type": "code",
   "execution_count": 115,
   "id": "84131911-2c91-47af-bc4f-81518d0ba534",
   "metadata": {},
   "outputs": [],
   "source": [
    "# 1. Put the loaded model into evaluation mode\n",
    "loaded_model_0.eval()\n",
    "\n",
    "# 2. Use the inference mode context manager to make predictions\n",
    "with torch.inference_mode():\n",
    "    loaded_model_preds = loaded_model_0(X_test) # perform a forward pass on the test data with the loaded model"
   ]
  },
  {
   "cell_type": "markdown",
   "id": "a5cd7df6-5b33-4d11-972b-00b8091c8ef1",
   "metadata": {},
   "source": [
    "Now we've made some predictions wtih the loaded model, let's see if they're the same as the previous predictions."
   ]
  },
  {
   "cell_type": "code",
   "execution_count": 147,
   "id": "1d918546-eec9-43ce-aa73-01c4b7f0aba6",
   "metadata": {},
   "outputs": [
    {
     "data": {
      "text/plain": [
       "tensor([[False],\n",
       "        [False],\n",
       "        [False],\n",
       "        [False],\n",
       "        [False],\n",
       "        [False],\n",
       "        [False],\n",
       "        [False],\n",
       "        [False],\n",
       "        [False]])"
      ]
     },
     "execution_count": 147,
     "metadata": {},
     "output_type": "execute_result"
    }
   ],
   "source": [
    "# Compare previous model predictions with loaded model predictions (these should be the same)\n",
    "all(y_preds == loaded_model_preds) or plot_predictions(test_data=X_test, test_labels=y_test, predictions=loaded_model_preds)"
   ]
  },
  {
   "cell_type": "code",
   "execution_count": 157,
   "id": "39a6c7f7-8564-4810-8819-8a8a35d45dbb",
   "metadata": {},
   "outputs": [
    {
     "name": "stdout",
     "output_type": "stream",
     "text": [
      "Are predictions equal? tensor(False)\n",
      "Differences found:\n",
      "Indices of differences: tensor([[0, 0],\n",
      "        [1, 0],\n",
      "        [2, 0],\n",
      "        [3, 0],\n",
      "        [4, 0],\n",
      "        [5, 0],\n",
      "        [6, 0],\n",
      "        [7, 0],\n",
      "        [8, 0],\n",
      "        [9, 0]])\n",
      "Values in y_preds at differing indices: tensor([0.3982, 0.4049, 0.4116, 0.4184, 0.4251, 0.4318, 0.4386, 0.4453, 0.4520,\n",
      "        0.4588])\n",
      "Values in loaded_model_preds at differing indices: tensor([0.8205, 0.8325, 0.8444, 0.8563, 0.8682, 0.8802, 0.8921, 0.9040, 0.9159,\n",
      "        0.9279])\n"
     ]
    },
    {
     "data": {
      "image/png": "[encoded data removed]",
      "text/plain": [
       "<Figure size 1000x700 with 1 Axes>"
      ]
     },
     "metadata": {},
     "output_type": "display_data"
    }
   ],
   "source": [
    "all(y_preds == loaded_model_preds) or plot_predictions(test_data=X_test, test_labels=y_test, predictions=loaded_model_preds)\n",
    "torch.allclose(y_preds, loaded_model_preds)\n",
    "are_predictions_equal = torch.all(torch.eq(y_preds, loaded_model_preds))\n",
    "print(\"Are predictions equal?\", are_predictions_equal)\n",
    "\n",
    "if not are_predictions_equal:\n",
    "    print(\"Differences found:\")\n",
    "    differences = y_preds != loaded_model_preds\n",
    "    print(\"Indices of differences:\", torch.nonzero(differences))\n",
    "    print(\"Values in y_preds at differing indices:\", y_preds[differences])\n",
    "    print(\"Values in loaded_model_preds at differing indices:\", loaded_model_preds[differences])"
   ]
  },
  {
   "cell_type": "code",
   "execution_count": null,
   "id": "d97d2602-10f7-4c64-a499-0f93c64a4be2",
   "metadata": {},
   "outputs": [],
   "source": []
  }
 ],
 "metadata": {
  "kernelspec": {
   "display_name": "Python 3 (ipykernel)",
   "language": "python",
   "name": "python3"
  },
  "language_info": {
   "codemirror_mode": {
    "name": "ipython",
    "version": 3
   },
   "file_extension": ".py",
   "mimetype": "text/x-python",
   "name": "python",
   "nbconvert_exporter": "python",
   "pygments_lexer": "ipython3",
   "version": "3.12.3"
  }
 },
 "nbformat": 4,
 "nbformat_minor": 5
}
