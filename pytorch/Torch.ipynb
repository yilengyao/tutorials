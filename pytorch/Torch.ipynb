{
 "cells": [
  {
   "cell_type": "markdown",
   "id": "6487090a-7cdf-4c7e-892c-aeffaafa699e",
   "metadata": {},
   "source": [
    "# What is PyTorch?\n",
    "- Popular research deep learning framework.\n",
    "- Write fast deep learning code in Python (able to run on a GPU/many GPUs)\n",
    "- Able to access many pre-built deep learning models (Torch Hub/torchvision.models)\n",
    "- Whole stack: preprocesss data, model data, deploy modle in your application/cloud\n",
    "\n",
    "Importing Pytorch"
   ]
  },
  {
   "cell_type": "code",
   "execution_count": 3,
   "id": "c0427f98-61c5-43d1-b40d-2b9ed6cf4e22",
   "metadata": {},
   "outputs": [
    {
     "data": {
      "text/plain": [
       "'2.5.1+cu124'"
      ]
     },
     "execution_count": 3,
     "metadata": {},
     "output_type": "execute_result"
    }
   ],
   "source": [
    "import torch\n",
    "torch.__version__"
   ]
  },
  {
   "cell_type": "markdown",
   "id": "636c015c-7a59-45f6-ba70-4519a8037c68",
   "metadata": {},
   "source": [
    "## What is a Tensor\n",
    "Tensors are fundamental building block of machine learning.\n",
    "Their job is to represent data in a numerical way.\n",
    "\n",
    "A `torch.Tensor` is a multi-dimensional matrix containing elements of a single data type.\n",
    "\n",
    "Lets create a scalar.\n",
    "\n",
    "### Scalar\n",
    "A scalar is a single number, or a zero dimension vector."
   ]
  },
  {
   "cell_type": "code",
   "execution_count": 31,
   "id": "b30988e6-d529-4829-8c0c-cc5964162e4f",
   "metadata": {},
   "outputs": [
    {
     "data": {
      "text/plain": [
       "tensor(7)"
      ]
     },
     "execution_count": 31,
     "metadata": {},
     "output_type": "execute_result"
    }
   ],
   "source": [
    "# Scalr\n",
    "scalar = torch.tensor(7)\n",
    "scalar"
   ]
  },
  {
   "cell_type": "code",
   "execution_count": 34,
   "id": "6d5f727b-b859-4d31-a58e-5650c85e2d39",
   "metadata": {},
   "outputs": [
    {
     "data": {
      "text/plain": [
       "0"
      ]
     },
     "execution_count": 34,
     "metadata": {},
     "output_type": "execute_result"
    }
   ],
   "source": [
    "## Check on the dimension of a tensor using ndim attribute\n",
    "scalar.ndim"
   ]
  },
  {
   "cell_type": "markdown",
   "id": "49a29d21-f82c-41de-9fe8-812ea281ed55",
   "metadata": {},
   "source": [
    "`item()`: Method to retrieve a number from the tensor."
   ]
  },
  {
   "cell_type": "code",
   "execution_count": 42,
   "id": "c6fd6546-b973-40ec-b3d1-f2ce3612d5f3",
   "metadata": {},
   "outputs": [
    {
     "data": {
      "text/plain": [
       "7"
      ]
     },
     "execution_count": 42,
     "metadata": {},
     "output_type": "execute_result"
    }
   ],
   "source": [
    "# Get the Python number within a tensor (only works with 1-element tensors)\n",
    "scalar.item()"
   ]
  },
  {
   "cell_type": "markdown",
   "id": "e2c15ae6-671a-42e4-8461-2c7b97441609",
   "metadata": {},
   "source": [
    "### Vector\n",
    "Vector is a single dimension tensor that can contain many numbers."
   ]
  },
  {
   "cell_type": "code",
   "execution_count": 53,
   "id": "e7829f55-d37d-41a0-9e4c-e0fc71cc5b2f",
   "metadata": {},
   "outputs": [
    {
     "data": {
      "text/plain": [
       "tensor([7, 7])"
      ]
     },
     "execution_count": 53,
     "metadata": {},
     "output_type": "execute_result"
    }
   ],
   "source": [
    "# Vector\n",
    "vector = torch.tensor([7, 7])\n",
    "vector"
   ]
  },
  {
   "cell_type": "code",
   "execution_count": 60,
   "id": "81818296-fe9e-4c0b-9f5f-4ac6e33b0615",
   "metadata": {},
   "outputs": [
    {
     "data": {
      "text/plain": [
       "1"
      ]
     },
     "execution_count": 60,
     "metadata": {},
     "output_type": "execute_result"
    }
   ],
   "source": [
    "vector.ndim"
   ]
  },
  {
   "cell_type": "markdown",
   "id": "0646df7a-38f9-4a6d-bc3a-90dd187312b9",
   "metadata": {},
   "source": [
    "### Shape\n",
    "Shape attribute tells you how the elements inside them are arranged."
   ]
  },
  {
   "cell_type": "code",
   "execution_count": 66,
   "id": "9d6bc0c2-1c85-4084-b370-92d0519f19c7",
   "metadata": {},
   "outputs": [
    {
     "data": {
      "text/plain": [
       "torch.Size([2])"
      ]
     },
     "execution_count": 66,
     "metadata": {},
     "output_type": "execute_result"
    }
   ],
   "source": [
    "vector.shape"
   ]
  },
  {
   "cell_type": "code",
   "execution_count": 73,
   "id": "87886aad-de06-4a2c-852e-42690632e4ad",
   "metadata": {},
   "outputs": [
    {
     "data": {
      "text/plain": [
       "tensor([[ 7,  8],\n",
       "        [ 9, 10]])"
      ]
     },
     "execution_count": 73,
     "metadata": {},
     "output_type": "execute_result"
    }
   ],
   "source": [
    "# Matrix\n",
    "MATRIX = torch.tensor([[7, 8],\n",
    "                       [9, 10]])\n",
    "MATRIX"
   ]
  },
  {
   "cell_type": "code",
   "execution_count": 76,
   "id": "948c9bfc-cb19-404d-82bd-d48873645787",
   "metadata": {},
   "outputs": [
    {
     "data": {
      "text/plain": [
       "2"
      ]
     },
     "execution_count": 76,
     "metadata": {},
     "output_type": "execute_result"
    }
   ],
   "source": [
    "MATRIX.ndim"
   ]
  },
  {
   "cell_type": "code",
   "execution_count": 79,
   "id": "54f67324-6213-4cee-ae20-c4ecaab12dcc",
   "metadata": {},
   "outputs": [
    {
     "data": {
      "text/plain": [
       "torch.Size([2, 2])"
      ]
     },
     "execution_count": 79,
     "metadata": {},
     "output_type": "execute_result"
    }
   ],
   "source": [
    "MATRIX.shape"
   ]
  },
  {
   "cell_type": "code",
   "execution_count": 82,
   "id": "980255b4-790d-474d-86d8-dc2f6675d5be",
   "metadata": {},
   "outputs": [
    {
     "data": {
      "text/plain": [
       "tensor([[[1, 2, 3],\n",
       "         [3, 6, 9],\n",
       "         [2, 4, 5]]])"
      ]
     },
     "execution_count": 82,
     "metadata": {},
     "output_type": "execute_result"
    }
   ],
   "source": [
    "TENSOR = torch.tensor([[[1, 2, 3],\n",
    "                        [3, 6, 9],\n",
    "                        [2, 4,5]]])\n",
    "TENSOR"
   ]
  },
  {
   "cell_type": "code",
   "execution_count": 85,
   "id": "7d6ce917-de2b-4784-a1c9-85f6fc970227",
   "metadata": {},
   "outputs": [
    {
     "data": {
      "text/plain": [
       "3"
      ]
     },
     "execution_count": 85,
     "metadata": {},
     "output_type": "execute_result"
    }
   ],
   "source": [
    "TENSOR.ndim"
   ]
  },
  {
   "cell_type": "code",
   "execution_count": 88,
   "id": "a0ec3d16-2e0b-449b-87ee-e53b9a36da73",
   "metadata": {},
   "outputs": [
    {
     "data": {
      "text/plain": [
       "torch.Size([1, 3, 3])"
      ]
     },
     "execution_count": 88,
     "metadata": {},
     "output_type": "execute_result"
    }
   ],
   "source": [
    "TENSOR.shape"
   ]
  },
  {
   "cell_type": "code",
   "execution_count": 102,
   "id": "9667ad50-4200-47f5-b5f1-9397b41895de",
   "metadata": {},
   "outputs": [
    {
     "data": {
      "text/plain": [
       "tensor([[1, 2, 3],\n",
       "        [3, 6, 9],\n",
       "        [2, 4, 5]])"
      ]
     },
     "execution_count": 102,
     "metadata": {},
     "output_type": "execute_result"
    }
   ],
   "source": [
    "TENSOR[0]"
   ]
  },
  {
   "cell_type": "code",
   "execution_count": 107,
   "id": "c5f83941-7e3e-4410-a081-c7c30fb1279d",
   "metadata": {},
   "outputs": [
    {
     "ename": "IndexError",
     "evalue": "index 1 is out of bounds for dimension 0 with size 1",
     "output_type": "error",
     "traceback": [
      "\u001b[0;31m---------------------------------------------------------------------------\u001b[0m",
      "\u001b[0;31mIndexError\u001b[0m                                Traceback (most recent call last)",
      "Cell \u001b[0;32mIn[107], line 1\u001b[0m\n\u001b[0;32m----> 1\u001b[0m \u001b[43mTENSOR\u001b[49m\u001b[43m[\u001b[49m\u001b[38;5;241;43m1\u001b[39;49m\u001b[43m]\u001b[49m\n",
      "\u001b[0;31mIndexError\u001b[0m: index 1 is out of bounds for dimension 0 with size 1"
     ]
    }
   ],
   "source": [
    "TENSOR[1]"
   ]
  },
  {
   "cell_type": "code",
   "execution_count": 117,
   "id": "993f7e95-7226-422c-a8d4-c61c5da78071",
   "metadata": {},
   "outputs": [
    {
     "data": {
      "text/plain": [
       "tensor([1, 2, 3])"
      ]
     },
     "execution_count": 117,
     "metadata": {},
     "output_type": "execute_result"
    }
   ],
   "source": [
    "TENSOR[0][0]"
   ]
  },
  {
   "cell_type": "code",
   "execution_count": 122,
   "id": "547e7331-546b-446c-a0c8-685141c8787d",
   "metadata": {},
   "outputs": [
    {
     "data": {
      "text/plain": [
       "tensor([2, 4, 5])"
      ]
     },
     "execution_count": 122,
     "metadata": {},
     "output_type": "execute_result"
    }
   ],
   "source": [
    "TENSOR[0][2]"
   ]
  },
  {
   "cell_type": "markdown",
   "id": "02d5ac99-318c-449a-bf4b-c6aa629f8255",
   "metadata": {},
   "source": [
    "## Random Tensors\n",
    "Tensors represent some form of data.\n",
    "Machine learning models susch as neural networks manipulate and seek patterns within tensors. But when building machine learning models with PyTorch, it's rare you'll create tensors by hand. Instead, a machine learning model often starts out with large random tensors of numbers and adjusts these random numbers as it works throught data to better represent it.\n",
    "\n",
    "In essence:\n",
    "\n",
    "```\n",
    "Start with random numbers -> look at data -> update random numbers -> look at data -> update random numbers...\n",
    "````\n",
    "\n",
    "Lets create a tensor of random numbers.\n",
    "\n",
    "We can do so using `torch.rand()` and passing in the `size` parameter."
   ]
  },
  {
   "cell_type": "code",
   "execution_count": 94,
   "id": "c38e1f74-4841-4f16-ad10-48df2d5a8c02",
   "metadata": {},
   "outputs": [
    {
     "data": {
      "text/plain": [
       "(tensor([[0.7698, 0.8748, 0.3200, 0.9173],\n",
       "         [0.0349, 0.8915, 0.4879, 0.3367],\n",
       "         [0.0082, 0.0475, 0.0986, 0.5182]]),\n",
       " torch.float32)"
      ]
     },
     "execution_count": 94,
     "metadata": {},
     "output_type": "execute_result"
    }
   ],
   "source": [
    "# Create a random tensor of size (3, 4)\n",
    "random_tensor = torch.rand(size=(3, 4))\n",
    "random_tensor, random_tensor.dtype"
   ]
  },
  {
   "cell_type": "markdown",
   "id": "7f7ce1f9-993b-45da-ab25-b87f38d99233",
   "metadata": {},
   "source": [
    "The flexibility of `torch.rand()` is that we can adjust the `size` to be whatever we want.\n",
    "\n",
    "For example, say you wanted  a random tensor in the scommon image shape of `[224, 224, 3]` `([height, width, color_channels])`."
   ]
  },
  {
   "cell_type": "code",
   "execution_count": 218,
   "id": "fddfc8ac-5865-4f99-a06f-96343a887f5d",
   "metadata": {},
   "outputs": [
    {
     "data": {
      "text/plain": [
       "(torch.Size([224, 5, 3]), 3)"
      ]
     },
     "execution_count": 218,
     "metadata": {},
     "output_type": "execute_result"
    }
   ],
   "source": [
    "# Create a random tensor of size (224, 224, 3)\n",
    "random_image_size_tensor = torch.rand(size=(224, 5, 3))\n",
    "random_image_size_tensor.shape, random_image_size_tensor.ndim"
   ]
  },
  {
   "cell_type": "code",
   "execution_count": 221,
   "id": "c811d511-edf7-4196-a709-d07021af77fa",
   "metadata": {},
   "outputs": [
    {
     "data": {
      "text/plain": [
       "tensor([[[0.1611, 0.4704, 0.4695],\n",
       "         [0.6632, 0.6139, 0.9958],\n",
       "         [0.4580, 0.0316, 0.2574],\n",
       "         [0.7860, 0.6027, 0.7729],\n",
       "         [0.2386, 0.0367, 0.5478]],\n",
       "\n",
       "        [[0.8969, 0.6494, 0.5929],\n",
       "         [0.3647, 0.7664, 0.3178],\n",
       "         [0.3145, 0.2281, 0.7609],\n",
       "         [0.4816, 0.7887, 0.8978],\n",
       "         [0.7446, 0.4158, 0.1385]],\n",
       "\n",
       "        [[0.9762, 0.5909, 0.1351],\n",
       "         [0.5448, 0.5314, 0.8870],\n",
       "         [0.9934, 0.8699, 0.7640],\n",
       "         [0.7952, 0.8220, 0.8724],\n",
       "         [0.7941, 0.1118, 0.4573]],\n",
       "\n",
       "        ...,\n",
       "\n",
       "        [[0.1838, 0.3318, 0.6432],\n",
       "         [0.3355, 0.2979, 0.0470],\n",
       "         [0.0516, 0.6750, 0.9755],\n",
       "         [0.4237, 0.3471, 0.0161],\n",
       "         [0.5369, 0.4983, 0.9655]],\n",
       "\n",
       "        [[0.7195, 0.0725, 0.7615],\n",
       "         [0.8931, 0.7393, 0.8636],\n",
       "         [0.3742, 0.5550, 0.6185],\n",
       "         [0.8954, 0.3570, 0.0303],\n",
       "         [0.6586, 0.7897, 0.5219]],\n",
       "\n",
       "        [[0.7488, 0.1396, 0.6514],\n",
       "         [0.0350, 0.3677, 0.6284],\n",
       "         [0.6115, 0.6368, 0.2742],\n",
       "         [0.9120, 0.0039, 0.9691],\n",
       "         [0.8345, 0.4375, 0.9134]]])"
      ]
     },
     "execution_count": 221,
     "metadata": {},
     "output_type": "execute_result"
    }
   ],
   "source": [
    "random_image_size_tensor"
   ]
  },
  {
   "cell_type": "code",
   "execution_count": 224,
   "id": "f964f6b5-37a5-4d7b-b04e-6236624513cb",
   "metadata": {},
   "outputs": [
    {
     "data": {
      "text/plain": [
       "tensor([[0.1611, 0.4704, 0.4695],\n",
       "        [0.6632, 0.6139, 0.9958],\n",
       "        [0.4580, 0.0316, 0.2574],\n",
       "        [0.7860, 0.6027, 0.7729],\n",
       "        [0.2386, 0.0367, 0.5478]])"
      ]
     },
     "execution_count": 224,
     "metadata": {},
     "output_type": "execute_result"
    }
   ],
   "source": [
    "random_image_size_tensor[0]"
   ]
  },
  {
   "cell_type": "markdown",
   "id": "04876cc0-9407-4a93-83dc-05bd811cc91c",
   "metadata": {},
   "source": [
    "## Zeros and Ones\n",
    "Sometimes you;ll just want to fill tensors with zeros and ones.\n",
    "This happens a lot with masking (like masking some oaf the values in one tensor with zeros to let a model know not to learn them).\n",
    "\n",
    "Let's create a tensor full of zeros with `torch.zeros()`\n",
    "\n",
    "Again, the `size` parameter comes to play."
   ]
  },
  {
   "cell_type": "code",
   "execution_count": 230,
   "id": "f009837c-2753-4072-9b80-5b3f65901714",
   "metadata": {},
   "outputs": [
    {
     "data": {
      "text/plain": [
       "(tensor([[0., 0., 0., 0.],\n",
       "         [0., 0., 0., 0.],\n",
       "         [0., 0., 0., 0.]]),\n",
       " torch.float32)"
      ]
     },
     "execution_count": 230,
     "metadata": {},
     "output_type": "execute_result"
    }
   ],
   "source": [
    "## Create a tensor of all zeros\n",
    "zeros = torch.zeros(size=(3, 4))\n",
    "zeros, zeros.dtype"
   ]
  },
  {
   "cell_type": "markdown",
   "id": "ad1c313c-ec57-4713-9c15-291f3a744520",
   "metadata": {},
   "source": [
    "We can do the same to create a tensor of all ones excep using `torch.ones()` instead."
   ]
  },
  {
   "cell_type": "code",
   "execution_count": 236,
   "id": "5a605239-9635-4998-92cd-0503c0f4ed6d",
   "metadata": {},
   "outputs": [
    {
     "data": {
      "text/plain": [
       "(tensor([[1., 1., 1., 1.],\n",
       "         [1., 1., 1., 1.],\n",
       "         [1., 1., 1., 1.]]),\n",
       " torch.float32)"
      ]
     },
     "execution_count": 236,
     "metadata": {},
     "output_type": "execute_result"
    }
   ],
   "source": [
    "# Create a tensor of all ones\n",
    "ones = torch.ones(size=(3, 4))\n",
    "ones, ones.dtype"
   ]
  },
  {
   "cell_type": "markdown",
   "id": "ead83e3b-8346-4c83-957a-1fcba6b849e7",
   "metadata": {},
   "source": [
    "## Create a range and tensors like\n",
    "Sometimes you might want a range of numbers, such as 1 to 10 or 0 to 100.\n",
    "\n",
    "You can use `torch.arange(start, end, step)` to do so.\n",
    "\n",
    "Where:\n",
    "- `start` = start of range (eg., 0)\n",
    "- `end` = end of range (eg., 10)\n",
    "- `step` = how many steps in between each value (eg., 1)\n",
    "\n",
    "Note! In Python, you can use `range()` to create a range. However in PyTorch, `torch.range()` is deprecated and may show an aerror in the future."
   ]
  },
  {
   "cell_type": "code",
   "execution_count": 252,
   "id": "307a5154-b252-4485-a54b-665bfdeb0819",
   "metadata": {},
   "outputs": [
    {
     "data": {
      "text/plain": [
       "tensor([0, 1, 2, 3, 4, 5, 6, 7, 8, 9])"
      ]
     },
     "execution_count": 252,
     "metadata": {},
     "output_type": "execute_result"
    }
   ],
   "source": [
    "# Create a range of values 0 to 10\n",
    "zero_to_ten = torch.arange(start=0, end=10, step=1)\n",
    "zero_to_ten"
   ]
  },
  {
   "cell_type": "markdown",
   "id": "3ed1493d-c8f6-4810-8183-5ffdc01ec106",
   "metadata": {},
   "source": [
    "Sometimes you might want one tensor of a certain type with ther same shape as another tensor. For example, a tensor of all zeros with the same shape as a previous tensor.\n",
    "\n",
    "To do so you can use `torch.zeros_like(input)` or `torch.ones_like(input=zero_to_ten)` which return a tensor filled with zeros or ones in the same shape as the `input` respecively."
   ]
  },
  {
   "cell_type": "code",
   "execution_count": 258,
   "id": "055c61d5-94e7-42e7-859b-7a90aa613a28",
   "metadata": {},
   "outputs": [
    {
     "data": {
      "text/plain": [
       "tensor([0, 0, 0, 0, 0, 0, 0, 0, 0, 0])"
      ]
     },
     "execution_count": 258,
     "metadata": {},
     "output_type": "execute_result"
    }
   ],
   "source": [
    "# Can also create a tensor of zeros similar to another tensor\n",
    "ten_zeros = torch.zeros_like(input=zero_to_ten) # will have same shape\n",
    "ten_zeros"
   ]
  },
  {
   "cell_type": "markdown",
   "id": "d86fd29c-c075-45c0-a7bc-5fd78f7cc8bc",
   "metadata": {},
   "source": [
    "## Precision in Computing\n",
    "Precision is the amount of detail used to describe a number.\n",
    "\n",
    "The higher the precision value (8, 16, 32), the more detail and hence data used to express a number. \n",
    "\n",
    "This matters in deep learning and numerical computing because you're making so many operations, the more detail you have to calculate on, the more compute you have to use.\n",
    "\n",
    "So lower precision datatypes are generally faster to compute but sacrifice some performance on evaluation methorics like accuracy (faster to compute but less accurate)."
   ]
  },
  {
   "cell_type": "code",
   "execution_count": 264,
   "id": "3d88f5c9-2d7b-454d-92bc-8a59b0428874",
   "metadata": {},
   "outputs": [
    {
     "data": {
      "text/plain": [
       "(torch.Size([3]), torch.float32, device(type='cpu'))"
      ]
     },
     "execution_count": 264,
     "metadata": {},
     "output_type": "execute_result"
    }
   ],
   "source": [
    "# Default datatype for tensors is float32\n",
    "float_32_tensor = torch.tensor([3.0, 6.0, 9.0,],\n",
    "                                dtype=None, # defaults to None, which is torch.float32 or whatever datatype is passed\n",
    "                                device=None, # defaults to None, which uses the default tensor type\n",
    "                                requires_grad=False) # if True, operations performed on the tensor are recorded\n",
    "float_32_tensor.shape, float_32_tensor.dtype, float_32_tensor.device"
   ]
  },
  {
   "cell_type": "code",
   "execution_count": 269,
   "id": "cdf94b8b-32fa-4fbf-bdb2-fbbaeb4fc922",
   "metadata": {},
   "outputs": [
    {
     "data": {
      "text/plain": [
       "torch.float16"
      ]
     },
     "execution_count": 269,
     "metadata": {},
     "output_type": "execute_result"
    }
   ],
   "source": [
    "float_16_tensor = torch.tensor([3.0, 6.0, 9.0],\n",
    "                                dtype=torch.float16) # torch.float16) # torch.half would alsowork\n",
    "float_16_tensor.dtype"
   ]
  },
  {
   "cell_type": "markdown",
   "id": "b465dcbc-7bd6-4905-bcef-0d68c985807e",
   "metadata": {},
   "source": [
    "## Getting Information from Tensors\n",
    "- `shape`: what shape is the tensor? (some operations require specific shape rules)\n",
    "- `dtype`: what datatype are the "
   ]
  }
 ],
 "metadata": {
  "kernelspec": {
   "display_name": "Python 3 (ipykernel)",
   "language": "python",
   "name": "python3"
  },
  "language_info": {
   "codemirror_mode": {
    "name": "ipython",
    "version": 3
   },
   "file_extension": ".py",
   "mimetype": "text/x-python",
   "name": "python",
   "nbconvert_exporter": "python",
   "pygments_lexer": "ipython3",
   "version": "3.9.20"
  }
 },
 "nbformat": 4,
 "nbformat_minor": 5
}
