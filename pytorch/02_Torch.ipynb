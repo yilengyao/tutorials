{
 "cells": [
  {
   "cell_type": "markdown",
   "id": "12f5c813-4c6c-42db-b3f0-c4ef942b1fb0",
   "metadata": {},
   "source": [
    "# PyTorch Neural Network Classification\n",
    "## What is a classification problem?\n",
    "A classification problem involves predicting whether something is one thing or another.\n",
    "\n",
    "|Problem type|What is it?|Example|\n",
    "|--|--|--|\n",
    "|Binary classification|Target can be one of two options, eg., yes or no|Predict whether or not someone has heart disease based on their health parameters.|\n",
    "|Multi-class classification|Target can be one of more than two options|Decide whether a photo is of food, a person or a dog.|\n",
    "|Multi-label classifcation|Target can be assigned more than one option|Predict what category is should be assigned to a Wikipedia article (eg., mathematics, science or philosophy).|"
   ]
  },
  {
   "cell_type": "markdown",
   "id": "6c1defc1-9672-41ab-b38d-f98c46139b8c",
   "metadata": {},
   "source": [
    "## Architecture of a classification neural network\n",
    "\n",
    "|Hyperparameter|Binary Classification|Multiclass classification|\n",
    "|--|--|--|\n",
    "|Input layer shape (in_features)|Same as number of features (eg., 5 for age, sex, height, weight, smoking status in heart disease prediction)|Same as binary classfication|\n",
    "|Hidden layer(s)|Problem specific, minimum = 1, maximum = unlimited|Same as binary classfication|\n",
    "|Neurons per hidden layer|problem specific, generally 10 to 512|Same as binary classification|\n",
    "|Output layer shape (out_features )|1 (one class or the other)|1 per class (eg., 3 for food, person, or dog photo)|\n",
    "|Hidden layer activation|Usually ReLU but can be many others|same as binary classification|\n",
    "|Output activation|Sigmoid (torch.sigmoid in PyTorch)|Softmax (torch.softmax in PyTorch)|\n",
    "|Loss function|Binary crossentropy (torch.nn.BCELoss in PyTorch)|Cross entropy (torch.nn.CrossEntropyLoss in PyTorch)|\n",
    "|Optimizer|SGD (Stochastic gradient descent), Adam (torch.optim)|Same as binary classification|"
   ]
  },
  {
   "cell_type": "markdown",
   "id": "6ef08008-e492-4eb1-8786-0969398fc975",
   "metadata": {},
   "source": [
    "### 1. Make classification data and get it ready\n",
    "Let's begin by making some data.\n",
    "\n",
    "We will use the `make_circles()` method from Scikit-Learn to generate two circles with different coloured dots."
   ]
  },
  {
   "cell_type": "code",
   "execution_count": 111,
   "id": "2db01e9e-7e15-4748-b6ed-98687ecd6a5b",
   "metadata": {},
   "outputs": [],
   "source": [
    "!pip install -q -q scikit-learn"
   ]
  },
  {
   "cell_type": "code",
   "execution_count": 7,
   "id": "89185629-e886-4b8a-b955-6070e571a5fa",
   "metadata": {},
   "outputs": [],
   "source": [
    "from sklearn.datasets import make_circles\n",
    "\n",
    "# Make 1000 samples\n",
    "n_samples = 1000\n",
    "\n",
    "# Create circles\n",
    "X, y = make_circles(n_samples,\n",
    "                    noise=0.03, # a little bit of noise to the dots\n",
    "                    random_state=42) # keep random state so we get the same values"
   ]
  },
  {
   "cell_type": "markdown",
   "id": "49e67289-0052-4545-95ff-2d388dcf7435",
   "metadata": {},
   "source": [
    "Alright, now let's view the first 5 X and y values."
   ]
  },
  {
   "cell_type": "code",
   "execution_count": 11,
   "id": "cc6a8add-2188-4fe8-8c28-68004a0c47c4",
   "metadata": {},
   "outputs": [
    {
     "name": "stdout",
     "output_type": "stream",
     "text": [
      "First 5 X features:\n",
      "[[ 0.75424625  0.23148074]\n",
      " [-0.75615888  0.15325888]\n",
      " [-0.81539193  0.17328203]\n",
      " [-0.39373073  0.69288277]\n",
      " [ 0.44220765 -0.89672343]]\n",
      "\n",
      "First 5 y labels:\n",
      "[1 1 1 1 0]\n"
     ]
    }
   ],
   "source": [
    "print(f\"First 5 X features:\\n{X[:5]}\")\n",
    "print(f\"\\nFirst 5 y labels:\\n{y[:5]}\")"
   ]
  },
  {
   "cell_type": "markdown",
   "id": "ccb61870-1f18-48f4-a8d9-dac3ccde846d",
   "metadata": {},
   "source": [
    "Looks like there's two X values per one y value.\n",
    "\n",
    "Let's keep following the data explorer's motto of visualize, visualize, visualize and put them into a pandas DataFrame."
   ]
  },
  {
   "cell_type": "code",
   "execution_count": 14,
   "id": "3c7c29ef-e454-4dcd-9817-e8637227485a",
   "metadata": {},
   "outputs": [
    {
     "name": "stdout",
     "output_type": "stream",
     "text": [
      "Requirement already satisfied: pandas in /home/yi/Documents/tutorials/tutorials/.venv/lib/python3.12/site-packages (2.2.3)\n",
      "Requirement already satisfied: numpy>=1.26.0 in /home/yi/Documents/tutorials/tutorials/.venv/lib/python3.12/site-packages (from pandas) (2.2.1)\n",
      "Requirement already satisfied: python-dateutil>=2.8.2 in /home/yi/Documents/tutorials/tutorials/.venv/lib/python3.12/site-packages (from pandas) (2.9.0.post0)\n",
      "Requirement already satisfied: pytz>=2020.1 in /home/yi/Documents/tutorials/tutorials/.venv/lib/python3.12/site-packages (from pandas) (2024.2)\n",
      "Requirement already satisfied: tzdata>=2022.7 in /home/yi/Documents/tutorials/tutorials/.venv/lib/python3.12/site-packages (from pandas) (2024.2)\n",
      "Requirement already satisfied: six>=1.5 in /home/yi/Documents/tutorials/tutorials/.venv/lib/python3.12/site-packages (from python-dateutil>=2.8.2->pandas) (1.17.0)\n"
     ]
    }
   ],
   "source": [
    "!pip install pandas"
   ]
  },
  {
   "cell_type": "code",
   "execution_count": 15,
   "id": "7cc85801-1e60-4f3e-9a68-833ea60a3cdc",
   "metadata": {},
   "outputs": [
    {
     "data": {
      "text/html": [
       "<div>\n",
       "<style scoped>\n",
       "    .dataframe tbody tr th:only-of-type {\n",
       "        vertical-align: middle;\n",
       "    }\n",
       "\n",
       "    .dataframe tbody tr th {\n",
       "        vertical-align: top;\n",
       "    }\n",
       "\n",
       "    .dataframe thead th {\n",
       "        text-align: right;\n",
       "    }\n",
       "</style>\n",
       "<table border=\"1\" class=\"dataframe\">\n",
       "  <thead>\n",
       "    <tr style=\"text-align: right;\">\n",
       "      <th></th>\n",
       "      <th>X1</th>\n",
       "      <th>X2</th>\n",
       "      <th>label</th>\n",
       "    </tr>\n",
       "  </thead>\n",
       "  <tbody>\n",
       "    <tr>\n",
       "      <th>0</th>\n",
       "      <td>0.754246</td>\n",
       "      <td>0.231481</td>\n",
       "      <td>1</td>\n",
       "    </tr>\n",
       "    <tr>\n",
       "      <th>1</th>\n",
       "      <td>-0.756159</td>\n",
       "      <td>0.153259</td>\n",
       "      <td>1</td>\n",
       "    </tr>\n",
       "    <tr>\n",
       "      <th>2</th>\n",
       "      <td>-0.815392</td>\n",
       "      <td>0.173282</td>\n",
       "      <td>1</td>\n",
       "    </tr>\n",
       "    <tr>\n",
       "      <th>3</th>\n",
       "      <td>-0.393731</td>\n",
       "      <td>0.692883</td>\n",
       "      <td>1</td>\n",
       "    </tr>\n",
       "    <tr>\n",
       "      <th>4</th>\n",
       "      <td>0.442208</td>\n",
       "      <td>-0.896723</td>\n",
       "      <td>0</td>\n",
       "    </tr>\n",
       "    <tr>\n",
       "      <th>5</th>\n",
       "      <td>-0.479646</td>\n",
       "      <td>0.676435</td>\n",
       "      <td>1</td>\n",
       "    </tr>\n",
       "    <tr>\n",
       "      <th>6</th>\n",
       "      <td>-0.013648</td>\n",
       "      <td>0.803349</td>\n",
       "      <td>1</td>\n",
       "    </tr>\n",
       "    <tr>\n",
       "      <th>7</th>\n",
       "      <td>0.771513</td>\n",
       "      <td>0.147760</td>\n",
       "      <td>1</td>\n",
       "    </tr>\n",
       "    <tr>\n",
       "      <th>8</th>\n",
       "      <td>-0.169322</td>\n",
       "      <td>-0.793456</td>\n",
       "      <td>1</td>\n",
       "    </tr>\n",
       "    <tr>\n",
       "      <th>9</th>\n",
       "      <td>-0.121486</td>\n",
       "      <td>1.021509</td>\n",
       "      <td>0</td>\n",
       "    </tr>\n",
       "  </tbody>\n",
       "</table>\n",
       "</div>"
      ],
      "text/plain": [
       "         X1        X2  label\n",
       "0  0.754246  0.231481      1\n",
       "1 -0.756159  0.153259      1\n",
       "2 -0.815392  0.173282      1\n",
       "3 -0.393731  0.692883      1\n",
       "4  0.442208 -0.896723      0\n",
       "5 -0.479646  0.676435      1\n",
       "6 -0.013648  0.803349      1\n",
       "7  0.771513  0.147760      1\n",
       "8 -0.169322 -0.793456      1\n",
       "9 -0.121486  1.021509      0"
      ]
     },
     "execution_count": 15,
     "metadata": {},
     "output_type": "execute_result"
    }
   ],
   "source": [
    "# Make DataFrame of circle data\n",
    "import pandas as pd\n",
    "circles = pd.DataFrame({\"X1\": X[:, 0],\n",
    "    \"X2\": X[:, 1],\n",
    "    \"label\": y\n",
    "})\n",
    "circles.head(10)"
   ]
  },
  {
   "cell_type": "markdown",
   "id": "a0ac2ed6-bc58-4b96-851c-dbf5d49d897c",
   "metadata": {},
   "source": [
    "It looks like each pair of X features (X1 and X2) has a label (y) value of either 0 or 1.\n",
    "\n",
    "This tells us that our problem is binary classification since there's only two options (0 or 1).\n",
    "\n",
    "How many values of each class are there?"
   ]
  },
  {
   "cell_type": "code",
   "execution_count": 17,
   "id": "d04b268f-a550-4762-997a-6f21eda69f3f",
   "metadata": {},
   "outputs": [
    {
     "data": {
      "text/plain": [
       "label\n",
       "1    500\n",
       "0    500\n",
       "Name: count, dtype: int64"
      ]
     },
     "execution_count": 17,
     "metadata": {},
     "output_type": "execute_result"
    }
   ],
   "source": [
    "# Check different labels\n",
    "circles.label.value_counts()"
   ]
  },
  {
   "cell_type": "markdown",
   "id": "60987049-2bf1-4bd8-a52a-05b5e97c5410",
   "metadata": {},
   "source": [
    "Let's plot them."
   ]
  },
  {
   "cell_type": "code",
   "execution_count": 22,
   "id": "e7f34054-2087-4826-97e9-31192f11f80b",
   "metadata": {},
   "outputs": [
    {
     "data": {
      "image/png": "[encoded data removed]",
      "text/plain": [
       "<Figure size 640x480 with 1 Axes>"
      ]
     },
     "metadata": {},
     "output_type": "display_data"
    }
   ],
   "source": [
    "# Visualize with a plot\n",
    "import matplotlib.pyplot as plt\n",
    "plt.scatter(x=X[:, 0], \n",
    "            y=X[:, 1], \n",
    "            c=y, \n",
    "            cmap=plt.cm.RdYlBu);"
   ]
  },
  {
   "cell_type": "markdown",
   "id": "05d7b77e-4717-4d7c-b82e-37182e786f92",
   "metadata": {},
   "source": [
    "Alrighty, looks like we've got a problem to solve.\n",
    "\n",
    "Let's find out how we could build a PyTorch neural network to classify dots into red (0) or blue (1)."
   ]
  },
  {
   "cell_type": "markdown",
   "id": "8398d75e-de09-4918-8b3b-8c19de775261",
   "metadata": {},
   "source": [
    "#### 1.1 Input and output shapes\n",
    "One of the most scommon erros in deep learning is shape errors.\n",
    "Mismatching the shapes of tensors and tensor operations iwll result in errors in yoru models.\n",
    "We're going to see plenty of these throughout the course.\n",
    "And there's no surefire way to make sure they won't happen, they will.\n",
    "What you can do instead is continually familiarize yourself with the shape of tyhe data you're working with.\n",
    "I like referring to it as inout and output shapes."
   ]
  },
  {
   "cell_type": "code",
   "execution_count": 27,
   "id": "180e5ba2-26db-480d-b713-d5bad0857fea",
   "metadata": {},
   "outputs": [
    {
     "data": {
      "text/plain": [
       "((1000, 2), (1000,))"
      ]
     },
     "execution_count": 27,
     "metadata": {},
     "output_type": "execute_result"
    }
   ],
   "source": [
    "# Check the shapes of our fetures and labels\n",
    "X.shape, y.shape"
   ]
  },
  {
   "cell_type": "markdown",
   "id": "dcdb3bab-a7e3-4809-aab9-c8aa6431786d",
   "metadata": {},
   "source": [
    "Looks like we've got a match on the first dimension of each.\n",
    "\n",
    "There's 1000 X and 1000 y.\n",
    "\n",
    "But what's the second dimension on X?\n",
    "\n",
    "It often helps to view the values and shapes of a single sample (features and labels).\n",
    "\n",
    "Doing so will help you understand what input and output shapes you'd be expecting from your model"
   ]
  },
  {
   "cell_type": "code",
   "execution_count": 30,
   "id": "d7fb6a98-bb44-4887-a71a-206aafb71491",
   "metadata": {},
   "outputs": [
    {
     "name": "stdout",
     "output_type": "stream",
     "text": [
      "Values for one sample of X: [0.75424625 0.23148074] and the same for y: 1\n",
      "Shapes for one sample of X: (2,) and the same for y: ()\n"
     ]
    }
   ],
   "source": [
    "# View the first example of features and labels\n",
    "X_sample = X[0]\n",
    "y_sample = y[0]\n",
    "print(f\"Values for one sample of X: {X_sample} and the same for y: {y_sample}\")\n",
    "print(f\"Shapes for one sample of X: {X_sample.shape} and the same for y: {y_sample.shape}\")"
   ]
  },
  {
   "cell_type": "markdown",
   "id": "b0f0ee80-ac05-409e-ba3f-a8ed050377f6",
   "metadata": {},
   "source": [
    "#### 1.2 Turn data into tensors and careate train and test splits\n",
    "We've investigated the input and output shapes of our data, not let's prepare it for being used with PyTorch and for modelling.\n",
    "\n",
    "Specifically, we'll need to:\n",
    "1. Turn our data into tensors (right now our data is in NumPy arrays and PyTorch prefers to work with PyTorch tensors).\n",
    "2. Split our data into training and test sets (we'll train a model on the traiing set to learn the patterns between `X` and `y` and then evaluate theose learned patterns on the test dataset)"
   ]
  },
  {
   "cell_type": "code",
   "execution_count": 33,
   "id": "6efee1d1-ab5b-4376-9238-f64e6f0e2822",
   "metadata": {},
   "outputs": [
    {
     "data": {
      "text/plain": [
       "(tensor([[ 0.7542,  0.2315],\n",
       "         [-0.7562,  0.1533],\n",
       "         [-0.8154,  0.1733],\n",
       "         [-0.3937,  0.6929],\n",
       "         [ 0.4422, -0.8967]]),\n",
       " tensor([1., 1., 1., 1., 0.]))"
      ]
     },
     "execution_count": 33,
     "metadata": {},
     "output_type": "execute_result"
    }
   ],
   "source": [
    "# Turn data into tensors\n",
    "# Otherwise this cause issues with computations later on\n",
    "import torch\n",
    "X = torch.from_numpy(X).type(torch.float)\n",
    "y = torch.from_numpy(y).type(torch.float)\n",
    "\n",
    "# View the first five samples\n",
    "X[:5], y[:5]"
   ]
  },
  {
   "cell_type": "markdown",
   "id": "4ed5a755-3c0f-4e38-a680-048dc0bc1c43",
   "metadata": {},
   "source": [
    "Now our data is in tensor format, let's split it into training and test sets.\n",
    "\n",
    "To do so, let's use the helpful function `train_test_split()` from Scikit-Learn.\n",
    "\n",
    "We'll use `test_size=0.2` (80% training, 20% testing) and because the split happends randomly across the data, let's use `random_state=42` so the split is reproducible."
   ]
  },
  {
   "cell_type": "code",
   "execution_count": 35,
   "id": "4ce5ac42-de27-40b3-b46b-1382d49df602",
   "metadata": {},
   "outputs": [
    {
     "data": {
      "text/plain": [
       "(800, 200, 800, 200)"
      ]
     },
     "execution_count": 35,
     "metadata": {},
     "output_type": "execute_result"
    }
   ],
   "source": [
    "# Split data into train and test sets\n",
    "from sklearn.model_selection import train_test_split\n",
    "\n",
    "X_train, X_test, y_train, y_test = train_test_split(X,\n",
    "                                                    y,\n",
    "                                                    test_size=0.2, # 20% test, 80% train\n",
    "                                                    random_state=42) # make the random split reproducible\n",
    "\n",
    "len(X_train), len(X_test), len(y_train), len(y_test)"
   ]
  },
  {
   "cell_type": "markdown",
   "id": "af1e8ee7-b40b-4294-adc5-bb6f7149f9ab",
   "metadata": {},
   "source": [
    "### 2. Building a model\n",
    "We've got some data ready, now it's time to build a model.\n",
    "\n",
    "We'll break it down into a few parts.\n",
    "1. Setting up device agnostic code (so our model can run on CPU or GPU it it's available)j.\n",
    "2. constructing a model by subclassing `nn.Module`.\n",
    "3. Defining a loss function and optimizer.\n",
    "4. Creating a training loop (this'll be in the next section).\n",
    "\n",
    "The good news is we've been through all of the above steps before in notebook 01.\n",
    "\n",
    "Except now we'll be adjusting them so they work with a classification dataset.\n",
    "\n",
    "Let's start by importing PyTorch and `torch.nn` as well as settting up device agnostic code."
   ]
  },
  {
   "cell_type": "code",
   "execution_count": 39,
   "id": "1ec35940-77ee-4ecd-a73a-45d269f90370",
   "metadata": {},
   "outputs": [
    {
     "data": {
      "text/plain": [
       "'cuda'"
      ]
     },
     "execution_count": 39,
     "metadata": {},
     "output_type": "execute_result"
    }
   ],
   "source": [
    "# Standard PyTorch imports\n",
    "import torch\n",
    "from torch import nn\n",
    "\n",
    "# Make device agnostic code\n",
    "device = \"cuda\" if torch.cuda.is_available() else \"cpu\"\n",
    "device"
   ]
  },
  {
   "cell_type": "markdown",
   "id": "310e260b-e620-47e8-9eb0-72a692d5d5db",
   "metadata": {},
   "source": [
    "How about we create a model?\n",
    "\n",
    "We'll wwant a model capable of handling our `X` data as inputs and producing somehing in the shape of our `y` data as outputs.\n",
    "\n",
    "In other workds, given `X` (features) we want our model to predict `y` (label).\n",
    "\n",
    "This setup where you have features and labels is referred to as supervised learning. Because your data is telling yoru model what the outputs should be given a certain input.\n",
    "\n",
    "To create such a model it'll need to handle the input and output shapes fo `X` and `y`.\n",
    "\n",
    "Remember how I said inpout and output shapes are important? Here we'll see why.\n",
    "\n",
    "Let's create a model class that:\n",
    "\n",
    "1. Subclasses `nn.Module` (almost all PyTorch models are subclasses of `nn.lModule`).\n",
    "2. Create 2 `nn.Linear` layers in the constructor capable of handling the input and output shapes of `X` and `y`.\n",
    "3. Defines a `forward()` method containing the forward pass computation of the model.\n",
    "4. Instantiates the model class and sends it to the target `device`."
   ]
  },
  {
   "cell_type": "code",
   "execution_count": 43,
   "id": "831f0603-4bc1-4454-babc-5f9c84ba05f2",
   "metadata": {},
   "outputs": [
    {
     "data": {
      "text/plain": [
       "CircleModelV0(\n",
       "  (layer_1): Linear(in_features=2, out_features=5, bias=True)\n",
       "  (layer_2): Linear(in_features=5, out_features=1, bias=True)\n",
       ")"
      ]
     },
     "execution_count": 43,
     "metadata": {},
     "output_type": "execute_result"
    }
   ],
   "source": [
    "# 1. Construct a model class that subclasses nn.Module\n",
    "class CircleModelV0(nn.Module):\n",
    "    def __init__(self):\n",
    "        super().__init__()\n",
    "        # 2. Create 2 nn.Linear layers capable of handling X and y input and output shapes\n",
    "        self.layer_1 = nn.Linear(in_features=2, out_features=5) # takes in 2 features (X), produces 5 features\n",
    "        self.layer_2 = nn.Linear(in_features=5, out_features=1) # takes in 5 features, produces 1 feature (y)\n",
    "\n",
    "        # 3. Define a forward method containing the forward pass computation\n",
    "        def forward(self, x):\n",
    "            # Return the joutput of layer_2, a single feature, the same shape as y\n",
    "            return self.layer_2(self.layer_1(x)) # computation goes through layer_1 first then the output of layer_1 goes through layer_2\n",
    "\n",
    "# 4. Create an instance of the model and send it to target device\n",
    "model_0 = CircleModelV0().to(device)\n",
    "model_0"
   ]
  },
  {
   "cell_type": "markdown",
   "id": "7aa25582-71a0-4533-ba0d-8075ac659235",
   "metadata": {},
   "source": [
    "What's going on here?\n",
    "\n",
    "We've seen a few of these steps before.\n",
    "\n",
    "The only major change is what's happening between `self.layer_1` and `self.layer_2`.\n",
    "\n",
    "`self.layer_1` takes 2 input features `in_features=2` and produces 5 output features `out_features=5`.\n",
    "\n",
    "This is known as having 5 hidden units or neurons.\n",
    "\n",
    "Why do this?\n",
    "\n",
    "This allows the model to learn pattern from 5 numbers rather than just 2 numbers, potentially leading to better outputs.\n",
    "\n",
    "I say potentially because sometimes it doesn't work.\n",
    "\n",
    "The number of hidden units you can use in neural network layers is a hyperparameter (a value you can set yourself) and there's no set in stone value you have to use.\n",
    "\n",
    "Generally more is better but there's also such a thing as too much. the amount you choose will depend on your lmodel type and dataset you're working with.\n",
    "\n",
    "Since our dataset is small and simple, we'll keep it small.\n",
    "\n",
    "The only rule with hidden units is that th next layer, in our case, `self.layer_2` has to take the same `in_features` as the previous layer `out_features`.\n",
    "\n",
    "That's why `self.layer_2` and `in_features=5`, it takes the `out_features=5` from `self.layer_1` and performs a linear computation on them, turning them into `out_fautres=1` (the same shape as `y`).\n",
    "\n",
    "You can also do the same as above using `nn.Sequential`.\n",
    "\n",
    "`nn.Sequential` perofrms a forward pass computation of the input data through the layers in the order they appear."
   ]
  },
  {
   "cell_type": "code",
   "execution_count": 47,
   "id": "c97f8922-2b29-4100-b1ff-d7e8d2399dd5",
   "metadata": {},
   "outputs": [
    {
     "data": {
      "text/plain": [
       "Sequential(\n",
       "  (0): Linear(in_features=2, out_features=5, bias=True)\n",
       "  (1): Linear(in_features=5, out_features=1, bias=True)\n",
       ")"
      ]
     },
     "execution_count": 47,
     "metadata": {},
     "output_type": "execute_result"
    }
   ],
   "source": [
    "# Replicate circleModelV0 with nn.Sequential\n",
    "model_0 = nn.Sequential(\n",
    "    nn.Linear(in_features=2, out_features=5),\n",
    "    nn.Linear(in_features=5, out_features=1)\n",
    ").to(device)\n",
    "\n",
    "model_0"
   ]
  },
  {
   "cell_type": "markdown",
   "id": "e4300da6-b2f1-4b42-86c9-dd2dcd77795a",
   "metadata": {},
   "source": [
    "Woah, that looks much simpler that subclassing `nn.Module`, why not just always use `nn.Sequential`? \n",
    "\n",
    "`nn.Sequential` is fantastic for straight-forward computations, however, as teh namespace says, it always runs in sequential order.\n",
    "\n",
    "So if you'd like something else to happen (rather than just straight=forward sequential computation) you'll want to define your own custom `nn.Module` subclass.\n",
    "\n",
    "Now we've got a model, let's see what happens when we pass some data through it."
   ]
  },
  {
   "cell_type": "code",
   "execution_count": 52,
   "id": "92dfb494-9d83-4d98-9c8d-cbbb5352d6d1",
   "metadata": {},
   "outputs": [
    {
     "name": "stdout",
     "output_type": "stream",
     "text": [
      "Length of predictions: 200, Shape: torch.Size([200, 1])\n",
      "Length of test samples: 200, Shape: torch.Size([200])\n",
      "\n",
      "First 10 predictions:\n",
      "tensor([[-0.9975],\n",
      "        [-0.9916],\n",
      "        [-0.8249],\n",
      "        [-1.0471],\n",
      "        [-0.5265],\n",
      "        [-0.5252],\n",
      "        [-0.7452],\n",
      "        [-0.6352],\n",
      "        [-0.8378],\n",
      "        [-0.9879]], device='cuda:0', grad_fn=<SliceBackward0>)\n",
      "\n",
      "First 10 test labels:\n",
      "tensor([1., 0., 1., 0., 1., 1., 0., 0., 1., 0.])\n"
     ]
    }
   ],
   "source": [
    "# Make predictions with the model\n",
    "untrained_preds = model_0(X_test.to(device))\n",
    "print(f\"Length of predictions: {len(untrained_preds)}, Shape: {untrained_preds.shape}\")\n",
    "print(f\"Length of test samples: {len(y_test)}, Shape: {y_test.shape}\")\n",
    "print(f\"\\nFirst 10 predictions:\\n{untrained_preds[:10]}\")\n",
    "print(f\"\\nFirst 10 test labels:\\n{y_test[:10]}\")"
   ]
  },
  {
   "cell_type": "markdown",
   "id": "f70a2eed-fbb2-449d-b214-b345bbbfce17",
   "metadata": {},
   "source": [
    "#### 2.1 Setup loss function and optimizer\n",
    "We've setup a loss (also called a criterion or cost function) and optimizer in notebook 01.\n",
    "\n",
    "But different problem types require different loss functions.\n",
    "\n",
    "For example, for a regression problem (predicting a number) you might use mean absolute error (MAE) loss.\n",
    "\n",
    "And for a binary classification problem (like ours), you'll often use binary cross entropy as the loss function.\n",
    "\n",
    "However, the same optimizer function can often be used across different problem spaces.\n",
    "\n",
    "For example, the stochastic gradient descent optimizer (SGD, `torch.optim.SGD()`) can be used for a range of problems, and the same applies to the Adam optimizer `torch.optim.Adam()`).\n",
    "\n",
    "|Loss function/Optimizer|Problem type|PyTorch Code|\n",
    "|--|--|--|\n",
    "|Stochastic Gradient Descent (SGD) optimizer|Classification, regression, many others.|`torch.optim.SGD()`|\n",
    "|Adam Optimizer|Classification, regression, many others.|`torch.optim.Adam()`|\n",
    "|Binary cross entropy loss|Binary classification|`torch.nn.BCELossWithLogits` or `torch.nn.BCELoss`|\n",
    "|Cross entropy loss|Multi-class classification|`torch.nn.CrossEntropyLoss`|\n",
    "|Mean absolute error (MAE) or L1 Loss|Regression|`torch.nn.L1Loss`|\n",
    "|Mean squared error (MSE) or L2 Loss|Regression|`torch.nn.MSELoss`|\n",
    "\n",
    "PyTorch has 2 binary cross entropy implementations:\n",
    "1. `torch.nn.BCELoss()`: Creates a loss function taht measures the binary cross entropy between the target (label) and input (features).\n",
    "2. `torch.nn.BCEWithLogitsLoss()`: This is the same as above except it has a sigmoid layer (`nn.sigmoid`) built-in (we'll see what this means soon).\n",
    "\n",
    "Which one should you use?\n",
    "\n",
    "The documentation for `torch.nn.BCEWithLogictsLoss()` states that it's more numerically stable than using `torch.nn.BCELoss()` after a `nn.Sigmoid` layer.\n",
    "\n",
    "So generally, implementation 2 is a better option. However for advanced usage, you may want to separate the combination of `nn.Sigmoid` and `torch.nn.BCELoss()` but that is beyond the scope of this notebook.\n",
    "\n",
    "Knowing this, let's create a loss function and an optimizer.\n",
    "\n",
    "For the optimizer we'll use `torch.optim.SGD()` to optimze the model parameters with learning rate 0.1."
   ]
  },
  {
   "cell_type": "code",
   "execution_count": 57,
   "id": "1232b4ea-d5aa-48c2-a108-1bd9f4530634",
   "metadata": {},
   "outputs": [],
   "source": [
    "# Create a loss function\n",
    "# loss_fn = nn.BCELoss() # BCELoss = no sigmoid built0in\n",
    "loss_fn = nn.BCEWithLogitsLoss() # BCEWithLogitsLoss = sigmoid built-in\n",
    "\n",
    "# Create an optimizer\n",
    "optimizer = torch.optim.SGD(params=model_0.parameters(),\n",
    "                            lr=0.1)"
   ]
  },
  {
   "cell_type": "markdown",
   "id": "c950b8d3-29d4-4d06-88e9-19cf8df56d16",
   "metadata": {},
   "source": [
    "Now let's also crate an evaluation metric.\n",
    "\n",
    "An evaluation metric can be used to offer another perspective on how your model is going.\n",
    "\n",
    "If a loss funciton measures how wrong your model is, I like to think of evaluation metrics as measuring how right it is.\n",
    "\n",
    "Of course, you could argue bot hof these are doing the same thing but evaluation metrics offer a different perspective.\n",
    "\n",
    "After all, when evaluating your models it's good to look at things from multiple points of view.\n",
    "\n",
    "There are several evaluation metrics that can be used for classification broblems but let's start out with accuracy.\n",
    "\n",
    "Accuracy can be mesured by dividing the total number of correct predictions over the toal number of predictions.\n",
    "\n",
    "For example, a model that makes 99 correct predictions out of 100 will have an accuracy of 99%.\n",
    "\n",
    "Let's write a function to do so."
   ]
  },
  {
   "cell_type": "code",
   "execution_count": 61,
   "id": "aa3eb4a6-dde3-4a8d-8eb3-c35095f66b53",
   "metadata": {},
   "outputs": [],
   "source": [
    "# Calculate accuracy (a classification metric)\n",
    "def accuracy_fn(y_true, y_pred):\n",
    "    correct = torch.eq(y_true, y_pred).sum().item() # torch.eq() calculates where two tensors are equal\n",
    "    acc = (correct / len(y_pred)) * 100 \n",
    "    return acc"
   ]
  },
  {
   "cell_type": "markdown",
   "id": "b459e9a4-e9ea-48de-83ce-98f87b9219cc",
   "metadata": {},
   "source": [
    "### 3. Train model\n",
    "PyTorch training loop steps\n",
    "1. Forward pass: The model goes through all of the training data once, performing its `forward()` function calculations (`model(x_train)`).\n",
    "2. Calculate the loss: the modle's outputs (predictions) are compared to the ground truth and evaluated to see how wrong they are (`loss = loss_fn(y_pred, y_train`)\n",
    "3. Zero gradients: The optimizers gradients are set to zero (they are accumulated by default) so they can be recalculated for the specific training step (`optimizer.zero_grad()`)\n",
    "4. Perform backpropagation on the loss: Computes the gradient of the loss with respect for every model parameter to be updated (each parameter with `requires_grad=True`). This is known as backpropagation, hence \"backwards\" (`loss.backward()`).\n",
    "5. Step the optimizer (gradient descent): Update the parameters with `requires_grad=True` with respect to the loss gradients in order to improve them (`optimizer.step()`).\n",
    "\n",
    "#### 3.1 Going from faw model outputs to predicted labels (logits -> probabilites -> prediction labels)\n",
    "\n",
    "Before the training loop steps, let's see what comes out of our model during kthe forward pass (the forward pass is defined by the `forward()` method).\n",
    "\n",
    "To do so, let's pass the model some data."
   ]
  },
  {
   "cell_type": "code",
   "execution_count": 65,
   "id": "63df2869-1ae3-4eaa-8f7f-f508b99d09bb",
   "metadata": {},
   "outputs": [
    {
     "data": {
      "text/plain": [
       "tensor([[-0.9975],\n",
       "        [-0.9916],\n",
       "        [-0.8249],\n",
       "        [-1.0471],\n",
       "        [-0.5265]], device='cuda:0', grad_fn=<SliceBackward0>)"
      ]
     },
     "execution_count": 65,
     "metadata": {},
     "output_type": "execute_result"
    }
   ],
   "source": [
    "# View the first 5 outputs of the forward pass on the test data\n",
    "y_logits = model_0(X_test.to(device))[:5]\n",
    "y_logits"
   ]
  },
  {
   "cell_type": "markdown",
   "id": "72efef48-1114-4c1c-a2a4-57db76b66e98",
   "metadata": {},
   "source": [
    "Since our model hasn't been trained, these outputs are basically random.\n",
    "\n",
    "But what are they?\n",
    "\n",
    "They're the output of our `forward()` method.\n",
    "\n",
    "Which implements two layers of `nn.Layers()` which internally calls the following equation:\n",
    "\n",
    "$\n",
    "y = x \\cdot Weigths^T + bias\n",
    "$\n",
    "\n",
    "The raw outputs (unmodified) of this equation (y) and in turn , the raw outputs of our model are often referred to as logits.\n",
    "\n",
    "That's what our model is outputing above when it takes in the input data (x in the equation or `X_test` in the code), logits.\n",
    "\n",
    "However, these numbers are hard to interpret.\n",
    "\n",
    "We'd linke some numbers that are comparable to our truth labels.\n",
    "\n",
    "To get our model's raw outputs (logits) into such a form, we can use the sigmoid activation function.\n",
    "\n",
    "Let's try it out.|"
   ]
  },
  {
   "cell_type": "code",
   "execution_count": 86,
   "id": "20c09226-2e1e-44e5-9457-7b711a87d821",
   "metadata": {},
   "outputs": [
    {
     "data": {
      "text/plain": [
       "tensor([[0.2694],\n",
       "        [0.2706],\n",
       "        [0.3047],\n",
       "        [0.2598],\n",
       "        [0.3713]], device='cuda:0', grad_fn=<SigmoidBackward0>)"
      ]
     },
     "execution_count": 86,
     "metadata": {},
     "output_type": "execute_result"
    }
   ],
   "source": [
    "# Use sigmoid on model logits\n",
    "y_pred_probs = torch.sigmoid(y_logits)\n",
    "y_pred_probs"
   ]
  },
  {
   "cell_type": "markdown",
   "id": "cd68adfa-4190-450a-8cee-83075e62a839",
   "metadata": {},
   "source": [
    "Okay, it seems like the outputs now have some kind of consistency (even throught they're still random).\n",
    "\n",
    "They're now in the form of prediction probabilities (I usually refer to these as `y_pred_probs`), in other words, the values are now how much the model thinks the data point belongs to one class or another.\n",
    "\n",
    "In our case, since we're dealing with binary classification, our ideal outputs are 0 or 1.\n",
    "\n",
    "So these values can be viewed as a a decision boundary.\n",
    "\n",
    "The closer to 0, the more the model thinks the sample belongs to class 0, or closer to 1, the more the model thinks the sample belongs to class 1.\n",
    "\n",
    "More specifically:\n",
    "- If `y_pred_probs` >= 0.5, `y=1` (class 1)\n",
    "- If `y_pred_probs` < 0.5, `y=0` (class 0)\n",
    "\n",
    "To turn our prediction probabilities into prediction labels, we can round the outputs of the sigmoid activation function."
   ]
  },
  {
   "cell_type": "code",
   "execution_count": 100,
   "id": "51b3c98f-b93b-4491-aa52-62c85bd6bff9",
   "metadata": {},
   "outputs": [
    {
     "name": "stdout",
     "output_type": "stream",
     "text": [
      "tensor([True, True, True, True, True], device='cuda:0')\n"
     ]
    },
    {
     "data": {
      "text/plain": [
       "tensor([0., 0., 0., 0., 0.], device='cuda:0', grad_fn=<SqueezeBackward0>)"
      ]
     },
     "execution_count": 100,
     "metadata": {},
     "output_type": "execute_result"
    }
   ],
   "source": [
    "# Find the predicted labels (round the prediction probabilities)\n",
    "y_preds = torch.round(y_pred_probs)\n",
    "\n",
    "# In full\n",
    "y_pred_labels = torch.round(torch.sigmoid(model_0(X_test.to(device))[:5]))\n",
    "\n",
    "# Check for equality\n",
    "print(torch.eq(y_preds.squeeze(), y_pred_labels.squeeze()))\n",
    "\n",
    "# Get rid of extra dimension\n",
    "y_preds.squeeze()"
   ]
  },
  {
   "cell_type": "markdown",
   "id": "13120932-c881-4477-9e01-4caa205acc27",
   "metadata": {},
   "source": [
    "Excellent! Now it looks like our model's predictions are in the same form as our truth labels (`y_test`)."
   ]
  },
  {
   "cell_type": "code",
   "execution_count": 106,
   "id": "4b120efb-551c-4e35-a96d-bb3e0ba9e3bb",
   "metadata": {},
   "outputs": [
    {
     "data": {
      "text/plain": [
       "tensor([1., 0., 1., 0., 1.])"
      ]
     },
     "execution_count": 106,
     "metadata": {},
     "output_type": "execute_result"
    }
   ],
   "source": [
    "y_test[:5]"
   ]
  },
  {
   "cell_type": "markdown",
   "id": "2e01d939-0f3d-4357-a1aa-8a690e27c3b8",
   "metadata": {},
   "source": [
    "This means we'll be able to compare our model's predictions to the test labels to see how well it's performing.\n",
    "\n",
    "To recap, we convert our model's raw outputs (logits) to prediction probabilities using a sigmoid activation function.\n",
    "\n",
    "And then converted the prediction probabilitites to prediction labels by rounding them.\n",
    "\n",
    "Note: the use of the sigmoid activation funciton is often only for binary classification logits. For multi-class classification, we'll be looking at using the softmax activation function (this will come later on).\n",
    "\n",
    "And the use of the sigmoid activation function is not required when passing our model's raw outputs to the `nn.BCEWithLogitsLoss` (the \"logits\" in logit loss is because it works on the model's raw logit output), this is because it has a sigmoid function built-in."
   ]
  },
  {
   "cell_type": "markdown",
   "id": "6dc72dd5-7b5c-45e3-a22e-a60bb3e8a3f3",
   "metadata": {},
   "source": [
    "### 3.2 Building a training and testing loop\n",
    "Alright, we've discussed how to take our raw model outputs and convert them to prediction labels, now let's build a training loop.\n",
    "\n",
    "Let's start by training for 100 epochs and outputing the model's progress every 10 epochs."
   ]
  },
  {
   "cell_type": "code",
   "execution_count": 122,
   "id": "31c95708-b6e9-4c0b-b248-b353d0f4ed17",
   "metadata": {},
   "outputs": [
    {
     "name": "stdout",
     "output_type": "stream",
     "text": [
      "Epoch: 0 | Loss: 0.76984, Accuracy: 50.00% | Test loss: 0.76110, Test acc: 50.00%\n",
      "Epoch: 10 | Loss: 0.72160, Accuracy: 50.00% | Test loss: 0.71793, Test acc: 50.00%\n",
      "Epoch: 20 | Loss: 0.70551, Accuracy: 46.00% | Test loss: 0.70378, Test acc: 46.00%\n",
      "Epoch: 30 | Loss: 0.69956, Accuracy: 46.38% | Test loss: 0.69884, Test acc: 45.50%\n",
      "Epoch: 40 | Loss: 0.69702, Accuracy: 48.75% | Test loss: 0.69698, Test acc: 45.00%\n",
      "Epoch: 50 | Loss: 0.69575, Accuracy: 50.00% | Test loss: 0.69621, Test acc: 44.50%\n",
      "Epoch: 60 | Loss: 0.69499, Accuracy: 50.25% | Test loss: 0.69585, Test acc: 44.50%\n",
      "Epoch: 70 | Loss: 0.69449, Accuracy: 49.75% | Test loss: 0.69568, Test acc: 47.50%\n",
      "Epoch: 80 | Loss: 0.69414, Accuracy: 49.00% | Test loss: 0.69558, Test acc: 49.50%\n",
      "Epoch: 90 | Loss: 0.69388, Accuracy: 49.38% | Test loss: 0.69553, Test acc: 49.00%\n"
     ]
    }
   ],
   "source": [
    "torch.manual_seed(42)\n",
    "\n",
    "# Set hte number of epochs\n",
    "epochs = 100\n",
    "\n",
    "# Put data to garget device\n",
    "X_train, y_train = X_train.to(device), y_train.to(device)\n",
    "X_test, y_test = X_test.to(device), y_test.to(device)\n",
    "\n",
    "# Build training and evaluation loop\n",
    "for epoch in range(epochs):\n",
    "    ### Training\n",
    "    model_0.train()\n",
    "\n",
    "    # 1. Forward pass (model outputs raw logits)\n",
    "    y_logits = model_0(X_train).squeeze() # squeeze to remove extra `1` dimensions, this won't work unless model and data are on same device\n",
    "    y_pred = torch.round(torch.sigmoid(y_logits)) # turn logits -> pred probs -> pred labs\n",
    "\n",
    "    # 2. Calculate loss/accuracy\n",
    "    # loss = loss_fn(torch.sigmoid(y_logits), # Using nn.BCELoss you need torch.sigmoid()\n",
    "    #                y_train)\n",
    "    loss = loss_fn(y_logits, # Usiong nn.BCEWithLogitsLoss works with raw logits\n",
    "                   y_train)\n",
    "    acc = accuracy_fn(y_true=y_train,\n",
    "                      y_pred=y_pred)\n",
    "\n",
    "    # 3. Optimizer zero grad\n",
    "    optimizer.zero_grad()\n",
    "\n",
    "    # 4. Loss backwards\n",
    "    loss.backward()\n",
    "\n",
    "    # 5. Optimizer step\n",
    "    optimizer.step()\n",
    "\n",
    "    ### Testing\n",
    "    model_0.eval()\n",
    "    with torch.inference_mode():\n",
    "        # 1. Forward pass\n",
    "        test_logits = model_0(X_test).squeeze()\n",
    "        test_pred = torch.round(torch.sigmoid(test_logits))\n",
    "        # 2. Calculate loss/accuracy\n",
    "        test_loss = loss_fn(test_logits,\n",
    "                            y_test)\n",
    "        test_acc = accuracy_fn(y_true=y_test,\n",
    "                               y_pred=test_pred)\n",
    "\n",
    "    # Print out what's happening ever 10 epochs\n",
    "    if epoch % 10 == 0:\n",
    "        print(f\"Epoch: {epoch} | Loss: {loss:.5f}, Accuracy: {acc:.2f}% | Test loss: {test_loss:.5f}, Test acc: {test_acc:.2f}%\")"
   ]
  },
  {
   "cell_type": "code",
   "execution_count": null,
   "id": "fac5fb30-c4b5-47e1-ba77-24515124753b",
   "metadata": {},
   "outputs": [],
   "source": []
  }
 ],
 "metadata": {
  "kernelspec": {
   "display_name": "Python 3 (ipykernel)",
   "language": "python",
   "name": "python3"
  },
  "language_info": {
   "codemirror_mode": {
    "name": "ipython",
    "version": 3
   },
   "file_extension": ".py",
   "mimetype": "text/x-python",
   "name": "python",
   "nbconvert_exporter": "python",
   "pygments_lexer": "ipython3",
   "version": "3.12.3"
  }
 },
 "nbformat": 4,
 "nbformat_minor": 5
}
