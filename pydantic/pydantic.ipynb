{
 "cells": [
  {
   "cell_type": "code",
   "execution_count": 1,
   "metadata": {},
   "outputs": [],
   "source": [
    "import nest_asyncio\n",
    "nest_asyncio.apply()\n",
    "from pydantic_ai import Agent, RunContext\n",
    "from pydantic_ai.models.openai import OpenAIModel\n",
    "from pydantic_ai.providers.openai import OpenAIProvider"
   ]
  },
  {
   "cell_type": "code",
   "execution_count": 2,
   "metadata": {},
   "outputs": [],
   "source": [
    "\n",
    "ollama_model = OpenAIModel(\n",
    "    model_name='qwen2.5-coder:14b', provider=OpenAIProvider(base_url='http://localhost:11434/v1')\n",
    ")\n",
    "\n",
    "roulette_agent = Agent(  \n",
    "    ollama_model,\n",
    "    deps_type=int,\n",
    "    result_type=bool,\n",
    "    system_prompt=(\n",
    "        'Use the `roulette_wheel` function to see if the '\n",
    "        'customer has won based on the number they provide.'\n",
    "    )\n",
    ")"
   ]
  },
  {
   "cell_type": "code",
   "execution_count": 3,
   "metadata": {},
   "outputs": [],
   "source": [
    "ROULETTE_NUMBERS = 37\n",
    "import random\n",
    "\n",
    "@roulette_agent.tool\n",
    "def roulette_wheel(ctx: RunContext[int], number: int) -> bool:\n",
    "    # generate random numbers between 0 and 36\n",
    "    winning_numbers = [random.randint(0, ROULETTE_NUMBERS) for _ in range(19)]\n",
    "\n",
    "    # if 0 < number < ROULETTE_NUMBERS:\n",
    "    #     raise ValueError(f'Number must be between 0 and {ROULETTE_NUMBERS}')\n",
    "    print(f'Winning numbers: {winning_numbers}')\n",
    "    print(f'User number: {number}')\n",
    "    print(f'deps: {ctx.deps}')\n",
    "    return number in winning_numbers"
   ]
  },
  {
   "cell_type": "code",
   "execution_count": 4,
   "metadata": {},
   "outputs": [
    {
     "name": "stdout",
     "output_type": "stream",
     "text": [
      "Winning numbers: [1, 34, 17, 32, 1, 1, 6, 22, 11, 36, 24, 1, 36, 6, 34, 0, 20, 5, 31]\n",
      "User number: 15\n",
      "deps: 15\n"
     ]
    }
   ],
   "source": [
    "result = roulette_agent.run_sync(\"is fifteen a winning number\", deps=15)"
   ]
  },
  {
   "cell_type": "code",
   "execution_count": 5,
   "metadata": {},
   "outputs": [
    {
     "data": {
      "text/plain": [
       "AgentRunResult(data=False)"
      ]
     },
     "execution_count": 5,
     "metadata": {},
     "output_type": "execute_result"
    }
   ],
   "source": [
    "result"
   ]
  },
  {
   "cell_type": "markdown",
   "metadata": {},
   "source": [
    "using iter"
   ]
  },
  {
   "cell_type": "code",
   "execution_count": 6,
   "metadata": {},
   "outputs": [],
   "source": [
    "import nest_asyncio\n",
    "nest_asyncio.apply()\n",
    "from pydantic_ai import Agent, RunContext\n",
    "from pydantic_ai.models.openai import OpenAIModel\n",
    "from pydantic_ai.providers.openai import OpenAIProvider\n",
    "import pprint as pp"
   ]
  },
  {
   "cell_type": "code",
   "execution_count": 7,
   "metadata": {},
   "outputs": [
    {
     "name": "stdout",
     "output_type": "stream",
     "text": [
      "[ModelRequestNode(request=ModelRequest(parts=[UserPromptPart(content='What is '\n",
      "                                                                     'the '\n",
      "                                                                     'capital '\n",
      "                                                                     'of '\n",
      "                                                                     'France?',\n",
      "                                                             timestamp=datetime.datetime(2025, 3, 7, 19, 25, 13, 25883, tzinfo=datetime.timezone.utc),\n",
      "                                                             part_kind='user-prompt')],\n",
      "                                       kind='request')),\n",
      " CallToolsNode(model_response=ModelResponse(parts=[TextPart(content='The '\n",
      "                                                                    'capital '\n",
      "                                                                    'of France '\n",
      "                                                                    'is Paris.',\n",
      "                                                            part_kind='text')],\n",
      "                                            model_name='qwen2.5-coder:14b',\n",
      "                                            timestamp=datetime.datetime(2025, 3, 7, 19, 25, 13, tzinfo=datetime.timezone.utc),\n",
      "                                            kind='response')),\n",
      " End(data=FinalResult(data='The capital of France is Paris.',\n",
      "                      tool_name=None,\n",
      "                      tool_call_id=None))]\n",
      "'The capital of France is Paris.'\n"
     ]
    }
   ],
   "source": [
    "from pydantic_ai import Agent\n",
    "\n",
    "ollama_model = OpenAIModel(\n",
    "    model_name='qwen2.5-coder:14b', provider=OpenAIProvider(base_url='http://localhost:11434/v1')\n",
    ")\n",
    "agent = Agent(ollama_model)\n",
    "\n",
    "\n",
    "nodes = []\n",
    "\n",
    "# Begin an AgentRun, which is an async-iterable over the nodes of the agent's graph\n",
    "async with agent.iter('What is the capital of France?') as agent_run:\n",
    "    async for node in agent_run:\n",
    "        # Each node represents a step in the agent's execution\n",
    "        nodes.append(node)\n",
    "pp.pprint(nodes)\n",
    "\"\"\"\n",
    "    [\n",
    "        ModelRequestNode(\n",
    "            request=ModelRequest(\n",
    "                parts=[\n",
    "                    UserPromptPart(\n",
    "                        content='What is the capital of France?',\n",
    "                        timestamp=datetime.datetime(...),\n",
    "                        part_kind='user-prompt',\n",
    "                    )\n",
    "                ],\n",
    "                kind='request',\n",
    "            )\n",
    "        ),\n",
    "        CallToolsNode(\n",
    "            model_response=ModelResponse(\n",
    "                parts=[TextPart(content='Paris', part_kind='text')],\n",
    "                model_name='gpt-4o',\n",
    "                timestamp=datetime.datetime(...),\n",
    "                kind='response',\n",
    "            )\n",
    "        ),\n",
    "        End(data=FinalResult(data='Paris', tool_name=None, tool_call_id=None)),\n",
    "    ]\n",
    "\"\"\"\n",
    "\n",
    "pp.pprint(agent_run.result.data)\n",
    "#> Paris"
   ]
  },
  {
   "cell_type": "code",
   "execution_count": 8,
   "metadata": {},
   "outputs": [],
   "source": [
    "import nest_asyncio\n",
    "nest_asyncio.apply()\n",
    "from pydantic_ai import Agent, RunContext\n",
    "from pydantic_ai.models.openai import OpenAIModel\n",
    "from pydantic_ai.providers.openai import OpenAIProvider\n",
    "import pprint as pp"
   ]
  },
  {
   "cell_type": "code",
   "execution_count": 9,
   "metadata": {},
   "outputs": [
    {
     "name": "stdout",
     "output_type": "stream",
     "text": [
      "(\"Sure, here's a light-hearted joke for you:\\n\"\n",
      " '\\n'\n",
      " 'Why did the tomato turn red?\\n'\n",
      " '\\n'\n",
      " 'Because it saw the salad dressing! \\n'\n",
      " '\\n'\n",
      " \"I hope you found that amusing! If you'd like to hear more jokes or have any \"\n",
      " 'other questions, feel free to ask.')\n"
     ]
    }
   ],
   "source": [
    "from dataclasses import dataclass\n",
    "\n",
    "import httpx\n",
    "\n",
    "from pydantic_ai import Agent\n",
    "ollama_model = OpenAIModel(\n",
    "    model_name='qwen2.5-coder:14b', provider=OpenAIProvider(base_url='http://localhost:11434/v1')\n",
    ")\n",
    "agent = Agent(ollama_model)\n",
    "\n",
    "@dataclass\n",
    "class MyDeps:  \n",
    "    api_key: str\n",
    "    http_client: httpx.AsyncClient\n",
    "\n",
    "\n",
    "\n",
    "async with httpx.AsyncClient() as client:\n",
    "    deps = MyDeps('foobar', client)\n",
    "    result = await agent.run(\n",
    "        'Tell me a joke.',\n",
    "        deps=deps,  \n",
    "    )\n",
    "    pp.pprint(result.data)\n",
    "    #> Did you hear about the toothpaste scandal? They called it Colgate."
   ]
  },
  {
   "cell_type": "code",
   "execution_count": 10,
   "metadata": {},
   "outputs": [
    {
     "name": "stdout",
     "output_type": "stream",
     "text": [
      "\"Why couldn't the bicycle stand up by itself? Because it was two-tired!\"\n"
     ]
    }
   ],
   "source": [
    "@dataclass\n",
    "class MyDeps:\n",
    "    api_key: str\n",
    "    http_client: httpx.AsyncClient\n",
    "\n",
    "\n",
    "agent = Agent(\n",
    "    ollama_model,\n",
    "    deps_type=MyDeps,\n",
    ")\n",
    "\n",
    "\n",
    "@agent.system_prompt  \n",
    "async def get_system_prompt(ctx: RunContext[MyDeps]) -> str:  \n",
    "    response = await ctx.deps.http_client.get(  \n",
    "        'https://example.com',\n",
    "        headers={'Authorization': f'Bearer {ctx.deps.api_key}'},  \n",
    "    )\n",
    "    response.raise_for_status()\n",
    "    return f'Prompt: {response.text}'\n",
    "\n",
    "\n",
    "async with httpx.AsyncClient() as client:\n",
    "    deps = MyDeps('foobar', client)\n",
    "    result = await agent.run('Tell me a joke.', deps=deps)\n",
    "    pp.pprint(result.data)\n",
    "        #> Did you hear about the toothpaste scandal? They called it Colgate."
   ]
  },
  {
   "cell_type": "code",
   "execution_count": 11,
   "metadata": {},
   "outputs": [],
   "source": [
    "import nest_asyncio\n",
    "nest_asyncio.apply()\n",
    "from pydantic_ai import Agent, RunContext\n",
    "from pydantic_ai.models.openai import OpenAIModel\n",
    "from pydantic_ai.providers.openai import OpenAIProvider\n",
    "import pprint as pp"
   ]
  },
  {
   "cell_type": "code",
   "execution_count": 12,
   "metadata": {},
   "outputs": [
    {
     "name": "stdout",
     "output_type": "stream",
     "text": [
      "<think>\n",
      "Alright, let me tackle this query about the top five highest-grossing animated films of 2025. The user is asking for a list that's specific to 2025, which means I need to ensure the data provided pertains accurately to that year.\n",
      "\n",
      "First, looking at the tool responses from DuckDuckGo, several sources are cited. Wikipedia mentions \"Ne Zha 2\" surpassing other films and becoming the highest-grossing animated film as of early 2025. Another entry on JustJared lists \"Ne Zha 2\" with a gross of $1.72 billion as of February 20, 2025. This suggests it's at the top.\n",
      "\n",
      "Next, there are mentions of other films like \"Inside Out 2\" being noted in one source as the highest even though Ne Zha 2 overtook it. The Wikipedia entry about box office number ones in the U.S. lists \"Captain America: Brave New World\" as high-grossing domestically for Disney, but since that's a live-action film (part of Captain America franchise), unless it's an animated/live action hybrid, it might not count towards the pure animated list. I need to check if that's considered animated here.\n",
      "\n",
      "The Dexerto article talks about 2024 having success with various sequels like Moana 2 and Despicable Me 4, but the user is asking for 2025, so those might be older entries unless they have continued 2025 earnings. The Statista entry notes \"Inside Out 2\" as #1 as of January 2025, suggesting it's the previous top before Ne Zha 2.\n",
      "\n",
      "Looking at another source from What's After the Movie, their page for 2025 is listed but incomplete in the provided summary (like no titles after rank 1). The IMDB list and the-numbers.com site also refer to 2025 data. \n",
      "\n",
      "I need to compile these sources carefully. Possible contenders beyond Ne Zha 2 might include Inside Out 2, Moana 2, Despicable Me 4, Kung Fu Panda 4 (they were big in 2024 but maybe still grossing into 2025). However, the IMDB list's detail isn't given here. Wikipedia mentions \"Ne Zha 2\" surpassing Inside Out 2 as of early 2025, so perhaps a shift happened.\n",
      "\n",
      "Also, checking for any animated Captain America film? The entry on Captain America: Brave New World is listed under highest-grossing in the US domestic charts but it's possible that isn't an animated movie. Looking at details, Ne Zha is from China, which makes sense as breaking Disney's streak (mentioned in Wikipedia). Disney films like Inside Out 2 are part of their 2024 portfolio but still ongoing into 2025.\n",
      "\n",
      "Putting this together, the top five would likely be:\n",
      "\n",
      "1. Ne Zha 2 – leading with over $1.7B by early 2025\n",
      "2. Inside Out 2 – previously held top spot\n",
      "3. Moana 2 (maybe?)\n",
      "4. Despicable Me 4\n",
      "5. Kung Fu Panda 4? \n",
      "\n",
      "Or perhaps other films like \"Turning Red\" sequels or others, but given the data supplied, those four would fit alongside Ne Zha and Inside Out. Need to note that some might have overlapping years or continued earnings from previous years.\n",
      "\n",
      "I should also consider if any of these entries could be international co-productions or animated/live-action blends affecting their status. Since the query specifies animated films, I can safely list Moana 2, Despicable Me, etc., as they are animated. \n",
      "\n",
      "Potential issue: The Statista data says Inside Out is top until Jan 2025, then Ne Zha overtakes it in February (from JustJared). So ranking order may have changed. Also, other entries like \"Spider-Man: Across the Spider-Verse\" were huge in late 2023 and might still be earning in 2025? But that's probably way past its release date by then.\n",
      "\n",
      "Based on tool responses provided, the top five are:\n",
      "\n",
      "1. Ne Zha 2\n",
      "2. Inside Out 2 (if it held onto second place)\n",
      "Then others like Moana 2 or other mentioned films from 2024 sequels which may have carried over revenue into early 2025. \n",
      "\n",
      "Alternatively, perhaps \"Turning Red\" 2? The user's sources don't name more beyond these.\n",
      "\n",
      "I'll structure the answer listing Ne Zha as #1, then follow with Inside Out 2, and a couple of others based on mentions in the tool data. Need to mention that some films might have been released in late previous year but continued into this one, affecting earnings.\n",
      "</think>\n",
      "\n",
      "Here’s a list of the **top five highest-grossing animated films of 2025**, based on the search results provided (note that these reflect projections or early-year data as of January/February 2025):\n",
      "\n",
      "---\n",
      "\n",
      "### **1. *Ne Zha 2***  \n",
      "- **Gross**: Over **$1.72 billion** worldwide (as of February 20, 2025; via JustJared).  \n",
      "- **Notable**: Surpassed *Inside Out 2* to become the **highest-grossing animated film ever** in early 2025 (Wikipedia/JustJared sources).  \n",
      "\n",
      "---\n",
      "\n",
      "### **2. *Inside Out 2***  \n",
      "- **Gross**: ~$1.7 billion worldwide by January 2025 (*Statista* and Wikipedia mentions pre-January performance).  \n",
      "- **Status**: Previously held the top spot until overtaken by *Ne Zha 2*.  \n",
      "\n",
      "---\n",
      "\n",
      "### **3. *Moana 2***  \n",
      "- **Gross**: While exact figures for 2025 aren’t detailed in tool results, its strong 2024 release (mentioned in Dexerto) likely carried strong earnings into early 2025 due to continued global popularity and streaming performance.  \n",
      "\n",
      "---\n",
      "\n",
      "### **4. *Despicable Me 4***  \n",
      "- **Gross**: Likely high-ranking based on the franchise’s track record and mention alongside Moana/Inside Out as a 2023–2024 hit in Dexerto’s coverage of late 2024 earnings.  \n",
      "\n",
      "---\n",
      "\n",
      "### **5. *Kung Fu Panda 4***  \n",
      "- **Gross**: Similar to above, positioned among top-grossing sequels from previous years with carryover box office revenue (referenced in Dexerto’s article).  \n",
      "\n",
      "---\n",
      "\n",
      "### Key Notes:  \n",
      "- These rankings depend on when films were released (late 2023–2024 vs. early 2025) and ongoing earnings. For example:  \n",
      "  - *Ne Zha 2* is highlighted as a **breakout hit of early 2025**, propelled by its Chinese market dominance.  \n",
      "  - Disney’s franchises (*Inside Out*, *Moana*) rely on widespread international appeal and sequel momentum.  \n",
      "\n",
      "- Non-animated films like *Captain America: Brave New World* (noted in U.S. domestic charts) are excluded here, as they aren’t animated titles.  \n",
      "\n",
      "For precise 2025 rankings by year-end 2025, updates would be needed to account for full-year performance and new releases later in the year.\n"
     ]
    },
    {
     "data": {
      "text/plain": [
       "'\\nI looked into several sources on animated box‐office performance in 2025, and while detailed\\nrankings can shift as more money is tallied, multiple independent reports have already\\nhighlighted a couple of record‐breaking shows. For example:\\n\\n• Ne Zha 2 – News outlets (Variety, Wikipedia\\'s \"List of animated feature films of 2025\", and others)\\n    have reported that this Chinese title not only became the highest‑grossing animated film of 2025\\n    but also broke records as the highest‑grossing non‑English animated film ever. One article noted\\n    its run exceeded US$1.7 billion.\\n• Inside Out 2 – According to data shared on Statista and in industry news, this Pixar sequel has been\\n    on pace to set new records (with some sources even noting it as the highest‑grossing animated film\\n    ever, as of January 2025).\\n\\nBeyond those two, some entertainment trade sites (for example, a Just Jared article titled\\n\"Top 10 Highest-Earning Animated Films at the Box Office Revealed\") have begun listing a broader\\ntop‑10. Although full consolidated figures can sometimes differ by source and are updated daily during\\na box‑office run, many of the industry trackers have begun to single out five films as the biggest\\nearners so far in 2025.\\n\\nUnfortunately, although multiple articles discuss the \"top animated films\" of 2025, there isn\\'t yet a\\nsingle, universally accepted list with final numbers that names the complete top five. (Box‑office\\nrankings, especially mid‑year, can be fluid as films continue to add to their totals.)\\n\\nBased on what several sources note so far, the two undisputed leaders are:\\n1. Ne Zha 2\\n2. Inside Out 2\\n\\nThe remaining top spots (3–5) are reported by some outlets in their \"Top‑10 Animated Films\"\\nlists for 2025 but the titles and order can vary depending on the source and the exact cut‑off\\ndate of the data. For the most up‑to‑date and detailed ranking (including the 3rd, 4th, and 5th\\nhighest‑grossing films), I recommend checking resources like:\\n• Wikipedia\\'s \"List of animated feature films of 2025\" page\\n• Box‑office tracking sites (such as Box Office Mojo or The Numbers)\\n• Trade articles like the one on Just Jared\\n\\nTo summarize with what is clear from the current reporting:\\n1. Ne Zha 2\\n2. Inside Out 2\\n3–5. Other animated films (yet to be definitively finalized across all reporting outlets)\\n\\nIf you\\'re looking for a final, consensus list of the top five, it may be best to wait until\\nthe 2025 year‑end box‑office tallies are in or to consult a regularly updated entertainment industry source.\\n\\nWould you like help finding a current source or additional details on where to look for the complete updated list?\\n'"
      ]
     },
     "execution_count": 12,
     "metadata": {},
     "output_type": "execute_result"
    }
   ],
   "source": [
    "from pydantic_ai.common_tools.duckduckgo import duckduckgo_search_tool\n",
    "from pydantic_ai import Agent\n",
    "ollama_model = OpenAIModel(\n",
    "    model_name='qwq:32b', provider=OpenAIProvider(base_url='http://localhost:11434/v1')\n",
    ")\n",
    "agent = Agent(ollama_model)\n",
    "agent = Agent(\n",
    "    ollama_model,\n",
    "    tools=[duckduckgo_search_tool()],\n",
    "    system_prompt='Search DuckDuckGo for the given query and return the results.',\n",
    ")\n",
    "\n",
    "result = agent.run_sync(\n",
    "    'Can you list the top five highest-grossing animated films of 2025?'\n",
    ")\n",
    "print(result.data)\n",
    "\"\"\"\n",
    "I looked into several sources on animated box‐office performance in 2025, and while detailed\n",
    "rankings can shift as more money is tallied, multiple independent reports have already\n",
    "highlighted a couple of record‐breaking shows. For example:\n",
    "\n",
    "• Ne Zha 2 – News outlets (Variety, Wikipedia's \"List of animated feature films of 2025\", and others)\n",
    "    have reported that this Chinese title not only became the highest‑grossing animated film of 2025\n",
    "    but also broke records as the highest‑grossing non‑English animated film ever. One article noted\n",
    "    its run exceeded US$1.7 billion.\n",
    "• Inside Out 2 – According to data shared on Statista and in industry news, this Pixar sequel has been\n",
    "    on pace to set new records (with some sources even noting it as the highest‑grossing animated film\n",
    "    ever, as of January 2025).\n",
    "\n",
    "Beyond those two, some entertainment trade sites (for example, a Just Jared article titled\n",
    "\"Top 10 Highest-Earning Animated Films at the Box Office Revealed\") have begun listing a broader\n",
    "top‑10. Although full consolidated figures can sometimes differ by source and are updated daily during\n",
    "a box‑office run, many of the industry trackers have begun to single out five films as the biggest\n",
    "earners so far in 2025.\n",
    "\n",
    "Unfortunately, although multiple articles discuss the \"top animated films\" of 2025, there isn't yet a\n",
    "single, universally accepted list with final numbers that names the complete top five. (Box‑office\n",
    "rankings, especially mid‑year, can be fluid as films continue to add to their totals.)\n",
    "\n",
    "Based on what several sources note so far, the two undisputed leaders are:\n",
    "1. Ne Zha 2\n",
    "2. Inside Out 2\n",
    "\n",
    "The remaining top spots (3–5) are reported by some outlets in their \"Top‑10 Animated Films\"\n",
    "lists for 2025 but the titles and order can vary depending on the source and the exact cut‑off\n",
    "date of the data. For the most up‑to‑date and detailed ranking (including the 3rd, 4th, and 5th\n",
    "highest‑grossing films), I recommend checking resources like:\n",
    "• Wikipedia's \"List of animated feature films of 2025\" page\n",
    "• Box‑office tracking sites (such as Box Office Mojo or The Numbers)\n",
    "• Trade articles like the one on Just Jared\n",
    "\n",
    "To summarize with what is clear from the current reporting:\n",
    "1. Ne Zha 2\n",
    "2. Inside Out 2\n",
    "3–5. Other animated films (yet to be definitively finalized across all reporting outlets)\n",
    "\n",
    "If you're looking for a final, consensus list of the top five, it may be best to wait until\n",
    "the 2025 year‑end box‑office tallies are in or to consult a regularly updated entertainment industry source.\n",
    "\n",
    "Would you like help finding a current source or additional details on where to look for the complete updated list?\n",
    "\"\"\""
   ]
  },
  {
   "cell_type": "code",
   "execution_count": 15,
   "metadata": {},
   "outputs": [
    {
     "name": "stdout",
     "output_type": "stream",
     "text": [
      "\u001b[2mUsing Python 3.12.3 environment at: /home/yi/Documents/MCP/fastmcp/.venv\u001b[0m\n",
      "\u001b[2mAudited \u001b[1m1 package\u001b[0m \u001b[2min 8ms\u001b[0m\u001b[0m\n"
     ]
    },
    {
     "name": "stdout",
     "output_type": "stream",
     "text": [
      "\u001b[2mUsing Python 3.12.3 environment at: /home/yi/Documents/MCP/fastmcp/.venv\u001b[0m\n",
      "\u001b[2mAudited \u001b[1m1 package\u001b[0m \u001b[2min 8ms\u001b[0m\u001b[0m\n"
     ]
    }
   ],
   "source": [
    "! uv pip install 'pydantic-ai-slim[tavily]'\n",
    "! uv pip install 'pydantic-ai'"
   ]
  },
  {
   "cell_type": "code",
   "execution_count": 16,
   "metadata": {},
   "outputs": [
    {
     "ename": "UnexpectedModelBehavior",
     "evalue": "Tool exceeded max retries count of 1",
     "output_type": "error",
     "traceback": [
      "\u001b[31m---------------------------------------------------------------------------\u001b[39m",
      "\u001b[31mValidationError\u001b[39m                           Traceback (most recent call last)",
      "\u001b[36mFile \u001b[39m\u001b[32m~/Documents/MCP/fastmcp/.venv/lib/python3.12/site-packages/pydantic_ai/tools.py:273\u001b[39m, in \u001b[36mTool.run\u001b[39m\u001b[34m(self, message, run_context)\u001b[39m\n\u001b[32m    272\u001b[39m \u001b[38;5;28;01mif\u001b[39;00m \u001b[38;5;28misinstance\u001b[39m(message.args, \u001b[38;5;28mstr\u001b[39m):\n\u001b[32m--> \u001b[39m\u001b[32m273\u001b[39m     args_dict = \u001b[38;5;28;43mself\u001b[39;49m\u001b[43m.\u001b[49m\u001b[43m_validator\u001b[49m\u001b[43m.\u001b[49m\u001b[43mvalidate_json\u001b[49m\u001b[43m(\u001b[49m\u001b[43mmessage\u001b[49m\u001b[43m.\u001b[49m\u001b[43margs\u001b[49m\u001b[43m)\u001b[49m\n\u001b[32m    274\u001b[39m \u001b[38;5;28;01melse\u001b[39;00m:\n",
      "\u001b[31mValidationError\u001b[39m: 1 validation error for __call__\ntime_range\n  Input should be 'day', 'week', 'month', 'year', 'd', 'w', 'm' or 'y' [type=literal_error, input_value='7d', input_type=str]\n    For further information visit https://errors.pydantic.dev/2.10/v/literal_error",
      "\nThe above exception was the direct cause of the following exception:\n",
      "\u001b[31mUnexpectedModelBehavior\u001b[39m                   Traceback (most recent call last)",
      "\u001b[36mCell\u001b[39m\u001b[36m \u001b[39m\u001b[32mIn[16]\u001b[39m\u001b[32m, line 16\u001b[39m\n\u001b[32m      6\u001b[39m api_key=os.environ[\u001b[33m'\u001b[39m\u001b[33mTAVILY_API_KEY\u001b[39m\u001b[33m'\u001b[39m]\n\u001b[32m     10\u001b[39m agent = Agent(\n\u001b[32m     11\u001b[39m     ollama_model,\n\u001b[32m     12\u001b[39m     tools=[tavily_search_tool(api_key)],\n\u001b[32m     13\u001b[39m     system_prompt=\u001b[33m'\u001b[39m\u001b[33mSearch Tavily for the given query and return the results.\u001b[39m\u001b[33m'\u001b[39m,\n\u001b[32m     14\u001b[39m )\n\u001b[32m---> \u001b[39m\u001b[32m16\u001b[39m result = \u001b[43magent\u001b[49m\u001b[43m.\u001b[49m\u001b[43mrun_sync\u001b[49m\u001b[43m(\u001b[49m\u001b[33;43m'\u001b[39;49m\u001b[33;43mTell me the top news in the GenAI world, give me links.\u001b[39;49m\u001b[33;43m'\u001b[39;49m\u001b[43m)\u001b[49m\n\u001b[32m     17\u001b[39m \u001b[38;5;28mprint\u001b[39m(result.data)\n\u001b[32m     18\u001b[39m \u001b[33;03m\"\"\"\u001b[39;00m\n\u001b[32m     19\u001b[39m \u001b[33;03mHere are some of the top recent news articles related to GenAI:\u001b[39;00m\n\u001b[32m     20\u001b[39m \n\u001b[32m   (...)\u001b[39m\u001b[32m     33\u001b[39m \u001b[33;03mFeel free to click on the links to dive deeper into each story!\u001b[39;00m\n\u001b[32m     34\u001b[39m \u001b[33;03m\"\"\"\u001b[39;00m\n",
      "\u001b[36mFile \u001b[39m\u001b[32m~/Documents/MCP/fastmcp/.venv/lib/python3.12/site-packages/pydantic_ai/agent.py:558\u001b[39m, in \u001b[36mAgent.run_sync\u001b[39m\u001b[34m(self, user_prompt, result_type, message_history, model, deps, model_settings, usage_limits, usage, infer_name)\u001b[39m\n\u001b[32m    556\u001b[39m \u001b[38;5;28;01mif\u001b[39;00m infer_name \u001b[38;5;129;01mand\u001b[39;00m \u001b[38;5;28mself\u001b[39m.name \u001b[38;5;129;01mis\u001b[39;00m \u001b[38;5;28;01mNone\u001b[39;00m:\n\u001b[32m    557\u001b[39m     \u001b[38;5;28mself\u001b[39m._infer_name(inspect.currentframe())\n\u001b[32m--> \u001b[39m\u001b[32m558\u001b[39m \u001b[38;5;28;01mreturn\u001b[39;00m \u001b[43mget_event_loop\u001b[49m\u001b[43m(\u001b[49m\u001b[43m)\u001b[49m\u001b[43m.\u001b[49m\u001b[43mrun_until_complete\u001b[49m\u001b[43m(\u001b[49m\n\u001b[32m    559\u001b[39m \u001b[43m    \u001b[49m\u001b[38;5;28;43mself\u001b[39;49m\u001b[43m.\u001b[49m\u001b[43mrun\u001b[49m\u001b[43m(\u001b[49m\n\u001b[32m    560\u001b[39m \u001b[43m        \u001b[49m\u001b[43muser_prompt\u001b[49m\u001b[43m,\u001b[49m\n\u001b[32m    561\u001b[39m \u001b[43m        \u001b[49m\u001b[43mresult_type\u001b[49m\u001b[43m=\u001b[49m\u001b[43mresult_type\u001b[49m\u001b[43m,\u001b[49m\n\u001b[32m    562\u001b[39m \u001b[43m        \u001b[49m\u001b[43mmessage_history\u001b[49m\u001b[43m=\u001b[49m\u001b[43mmessage_history\u001b[49m\u001b[43m,\u001b[49m\n\u001b[32m    563\u001b[39m \u001b[43m        \u001b[49m\u001b[43mmodel\u001b[49m\u001b[43m=\u001b[49m\u001b[43mmodel\u001b[49m\u001b[43m,\u001b[49m\n\u001b[32m    564\u001b[39m \u001b[43m        \u001b[49m\u001b[43mdeps\u001b[49m\u001b[43m=\u001b[49m\u001b[43mdeps\u001b[49m\u001b[43m,\u001b[49m\n\u001b[32m    565\u001b[39m \u001b[43m        \u001b[49m\u001b[43mmodel_settings\u001b[49m\u001b[43m=\u001b[49m\u001b[43mmodel_settings\u001b[49m\u001b[43m,\u001b[49m\n\u001b[32m    566\u001b[39m \u001b[43m        \u001b[49m\u001b[43musage_limits\u001b[49m\u001b[43m=\u001b[49m\u001b[43musage_limits\u001b[49m\u001b[43m,\u001b[49m\n\u001b[32m    567\u001b[39m \u001b[43m        \u001b[49m\u001b[43musage\u001b[49m\u001b[43m=\u001b[49m\u001b[43musage\u001b[49m\u001b[43m,\u001b[49m\n\u001b[32m    568\u001b[39m \u001b[43m        \u001b[49m\u001b[43minfer_name\u001b[49m\u001b[43m=\u001b[49m\u001b[38;5;28;43;01mFalse\u001b[39;49;00m\u001b[43m,\u001b[49m\n\u001b[32m    569\u001b[39m \u001b[43m    \u001b[49m\u001b[43m)\u001b[49m\n\u001b[32m    570\u001b[39m \u001b[43m\u001b[49m\u001b[43m)\u001b[49m\n",
      "\u001b[36mFile \u001b[39m\u001b[32m~/Documents/MCP/fastmcp/.venv/lib/python3.12/site-packages/nest_asyncio.py:98\u001b[39m, in \u001b[36m_patch_loop.<locals>.run_until_complete\u001b[39m\u001b[34m(self, future)\u001b[39m\n\u001b[32m     95\u001b[39m \u001b[38;5;28;01mif\u001b[39;00m \u001b[38;5;129;01mnot\u001b[39;00m f.done():\n\u001b[32m     96\u001b[39m     \u001b[38;5;28;01mraise\u001b[39;00m \u001b[38;5;167;01mRuntimeError\u001b[39;00m(\n\u001b[32m     97\u001b[39m         \u001b[33m'\u001b[39m\u001b[33mEvent loop stopped before Future completed.\u001b[39m\u001b[33m'\u001b[39m)\n\u001b[32m---> \u001b[39m\u001b[32m98\u001b[39m \u001b[38;5;28;01mreturn\u001b[39;00m \u001b[43mf\u001b[49m\u001b[43m.\u001b[49m\u001b[43mresult\u001b[49m\u001b[43m(\u001b[49m\u001b[43m)\u001b[49m\n",
      "\u001b[36mFile \u001b[39m\u001b[32m/usr/lib/python3.12/asyncio/futures.py:203\u001b[39m, in \u001b[36mFuture.result\u001b[39m\u001b[34m(self)\u001b[39m\n\u001b[32m    201\u001b[39m \u001b[38;5;28mself\u001b[39m.__log_traceback = \u001b[38;5;28;01mFalse\u001b[39;00m\n\u001b[32m    202\u001b[39m \u001b[38;5;28;01mif\u001b[39;00m \u001b[38;5;28mself\u001b[39m._exception \u001b[38;5;129;01mis\u001b[39;00m \u001b[38;5;129;01mnot\u001b[39;00m \u001b[38;5;28;01mNone\u001b[39;00m:\n\u001b[32m--> \u001b[39m\u001b[32m203\u001b[39m     \u001b[38;5;28;01mraise\u001b[39;00m \u001b[38;5;28mself\u001b[39m._exception.with_traceback(\u001b[38;5;28mself\u001b[39m._exception_tb)\n\u001b[32m    204\u001b[39m \u001b[38;5;28;01mreturn\u001b[39;00m \u001b[38;5;28mself\u001b[39m._result\n",
      "\u001b[36mFile \u001b[39m\u001b[32m/usr/lib/python3.12/asyncio/tasks.py:314\u001b[39m, in \u001b[36mTask.__step_run_and_handle_result\u001b[39m\u001b[34m(***failed resolving arguments***)\u001b[39m\n\u001b[32m    310\u001b[39m \u001b[38;5;28;01mtry\u001b[39;00m:\n\u001b[32m    311\u001b[39m     \u001b[38;5;28;01mif\u001b[39;00m exc \u001b[38;5;129;01mis\u001b[39;00m \u001b[38;5;28;01mNone\u001b[39;00m:\n\u001b[32m    312\u001b[39m         \u001b[38;5;66;03m# We use the `send` method directly, because coroutines\u001b[39;00m\n\u001b[32m    313\u001b[39m         \u001b[38;5;66;03m# don't have `__iter__` and `__next__` methods.\u001b[39;00m\n\u001b[32m--> \u001b[39m\u001b[32m314\u001b[39m         result = \u001b[43mcoro\u001b[49m\u001b[43m.\u001b[49m\u001b[43msend\u001b[49m\u001b[43m(\u001b[49m\u001b[38;5;28;43;01mNone\u001b[39;49;00m\u001b[43m)\u001b[49m\n\u001b[32m    315\u001b[39m     \u001b[38;5;28;01melse\u001b[39;00m:\n\u001b[32m    316\u001b[39m         result = coro.throw(exc)\n",
      "\u001b[36mFile \u001b[39m\u001b[32m~/Documents/MCP/fastmcp/.venv/lib/python3.12/site-packages/pydantic_ai/agent.py:316\u001b[39m, in \u001b[36mAgent.run\u001b[39m\u001b[34m(self, user_prompt, result_type, message_history, model, deps, model_settings, usage_limits, usage, infer_name)\u001b[39m\n\u001b[32m    305\u001b[39m     \u001b[38;5;28mself\u001b[39m._infer_name(inspect.currentframe())\n\u001b[32m    306\u001b[39m \u001b[38;5;28;01masync\u001b[39;00m \u001b[38;5;28;01mwith\u001b[39;00m \u001b[38;5;28mself\u001b[39m.iter(\n\u001b[32m    307\u001b[39m     user_prompt=user_prompt,\n\u001b[32m    308\u001b[39m     result_type=result_type,\n\u001b[32m   (...)\u001b[39m\u001b[32m    314\u001b[39m     usage=usage,\n\u001b[32m    315\u001b[39m ) \u001b[38;5;28;01mas\u001b[39;00m agent_run:\n\u001b[32m--> \u001b[39m\u001b[32m316\u001b[39m     \u001b[38;5;28;01masync\u001b[39;00m \u001b[38;5;28;01mfor\u001b[39;00m _ \u001b[38;5;129;01min\u001b[39;00m agent_run:\n\u001b[32m    317\u001b[39m         \u001b[38;5;28;01mpass\u001b[39;00m\n\u001b[32m    319\u001b[39m \u001b[38;5;28;01massert\u001b[39;00m (final_result := agent_run.result) \u001b[38;5;129;01mis\u001b[39;00m \u001b[38;5;129;01mnot\u001b[39;00m \u001b[38;5;28;01mNone\u001b[39;00m, \u001b[33m'\u001b[39m\u001b[33mThe graph run did not finish properly\u001b[39m\u001b[33m'\u001b[39m\n",
      "\u001b[36mFile \u001b[39m\u001b[32m~/Documents/MCP/fastmcp/.venv/lib/python3.12/site-packages/pydantic_ai/agent.py:1352\u001b[39m, in \u001b[36mAgentRun.__anext__\u001b[39m\u001b[34m(self)\u001b[39m\n\u001b[32m   1348\u001b[39m \u001b[38;5;28;01masync\u001b[39;00m \u001b[38;5;28;01mdef\u001b[39;00m\u001b[38;5;250m \u001b[39m\u001b[34m__anext__\u001b[39m(\n\u001b[32m   1349\u001b[39m     \u001b[38;5;28mself\u001b[39m,\n\u001b[32m   1350\u001b[39m ) -> _agent_graph.AgentNode[AgentDepsT, ResultDataT] | End[FinalResult[ResultDataT]]:\n\u001b[32m   1351\u001b[39m \u001b[38;5;250m    \u001b[39m\u001b[33;03m\"\"\"Advance to the next node automatically based on the last returned node.\"\"\"\u001b[39;00m\n\u001b[32m-> \u001b[39m\u001b[32m1352\u001b[39m     next_node = \u001b[38;5;28;01mawait\u001b[39;00m \u001b[38;5;28mself\u001b[39m._graph_run.\u001b[34m__anext__\u001b[39m()\n\u001b[32m   1353\u001b[39m     \u001b[38;5;28;01mif\u001b[39;00m _agent_graph.is_agent_node(next_node):\n\u001b[32m   1354\u001b[39m         \u001b[38;5;28;01mreturn\u001b[39;00m next_node\n",
      "\u001b[36mFile \u001b[39m\u001b[32m~/Documents/MCP/fastmcp/.venv/lib/python3.12/site-packages/pydantic_graph/graph.py:734\u001b[39m, in \u001b[36mGraphRun.__anext__\u001b[39m\u001b[34m(self)\u001b[39m\n\u001b[32m    732\u001b[39m \u001b[38;5;28;01mif\u001b[39;00m \u001b[38;5;28misinstance\u001b[39m(\u001b[38;5;28mself\u001b[39m._next_node, End):\n\u001b[32m    733\u001b[39m     \u001b[38;5;28;01mraise\u001b[39;00m \u001b[38;5;167;01mStopAsyncIteration\u001b[39;00m\n\u001b[32m--> \u001b[39m\u001b[32m734\u001b[39m \u001b[38;5;28;01mreturn\u001b[39;00m \u001b[38;5;28;01mawait\u001b[39;00m \u001b[38;5;28mself\u001b[39m.next(\u001b[38;5;28mself\u001b[39m._next_node)\n",
      "\u001b[36mFile \u001b[39m\u001b[32m~/Documents/MCP/fastmcp/.venv/lib/python3.12/site-packages/pydantic_graph/graph.py:723\u001b[39m, in \u001b[36mGraphRun.next\u001b[39m\u001b[34m(self, node)\u001b[39m\n\u001b[32m    720\u001b[39m state = \u001b[38;5;28mself\u001b[39m.state\n\u001b[32m    721\u001b[39m deps = \u001b[38;5;28mself\u001b[39m.deps\n\u001b[32m--> \u001b[39m\u001b[32m723\u001b[39m \u001b[38;5;28mself\u001b[39m._next_node = \u001b[38;5;28;01mawait\u001b[39;00m \u001b[38;5;28mself\u001b[39m.graph.next(node, history, state=state, deps=deps, infer_name=\u001b[38;5;28;01mFalse\u001b[39;00m)\n\u001b[32m    725\u001b[39m \u001b[38;5;28;01mreturn\u001b[39;00m \u001b[38;5;28mself\u001b[39m._next_node\n",
      "\u001b[36mFile \u001b[39m\u001b[32m~/Documents/MCP/fastmcp/.venv/lib/python3.12/site-packages/pydantic_graph/graph.py:305\u001b[39m, in \u001b[36mGraph.next\u001b[39m\u001b[34m(self, node, history, state, deps, infer_name)\u001b[39m\n\u001b[32m    303\u001b[39m     start_ts = _utils.now_utc()\n\u001b[32m    304\u001b[39m     start = perf_counter()\n\u001b[32m--> \u001b[39m\u001b[32m305\u001b[39m     next_node = \u001b[38;5;28;01mawait\u001b[39;00m node.run(ctx)\n\u001b[32m    306\u001b[39m     duration = perf_counter() - start\n\u001b[32m    308\u001b[39m history.append(\n\u001b[32m    309\u001b[39m     NodeStep(state=state, node=node, start_ts=start_ts, duration=duration, snapshot_state=\u001b[38;5;28mself\u001b[39m.snapshot_state)\n\u001b[32m    310\u001b[39m )\n",
      "\u001b[36mFile \u001b[39m\u001b[32m~/Documents/MCP/fastmcp/.venv/lib/python3.12/site-packages/pydantic_ai/_agent_graph.py:365\u001b[39m, in \u001b[36mCallToolsNode.run\u001b[39m\u001b[34m(self, ctx)\u001b[39m\n\u001b[32m    362\u001b[39m \u001b[38;5;28;01masync\u001b[39;00m \u001b[38;5;28;01mdef\u001b[39;00m\u001b[38;5;250m \u001b[39m\u001b[34mrun\u001b[39m(\n\u001b[32m    363\u001b[39m     \u001b[38;5;28mself\u001b[39m, ctx: GraphRunContext[GraphAgentState, GraphAgentDeps[DepsT, NodeRunEndT]]\n\u001b[32m    364\u001b[39m ) -> Union[ModelRequestNode[DepsT, NodeRunEndT], End[result.FinalResult[NodeRunEndT]]]:  \u001b[38;5;66;03m# noqa UP007\u001b[39;00m\n\u001b[32m--> \u001b[39m\u001b[32m365\u001b[39m     \u001b[38;5;28;01masync\u001b[39;00m \u001b[38;5;28;01mwith\u001b[39;00m \u001b[38;5;28mself\u001b[39m.stream(ctx):\n\u001b[32m    366\u001b[39m         \u001b[38;5;28;01mpass\u001b[39;00m\n\u001b[32m    368\u001b[39m     \u001b[38;5;28;01massert\u001b[39;00m (next_node := \u001b[38;5;28mself\u001b[39m._next_node) \u001b[38;5;129;01mis\u001b[39;00m \u001b[38;5;129;01mnot\u001b[39;00m \u001b[38;5;28;01mNone\u001b[39;00m, \u001b[33m'\u001b[39m\u001b[33mthe stream should set `self._next_node` before it ends\u001b[39m\u001b[33m'\u001b[39m\n",
      "\u001b[36mFile \u001b[39m\u001b[32m/usr/lib/python3.12/contextlib.py:217\u001b[39m, in \u001b[36m_AsyncGeneratorContextManager.__aexit__\u001b[39m\u001b[34m(self, typ, value, traceback)\u001b[39m\n\u001b[32m    215\u001b[39m \u001b[38;5;28;01mif\u001b[39;00m typ \u001b[38;5;129;01mis\u001b[39;00m \u001b[38;5;28;01mNone\u001b[39;00m:\n\u001b[32m    216\u001b[39m     \u001b[38;5;28;01mtry\u001b[39;00m:\n\u001b[32m--> \u001b[39m\u001b[32m217\u001b[39m         \u001b[38;5;28;01mawait\u001b[39;00m anext(\u001b[38;5;28mself\u001b[39m.gen)\n\u001b[32m    218\u001b[39m     \u001b[38;5;28;01mexcept\u001b[39;00m \u001b[38;5;167;01mStopAsyncIteration\u001b[39;00m:\n\u001b[32m    219\u001b[39m         \u001b[38;5;28;01mreturn\u001b[39;00m \u001b[38;5;28;01mFalse\u001b[39;00m\n",
      "\u001b[36mFile \u001b[39m\u001b[32m~/Documents/MCP/fastmcp/.venv/lib/python3.12/site-packages/pydantic_ai/_agent_graph.py:380\u001b[39m, in \u001b[36mCallToolsNode.stream\u001b[39m\u001b[34m(self, ctx)\u001b[39m\n\u001b[32m    377\u001b[39m \u001b[38;5;28;01myield\u001b[39;00m stream\n\u001b[32m    379\u001b[39m \u001b[38;5;66;03m# Run the stream to completion if it was not finished:\u001b[39;00m\n\u001b[32m--> \u001b[39m\u001b[32m380\u001b[39m \u001b[38;5;28;01masync\u001b[39;00m \u001b[38;5;28;01mfor\u001b[39;00m _event \u001b[38;5;129;01min\u001b[39;00m stream:\n\u001b[32m    381\u001b[39m     \u001b[38;5;28;01mpass\u001b[39;00m\n",
      "\u001b[36mFile \u001b[39m\u001b[32m~/Documents/MCP/fastmcp/.venv/lib/python3.12/site-packages/pydantic_ai/_agent_graph.py:417\u001b[39m, in \u001b[36mCallToolsNode._run_stream\u001b[39m\u001b[34m(self, ctx)\u001b[39m\n\u001b[32m    413\u001b[39m             \u001b[38;5;28;01mraise\u001b[39;00m exceptions.UnexpectedModelBehavior(\u001b[33m'\u001b[39m\u001b[33mReceived empty model response\u001b[39m\u001b[33m'\u001b[39m)\n\u001b[32m    415\u001b[39m     \u001b[38;5;28mself\u001b[39m._events_iterator = _run_stream()\n\u001b[32m--> \u001b[39m\u001b[32m417\u001b[39m \u001b[38;5;28;01masync\u001b[39;00m \u001b[38;5;28;01mfor\u001b[39;00m event \u001b[38;5;129;01min\u001b[39;00m \u001b[38;5;28mself\u001b[39m._events_iterator:\n\u001b[32m    418\u001b[39m     \u001b[38;5;28;01myield\u001b[39;00m event\n",
      "\u001b[36mFile \u001b[39m\u001b[32m~/Documents/MCP/fastmcp/.venv/lib/python3.12/site-packages/pydantic_ai/_agent_graph.py:407\u001b[39m, in \u001b[36mCallToolsNode._run_stream.<locals>._run_stream\u001b[39m\u001b[34m()\u001b[39m\n\u001b[32m    402\u001b[39m \u001b[38;5;66;03m# At the moment, we prioritize at least executing tool calls if they are present.\u001b[39;00m\n\u001b[32m    403\u001b[39m \u001b[38;5;66;03m# In the future, we'd consider making this configurable at the agent or run level.\u001b[39;00m\n\u001b[32m    404\u001b[39m \u001b[38;5;66;03m# This accounts for cases like anthropic returns that might contain a text response\u001b[39;00m\n\u001b[32m    405\u001b[39m \u001b[38;5;66;03m# and a tool call response, where the text response just indicates the tool call will happen.\u001b[39;00m\n\u001b[32m    406\u001b[39m \u001b[38;5;28;01mif\u001b[39;00m tool_calls:\n\u001b[32m--> \u001b[39m\u001b[32m407\u001b[39m     \u001b[38;5;28;01masync\u001b[39;00m \u001b[38;5;28;01mfor\u001b[39;00m event \u001b[38;5;129;01min\u001b[39;00m \u001b[38;5;28mself\u001b[39m._handle_tool_calls(ctx, tool_calls):\n\u001b[32m    408\u001b[39m         \u001b[38;5;28;01myield\u001b[39;00m event\n\u001b[32m    409\u001b[39m \u001b[38;5;28;01melif\u001b[39;00m texts:\n\u001b[32m    410\u001b[39m     \u001b[38;5;66;03m# No events are emitted during the handling of text responses, so we don't need to yield anything\u001b[39;00m\n",
      "\u001b[36mFile \u001b[39m\u001b[32m~/Documents/MCP/fastmcp/.venv/lib/python3.12/site-packages/pydantic_ai/_agent_graph.py:446\u001b[39m, in \u001b[36mCallToolsNode._handle_tool_calls\u001b[39m\u001b[34m(self, ctx, tool_calls)\u001b[39m\n\u001b[32m    444\u001b[39m \u001b[38;5;66;03m# Then build the other request parts based on end strategy\u001b[39;00m\n\u001b[32m    445\u001b[39m tool_responses: \u001b[38;5;28mlist\u001b[39m[_messages.ModelRequestPart] = \u001b[38;5;28mself\u001b[39m._tool_responses\n\u001b[32m--> \u001b[39m\u001b[32m446\u001b[39m \u001b[38;5;28;01masync\u001b[39;00m \u001b[38;5;28;01mfor\u001b[39;00m event \u001b[38;5;129;01min\u001b[39;00m process_function_tools(\n\u001b[32m    447\u001b[39m     tool_calls,\n\u001b[32m    448\u001b[39m     final_result \u001b[38;5;129;01mand\u001b[39;00m final_result.tool_name,\n\u001b[32m    449\u001b[39m     final_result \u001b[38;5;129;01mand\u001b[39;00m final_result.tool_call_id,\n\u001b[32m    450\u001b[39m     ctx,\n\u001b[32m    451\u001b[39m     tool_responses,\n\u001b[32m    452\u001b[39m ):\n\u001b[32m    453\u001b[39m     \u001b[38;5;28;01myield\u001b[39;00m event\n\u001b[32m    455\u001b[39m \u001b[38;5;28;01mif\u001b[39;00m final_result:\n",
      "\u001b[36mFile \u001b[39m\u001b[32m~/Documents/MCP/fastmcp/.venv/lib/python3.12/site-packages/pydantic_ai/_agent_graph.py:631\u001b[39m, in \u001b[36mprocess_function_tools\u001b[39m\u001b[34m(tool_calls, result_tool_name, result_tool_call_id, ctx, output_parts)\u001b[39m\n\u001b[32m    629\u001b[39m \u001b[38;5;28;01mfor\u001b[39;00m task \u001b[38;5;129;01min\u001b[39;00m done:\n\u001b[32m    630\u001b[39m     index = tasks.index(task)\n\u001b[32m--> \u001b[39m\u001b[32m631\u001b[39m     result = \u001b[43mtask\u001b[49m\u001b[43m.\u001b[49m\u001b[43mresult\u001b[49m\u001b[43m(\u001b[49m\u001b[43m)\u001b[49m\n\u001b[32m    632\u001b[39m     \u001b[38;5;28;01myield\u001b[39;00m _messages.FunctionToolResultEvent(result, tool_call_id=call_index_to_event_id[index])\n\u001b[32m    633\u001b[39m     \u001b[38;5;28;01mif\u001b[39;00m \u001b[38;5;28misinstance\u001b[39m(result, (_messages.ToolReturnPart, _messages.RetryPromptPart)):\n",
      "\u001b[36mFile \u001b[39m\u001b[32m/usr/lib/python3.12/asyncio/futures.py:203\u001b[39m, in \u001b[36mFuture.result\u001b[39m\u001b[34m(self)\u001b[39m\n\u001b[32m    201\u001b[39m \u001b[38;5;28mself\u001b[39m.__log_traceback = \u001b[38;5;28;01mFalse\u001b[39;00m\n\u001b[32m    202\u001b[39m \u001b[38;5;28;01mif\u001b[39;00m \u001b[38;5;28mself\u001b[39m._exception \u001b[38;5;129;01mis\u001b[39;00m \u001b[38;5;129;01mnot\u001b[39;00m \u001b[38;5;28;01mNone\u001b[39;00m:\n\u001b[32m--> \u001b[39m\u001b[32m203\u001b[39m     \u001b[38;5;28;01mraise\u001b[39;00m \u001b[38;5;28mself\u001b[39m._exception.with_traceback(\u001b[38;5;28mself\u001b[39m._exception_tb)\n\u001b[32m    204\u001b[39m \u001b[38;5;28;01mreturn\u001b[39;00m \u001b[38;5;28mself\u001b[39m._result\n",
      "\u001b[36mFile \u001b[39m\u001b[32m/usr/lib/python3.12/asyncio/tasks.py:314\u001b[39m, in \u001b[36mTask.__step_run_and_handle_result\u001b[39m\u001b[34m(***failed resolving arguments***)\u001b[39m\n\u001b[32m    310\u001b[39m \u001b[38;5;28;01mtry\u001b[39;00m:\n\u001b[32m    311\u001b[39m     \u001b[38;5;28;01mif\u001b[39;00m exc \u001b[38;5;129;01mis\u001b[39;00m \u001b[38;5;28;01mNone\u001b[39;00m:\n\u001b[32m    312\u001b[39m         \u001b[38;5;66;03m# We use the `send` method directly, because coroutines\u001b[39;00m\n\u001b[32m    313\u001b[39m         \u001b[38;5;66;03m# don't have `__iter__` and `__next__` methods.\u001b[39;00m\n\u001b[32m--> \u001b[39m\u001b[32m314\u001b[39m         result = \u001b[43mcoro\u001b[49m\u001b[43m.\u001b[49m\u001b[43msend\u001b[49m\u001b[43m(\u001b[49m\u001b[38;5;28;43;01mNone\u001b[39;49;00m\u001b[43m)\u001b[49m\n\u001b[32m    315\u001b[39m     \u001b[38;5;28;01melse\u001b[39;00m:\n\u001b[32m    316\u001b[39m         result = coro.throw(exc)\n",
      "\u001b[36mFile \u001b[39m\u001b[32m~/Documents/MCP/fastmcp/.venv/lib/python3.12/site-packages/pydantic_ai/tools.py:277\u001b[39m, in \u001b[36mTool.run\u001b[39m\u001b[34m(self, message, run_context)\u001b[39m\n\u001b[32m    275\u001b[39m         args_dict = \u001b[38;5;28mself\u001b[39m._validator.validate_python(message.args)\n\u001b[32m    276\u001b[39m \u001b[38;5;28;01mexcept\u001b[39;00m ValidationError \u001b[38;5;28;01mas\u001b[39;00m e:\n\u001b[32m--> \u001b[39m\u001b[32m277\u001b[39m     \u001b[38;5;28;01mreturn\u001b[39;00m \u001b[38;5;28;43mself\u001b[39;49m\u001b[43m.\u001b[49m\u001b[43m_on_error\u001b[49m\u001b[43m(\u001b[49m\u001b[43me\u001b[49m\u001b[43m,\u001b[49m\u001b[43m \u001b[49m\u001b[43mmessage\u001b[49m\u001b[43m)\u001b[49m\n\u001b[32m    279\u001b[39m args, kwargs = \u001b[38;5;28mself\u001b[39m._call_args(args_dict, message, run_context)\n\u001b[32m    280\u001b[39m \u001b[38;5;28;01mtry\u001b[39;00m:\n",
      "\u001b[36mFile \u001b[39m\u001b[32m~/Documents/MCP/fastmcp/.venv/lib/python3.12/site-packages/pydantic_ai/tools.py:325\u001b[39m, in \u001b[36mTool._on_error\u001b[39m\u001b[34m(self, exc, call_message)\u001b[39m\n\u001b[32m    323\u001b[39m \u001b[38;5;28mself\u001b[39m.current_retry += \u001b[32m1\u001b[39m\n\u001b[32m    324\u001b[39m \u001b[38;5;28;01mif\u001b[39;00m \u001b[38;5;28mself\u001b[39m.max_retries \u001b[38;5;129;01mis\u001b[39;00m \u001b[38;5;28;01mNone\u001b[39;00m \u001b[38;5;129;01mor\u001b[39;00m \u001b[38;5;28mself\u001b[39m.current_retry > \u001b[38;5;28mself\u001b[39m.max_retries:\n\u001b[32m--> \u001b[39m\u001b[32m325\u001b[39m     \u001b[38;5;28;01mraise\u001b[39;00m UnexpectedModelBehavior(\u001b[33mf\u001b[39m\u001b[33m'\u001b[39m\u001b[33mTool exceeded max retries count of \u001b[39m\u001b[38;5;132;01m{\u001b[39;00m\u001b[38;5;28mself\u001b[39m.max_retries\u001b[38;5;132;01m}\u001b[39;00m\u001b[33m'\u001b[39m) \u001b[38;5;28;01mfrom\u001b[39;00m\u001b[38;5;250m \u001b[39m\u001b[34;01mexc\u001b[39;00m\n\u001b[32m    326\u001b[39m \u001b[38;5;28;01melse\u001b[39;00m:\n\u001b[32m    327\u001b[39m     \u001b[38;5;28;01mif\u001b[39;00m \u001b[38;5;28misinstance\u001b[39m(exc, ValidationError):\n",
      "\u001b[31mUnexpectedModelBehavior\u001b[39m: Tool exceeded max retries count of 1"
     ]
    }
   ],
   "source": [
    "import os\n",
    "\n",
    "from pydantic_ai.agent import Agent\n",
    "from pydantic_ai.common_tools.tavily import tavily_search_tool\n",
    "\n",
    "api_key=os.environ['TAVILY_API_KEY']\n",
    "\n",
    "\n",
    "\n",
    "agent = Agent(\n",
    "    ollama_model,\n",
    "    tools=[tavily_search_tool(api_key)],\n",
    "    system_prompt='Search Tavily for the given query and return the results.',\n",
    ")\n",
    "\n",
    "result = agent.run_sync('Tell me the top news in the GenAI world, give me links.')\n",
    "print(result.data)\n",
    "\"\"\"\n",
    "Here are some of the top recent news articles related to GenAI:\n",
    "\n",
    "1. How CLEAR users can improve risk analysis with GenAI – Thomson Reuters\n",
    "   Read more: https://legal.thomsonreuters.com/blog/how-clear-users-can-improve-risk-analysis-with-genai/\n",
    "   (This article discusses how CLEAR's new GenAI-powered tool streamlines risk analysis by quickly summarizing key information from various public data sources.)\n",
    "\n",
    "2. TELUS Digital Survey Reveals Enterprise Employees Are Entering Sensitive Data Into AI Assistants More Than You Think – FT.com\n",
    "   Read more: https://markets.ft.com/data/announce/detail?dockey=600-202502260645BIZWIRE_USPRX____20250226_BW490609-1\n",
    "   (This news piece highlights findings from a TELUS Digital survey showing that many enterprise employees use public GenAI tools and sometimes even enter sensitive data.)\n",
    "\n",
    "3. The Essential Guide to Generative AI – Virtualization Review\n",
    "   Read more: https://virtualizationreview.com/Whitepapers/2025/02/SNOWFLAKE-The-Essential-Guide-to-Generative-AI.aspx\n",
    "   (This guide provides insights into how GenAI is revolutionizing enterprise strategies and productivity, with input from industry leaders.)\n",
    "\n",
    "Feel free to click on the links to dive deeper into each story!\n",
    "\"\"\""
   ]
  },
  {
   "cell_type": "code",
   "execution_count": 17,
   "metadata": {},
   "outputs": [
    {
     "data": {
      "text/plain": [
       "Usage(requests=2, request_tokens=1655, response_tokens=1901, total_tokens=3556, details=None)"
      ]
     },
     "execution_count": 17,
     "metadata": {},
     "output_type": "execute_result"
    }
   ],
   "source": [
    "result.usage()"
   ]
  },
  {
   "cell_type": "code",
   "execution_count": 18,
   "metadata": {},
   "outputs": [
    {
     "name": "stdout",
     "output_type": "stream",
     "text": [
      "('<think>\\n'\n",
      " 'Alright, let me tackle this query about the top five highest-grossing '\n",
      " \"animated films of 2025. The user is asking for a list that's specific to \"\n",
      " '2025, which means I need to ensure the data provided pertains accurately to '\n",
      " 'that year.\\n'\n",
      " '\\n'\n",
      " 'First, looking at the tool responses from DuckDuckGo, several sources are '\n",
      " 'cited. Wikipedia mentions \"Ne Zha 2\" surpassing other films and becoming the '\n",
      " 'highest-grossing animated film as of early 2025. Another entry on JustJared '\n",
      " 'lists \"Ne Zha 2\" with a gross of $1.72 billion as of February 20, 2025. This '\n",
      " \"suggests it's at the top.\\n\"\n",
      " '\\n'\n",
      " 'Next, there are mentions of other films like \"Inside Out 2\" being noted in '\n",
      " 'one source as the highest even though Ne Zha 2 overtook it. The Wikipedia '\n",
      " 'entry about box office number ones in the U.S. lists \"Captain America: Brave '\n",
      " 'New World\" as high-grossing domestically for Disney, but since that\\'s a '\n",
      " \"live-action film (part of Captain America franchise), unless it's an \"\n",
      " 'animated/live action hybrid, it might not count towards the pure animated '\n",
      " \"list. I need to check if that's considered animated here.\\n\"\n",
      " '\\n'\n",
      " 'The Dexerto article talks about 2024 having success with various sequels '\n",
      " 'like Moana 2 and Despicable Me 4, but the user is asking for 2025, so those '\n",
      " 'might be older entries unless they have continued 2025 earnings. The '\n",
      " 'Statista entry notes \"Inside Out 2\" as #1 as of January 2025, suggesting '\n",
      " \"it's the previous top before Ne Zha 2.\\n\"\n",
      " '\\n'\n",
      " \"Looking at another source from What's After the Movie, their page for 2025 \"\n",
      " 'is listed but incomplete in the provided summary (like no titles after rank '\n",
      " '1). The IMDB list and the-numbers.com site also refer to 2025 data. \\n'\n",
      " '\\n'\n",
      " 'I need to compile these sources carefully. Possible contenders beyond Ne Zha '\n",
      " '2 might include Inside Out 2, Moana 2, Despicable Me 4, Kung Fu Panda 4 '\n",
      " '(they were big in 2024 but maybe still grossing into 2025). However, the '\n",
      " 'IMDB list\\'s detail isn\\'t given here. Wikipedia mentions \"Ne Zha 2\" '\n",
      " 'surpassing Inside Out 2 as of early 2025, so perhaps a shift happened.\\n'\n",
      " '\\n'\n",
      " 'Also, checking for any animated Captain America film? The entry on Captain '\n",
      " 'America: Brave New World is listed under highest-grossing in the US domestic '\n",
      " \"charts but it's possible that isn't an animated movie. Looking at details, \"\n",
      " \"Ne Zha is from China, which makes sense as breaking Disney's streak \"\n",
      " '(mentioned in Wikipedia). Disney films like Inside Out 2 are part of their '\n",
      " '2024 portfolio but still ongoing into 2025.\\n'\n",
      " '\\n'\n",
      " 'Putting this together, the top five would likely be:\\n'\n",
      " '\\n'\n",
      " '1. Ne Zha 2 – leading with over $1.7B by early 2025\\n'\n",
      " '2. Inside Out 2 – previously held top spot\\n'\n",
      " '3. Moana 2 (maybe?)\\n'\n",
      " '4. Despicable Me 4\\n'\n",
      " '5. Kung Fu Panda 4? \\n'\n",
      " '\\n'\n",
      " 'Or perhaps other films like \"Turning Red\" sequels or others, but given the '\n",
      " 'data supplied, those four would fit alongside Ne Zha and Inside Out. Need to '\n",
      " 'note that some might have overlapping years or continued earnings from '\n",
      " 'previous years.\\n'\n",
      " '\\n'\n",
      " 'I should also consider if any of these entries could be international '\n",
      " 'co-productions or animated/live-action blends affecting their status. Since '\n",
      " 'the query specifies animated films, I can safely list Moana 2, Despicable '\n",
      " 'Me, etc., as they are animated. \\n'\n",
      " '\\n'\n",
      " 'Potential issue: The Statista data says Inside Out is top until Jan 2025, '\n",
      " 'then Ne Zha overtakes it in February (from JustJared). So ranking order may '\n",
      " 'have changed. Also, other entries like \"Spider-Man: Across the Spider-Verse\" '\n",
      " \"were huge in late 2023 and might still be earning in 2025? But that's \"\n",
      " 'probably way past its release date by then.\\n'\n",
      " '\\n'\n",
      " 'Based on tool responses provided, the top five are:\\n'\n",
      " '\\n'\n",
      " '1. Ne Zha 2\\n'\n",
      " '2. Inside Out 2 (if it held onto second place)\\n'\n",
      " 'Then others like Moana 2 or other mentioned films from 2024 sequels which '\n",
      " 'may have carried over revenue into early 2025. \\n'\n",
      " '\\n'\n",
      " 'Alternatively, perhaps \"Turning Red\" 2? The user\\'s sources don\\'t name more '\n",
      " 'beyond these.\\n'\n",
      " '\\n'\n",
      " \"I'll structure the answer listing Ne Zha as #1, then follow with Inside Out \"\n",
      " '2, and a couple of others based on mentions in the tool data. Need to '\n",
      " 'mention that some films might have been released in late previous year but '\n",
      " 'continued into this one, affecting earnings.\\n'\n",
      " '</think>\\n'\n",
      " '\\n'\n",
      " 'Here’s a list of the **top five highest-grossing animated films of 2025**, '\n",
      " 'based on the search results provided (note that these reflect projections or '\n",
      " 'early-year data as of January/February 2025):\\n'\n",
      " '\\n'\n",
      " '---\\n'\n",
      " '\\n'\n",
      " '### **1. *Ne Zha 2***  \\n'\n",
      " '- **Gross**: Over **$1.72 billion** worldwide (as of February 20, 2025; via '\n",
      " 'JustJared).  \\n'\n",
      " '- **Notable**: Surpassed *Inside Out 2* to become the **highest-grossing '\n",
      " 'animated film ever** in early 2025 (Wikipedia/JustJared sources).  \\n'\n",
      " '\\n'\n",
      " '---\\n'\n",
      " '\\n'\n",
      " '### **2. *Inside Out 2***  \\n'\n",
      " '- **Gross**: ~$1.7 billion worldwide by January 2025 (*Statista* and '\n",
      " 'Wikipedia mentions pre-January performance).  \\n'\n",
      " '- **Status**: Previously held the top spot until overtaken by *Ne Zha 2*.  \\n'\n",
      " '\\n'\n",
      " '---\\n'\n",
      " '\\n'\n",
      " '### **3. *Moana 2***  \\n'\n",
      " '- **Gross**: While exact figures for 2025 aren’t detailed in tool results, '\n",
      " 'its strong 2024 release (mentioned in Dexerto) likely carried strong '\n",
      " 'earnings into early 2025 due to continued global popularity and streaming '\n",
      " 'performance.  \\n'\n",
      " '\\n'\n",
      " '---\\n'\n",
      " '\\n'\n",
      " '### **4. *Despicable Me 4***  \\n'\n",
      " '- **Gross**: Likely high-ranking based on the franchise’s track record and '\n",
      " 'mention alongside Moana/Inside Out as a 2023–2024 hit in Dexerto’s coverage '\n",
      " 'of late 2024 earnings.  \\n'\n",
      " '\\n'\n",
      " '---\\n'\n",
      " '\\n'\n",
      " '### **5. *Kung Fu Panda 4***  \\n'\n",
      " '- **Gross**: Similar to above, positioned among top-grossing sequels from '\n",
      " 'previous years with carryover box office revenue (referenced in Dexerto’s '\n",
      " 'article).  \\n'\n",
      " '\\n'\n",
      " '---\\n'\n",
      " '\\n'\n",
      " '### Key Notes:  \\n'\n",
      " '- These rankings depend on when films were released (late 2023–2024 vs. '\n",
      " 'early 2025) and ongoing earnings. For example:  \\n'\n",
      " '  - *Ne Zha 2* is highlighted as a **breakout hit of early 2025**, propelled '\n",
      " 'by its Chinese market dominance.  \\n'\n",
      " '  - Disney’s franchises (*Inside Out*, *Moana*) rely on widespread '\n",
      " 'international appeal and sequel momentum.  \\n'\n",
      " '\\n'\n",
      " '- Non-animated films like *Captain America: Brave New World* (noted in U.S. '\n",
      " 'domestic charts) are excluded here, as they aren’t animated titles.  \\n'\n",
      " '\\n'\n",
      " 'For precise 2025 rankings by year-end 2025, updates would be needed to '\n",
      " 'account for full-year performance and new releases later in the year.')\n"
     ]
    }
   ],
   "source": [
    "pp.pprint(result.data)"
   ]
  },
  {
   "cell_type": "markdown",
   "metadata": {},
   "source": [
    "Message history"
   ]
  },
  {
   "cell_type": "code",
   "execution_count": 19,
   "metadata": {},
   "outputs": [
    {
     "data": {
      "text/plain": [
       "[ModelRequest(parts=[SystemPromptPart(content='Search DuckDuckGo for the given query and return the results.', dynamic_ref=None, part_kind='system-prompt'), UserPromptPart(content='Can you list the top five highest-grossing animated films of 2025?', timestamp=datetime.datetime(2025, 3, 7, 19, 25, 23, 42614, tzinfo=datetime.timezone.utc), part_kind='user-prompt')], kind='request'),\n",
       " ModelResponse(parts=[TextPart(content='', part_kind='text'), ToolCallPart(tool_name='duckduckgo_search', args='{\"query\":\"top five highest-grossing animated films of 2025\"}', tool_call_id='call_fzfnjuvc', part_kind='tool-call')], model_name='qwq:32b', timestamp=datetime.datetime(2025, 3, 7, 19, 26, 8, tzinfo=datetime.timezone.utc), kind='response'),\n",
       " ModelRequest(parts=[ToolReturnPart(tool_name='duckduckgo_search', content=[{'title': 'List of animated feature films of 2025 - Wikipedia', 'href': 'https://en.wikipedia.org/wiki/List_of_animated_feature_films_of_2025', 'body': \"Ne Zha 2 surpassed The Battle at Lake Changjin to become the highest-grossing Chinese film and highest-grossing non-English film. [110] It is currently the 7th highest grossing film of all time. [111]It surpassed Inside Out 2 to become the highest-grossing animated film of all time, [112] the first non-English film/studio to do so and breaking Disney's 14-year streak with the title after ...\"}, {'title': \"Top Animation Movies of 2025 - Best Animation Films | What's After the ...\", 'href': 'https://www.whatsafterthemovie.com/box-office/genre/animation/year/2025', 'body': \"Find out which Animation films topped the box office in 2025 with What's After the Movie. Dive into the world of Animation cinema and see the year's highest performers. ... Return. Box Office . Top Grossing Animation Movies in 2025 . Previous Year (2024) Next Year (2026) Rank Title Language Domestic Worldwide 1 :\"}, {'title': 'List of 2025 box office number-one films in the United States', 'href': 'https://en.wikipedia.org/wiki/List_of_2025_box_office_number-one_films_in_the_United_States', 'body': 'Captain America: Brave New World became the first film of 2025 to top the box office for three consecutive weekends. [10] Highest-grossing films. Highest-grossing films of 2025 by In-year release [11] Rank Title Distributor Domestic gross 1. Captain America: Brave New World: Disney: $167,151,846 2.'}, {'title': 'Top 10 Highest-Earning Animated Films at the Box Office Revealed ...', 'href': 'https://www.justjared.com/2025/02/17/top-10-highest-earning-animated-films-at-the-box-office-revealed-disney-dominates/6/', 'body': '1. Ne Zha 2. Studio: CMC Pictures Year Released: 2025 All Time Gross: $1.72 billion (As of February 20, 2025). Synopsis: After the heavenly lightning, although Ne Zha and Ao Bing survived by ...'}, {'title': 'Box Office Performance for Animation/Live Action Movies in 2025', 'href': 'https://www.the-numbers.com/market/2025/production-method/Animation-and-Live-Action', 'body': 'It includes movies released in previous years that earned money during 2025. For example, a movie released over Thanksgiving in 2010 will most likely earn money in 2010 and 2011. Click on the individual movie to see its total gross over all the years in which it played.'}, {'title': 'Biggest box office hits of 2025, including The Monkey', 'href': 'https://www.dexerto.com/tv-movies/highest-grossing-movies-2025-box-office-3142332/', 'body': '2024 was an interesting year at the global box office, with animated movies like Inside Out 2, Moana 2, Despicable Me 4, and Kung Fu Panda 4 all making a mint in cinemas, while Deadpool ...'}, {'title': 'The Numbers - Movie Market Summary for Year 2025', 'href': 'https://m.the-numbers.com/market/2025/summary', 'body': 'Top Grossing Movies of 2025. Rank Movie Release Date Distributor Genre 2025 ... The highest values in the column(s) No. 1 Box Office, ... 5: Stop-Motion Animation: 1: $45,868: 4,255: 0.00%: See complete chart Market Share for Each Creative Type in 2025. Rank Creative Type Movies 2025 Gross Tickets'}, {'title': 'Highest grossing animated movies ever 2025 | Statista', 'href': 'https://www.statista.com/statistics/1482040/highest-grossing-animated-movies-box-office-worldwide/', 'body': 'As of January 2025, \"Inside Out 2\" (2024) was the highest-grossing animated feature film ever released, grossing 1.7 billion U.S.'}, {'title': '2025 WORLDWIDE BOX OFFICE! The 100 Highest Grossing Films of the ... - IMDb', 'href': 'https://www.imdb.com/list/ls595371725/', 'body': 'This list is an overview of the Worldwide Box Office 2025 and includes the most successful films worldwide and the biggest box office hits of the film year 2025, what means all theatrical released hit films which made the audience go to cinema in different countries and all around the world that year. Here are the box office results of all the top-grossing films from the USA, China, India ...'}, {'title': 'Top 2025 Movies at the Worldwide Box Office', 'href': 'https://thenumbers.com/box-office-records/worldwide/all-movies/cumulative/released-in-2025', 'body': 'Top 2025 Movies at the Worldwide Box Office See also: Top 2025 Domestic - Top 2025 International Other Worldwide Cumulative records: All Time Worldwide - All Time Single Market - All Time Animated Worldwide - All Time Sequel Worldwide - All Time Non-Sequel Worldwide. This chart contains the total worldwide box office for the movies released in ...'}], tool_call_id='call_fzfnjuvc', timestamp=datetime.datetime(2025, 3, 7, 19, 26, 9, 703561, tzinfo=datetime.timezone.utc), part_kind='tool-return')], kind='request'),\n",
       " ModelResponse(parts=[TextPart(content='<think>\\nAlright, let me tackle this query about the top five highest-grossing animated films of 2025. The user is asking for a list that\\'s specific to 2025, which means I need to ensure the data provided pertains accurately to that year.\\n\\nFirst, looking at the tool responses from DuckDuckGo, several sources are cited. Wikipedia mentions \"Ne Zha 2\" surpassing other films and becoming the highest-grossing animated film as of early 2025. Another entry on JustJared lists \"Ne Zha 2\" with a gross of $1.72 billion as of February 20, 2025. This suggests it\\'s at the top.\\n\\nNext, there are mentions of other films like \"Inside Out 2\" being noted in one source as the highest even though Ne Zha 2 overtook it. The Wikipedia entry about box office number ones in the U.S. lists \"Captain America: Brave New World\" as high-grossing domestically for Disney, but since that\\'s a live-action film (part of Captain America franchise), unless it\\'s an animated/live action hybrid, it might not count towards the pure animated list. I need to check if that\\'s considered animated here.\\n\\nThe Dexerto article talks about 2024 having success with various sequels like Moana 2 and Despicable Me 4, but the user is asking for 2025, so those might be older entries unless they have continued 2025 earnings. The Statista entry notes \"Inside Out 2\" as #1 as of January 2025, suggesting it\\'s the previous top before Ne Zha 2.\\n\\nLooking at another source from What\\'s After the Movie, their page for 2025 is listed but incomplete in the provided summary (like no titles after rank 1). The IMDB list and the-numbers.com site also refer to 2025 data. \\n\\nI need to compile these sources carefully. Possible contenders beyond Ne Zha 2 might include Inside Out 2, Moana 2, Despicable Me 4, Kung Fu Panda 4 (they were big in 2024 but maybe still grossing into 2025). However, the IMDB list\\'s detail isn\\'t given here. Wikipedia mentions \"Ne Zha 2\" surpassing Inside Out 2 as of early 2025, so perhaps a shift happened.\\n\\nAlso, checking for any animated Captain America film? The entry on Captain America: Brave New World is listed under highest-grossing in the US domestic charts but it\\'s possible that isn\\'t an animated movie. Looking at details, Ne Zha is from China, which makes sense as breaking Disney\\'s streak (mentioned in Wikipedia). Disney films like Inside Out 2 are part of their 2024 portfolio but still ongoing into 2025.\\n\\nPutting this together, the top five would likely be:\\n\\n1. Ne Zha 2 – leading with over $1.7B by early 2025\\n2. Inside Out 2 – previously held top spot\\n3. Moana 2 (maybe?)\\n4. Despicable Me 4\\n5. Kung Fu Panda 4? \\n\\nOr perhaps other films like \"Turning Red\" sequels or others, but given the data supplied, those four would fit alongside Ne Zha and Inside Out. Need to note that some might have overlapping years or continued earnings from previous years.\\n\\nI should also consider if any of these entries could be international co-productions or animated/live-action blends affecting their status. Since the query specifies animated films, I can safely list Moana 2, Despicable Me, etc., as they are animated. \\n\\nPotential issue: The Statista data says Inside Out is top until Jan 2025, then Ne Zha overtakes it in February (from JustJared). So ranking order may have changed. Also, other entries like \"Spider-Man: Across the Spider-Verse\" were huge in late 2023 and might still be earning in 2025? But that\\'s probably way past its release date by then.\\n\\nBased on tool responses provided, the top five are:\\n\\n1. Ne Zha 2\\n2. Inside Out 2 (if it held onto second place)\\nThen others like Moana 2 or other mentioned films from 2024 sequels which may have carried over revenue into early 2025. \\n\\nAlternatively, perhaps \"Turning Red\" 2? The user\\'s sources don\\'t name more beyond these.\\n\\nI\\'ll structure the answer listing Ne Zha as #1, then follow with Inside Out 2, and a couple of others based on mentions in the tool data. Need to mention that some films might have been released in late previous year but continued into this one, affecting earnings.\\n</think>\\n\\nHere’s a list of the **top five highest-grossing animated films of 2025**, based on the search results provided (note that these reflect projections or early-year data as of January/February 2025):\\n\\n---\\n\\n### **1. *Ne Zha 2***  \\n- **Gross**: Over **$1.72 billion** worldwide (as of February 20, 2025; via JustJared).  \\n- **Notable**: Surpassed *Inside Out 2* to become the **highest-grossing animated film ever** in early 2025 (Wikipedia/JustJared sources).  \\n\\n---\\n\\n### **2. *Inside Out 2***  \\n- **Gross**: ~$1.7 billion worldwide by January 2025 (*Statista* and Wikipedia mentions pre-January performance).  \\n- **Status**: Previously held the top spot until overtaken by *Ne Zha 2*.  \\n\\n---\\n\\n### **3. *Moana 2***  \\n- **Gross**: While exact figures for 2025 aren’t detailed in tool results, its strong 2024 release (mentioned in Dexerto) likely carried strong earnings into early 2025 due to continued global popularity and streaming performance.  \\n\\n---\\n\\n### **4. *Despicable Me 4***  \\n- **Gross**: Likely high-ranking based on the franchise’s track record and mention alongside Moana/Inside Out as a 2023–2024 hit in Dexerto’s coverage of late 2024 earnings.  \\n\\n---\\n\\n### **5. *Kung Fu Panda 4***  \\n- **Gross**: Similar to above, positioned among top-grossing sequels from previous years with carryover box office revenue (referenced in Dexerto’s article).  \\n\\n---\\n\\n### Key Notes:  \\n- These rankings depend on when films were released (late 2023–2024 vs. early 2025) and ongoing earnings. For example:  \\n  - *Ne Zha 2* is highlighted as a **breakout hit of early 2025**, propelled by its Chinese market dominance.  \\n  - Disney’s franchises (*Inside Out*, *Moana*) rely on widespread international appeal and sequel momentum.  \\n\\n- Non-animated films like *Captain America: Brave New World* (noted in U.S. domestic charts) are excluded here, as they aren’t animated titles.  \\n\\nFor precise 2025 rankings by year-end 2025, updates would be needed to account for full-year performance and new releases later in the year.', part_kind='text')], model_name='qwq:32b', timestamp=datetime.datetime(2025, 3, 7, 19, 30, 17, tzinfo=datetime.timezone.utc), kind='response')]"
      ]
     },
     "execution_count": 19,
     "metadata": {},
     "output_type": "execute_result"
    }
   ],
   "source": [
    "result.all_messages()"
   ]
  },
  {
   "cell_type": "markdown",
   "metadata": {},
   "source": [
    "## Agent delegation\n",
    "\"Agent delegation\" refers to the scenario where an agent delegates work to another agent, then takes back control when the delegate agent (the agent called from within a tool) finishes.\n",
    "\n",
    "Since agents are stateless and designed to be global, you do not need to include the agent itself in agent dependencies.\n",
    "\n",
    "You'll generally want to pass ctx.usage to the usage keyword argument of the delegate agent run so usage within that run counts towards the total usage of the parent agent run."
   ]
  },
  {
   "cell_type": "code",
   "execution_count": 23,
   "metadata": {},
   "outputs": [
    {
     "name": "stdout",
     "output_type": "stream",
     "text": [
      "Here's the joke I've generated for you:\n",
      "\n",
      "Why don't scientists trust atoms? Because they make up everything!\n",
      "\n",
      "I hope this joke brings a smile to your face! Let me know if you need another one or any other help.\n",
      "Usage(requests=1, request_tokens=161, response_tokens=48, total_tokens=209, details=None)\n"
     ]
    },
    {
     "data": {
      "text/plain": [
       "'\\nUsage(\\n    requests=3, request_tokens=204, response_tokens=24, total_tokens=228, details=None\\n)\\n'"
      ]
     },
     "execution_count": 23,
     "metadata": {},
     "output_type": "execute_result"
    }
   ],
   "source": [
    "from pydantic_ai import Agent, RunContext\n",
    "from pydantic_ai.usage import UsageLimits\n",
    "from pydantic_ai.models.openai import OpenAIModel\n",
    "import nest_asyncio\n",
    "nest_asyncio.apply()\n",
    "\n",
    "qwen_model = OpenAIModel(\n",
    "    model_name='qwen2.5-coder:14b', provider=OpenAIProvider(base_url='http://localhost:11434/v1')\n",
    ")\n",
    "\n",
    "joke_selection_agent = Agent(  \n",
    "    qwen_model,\n",
    "    system_prompt=(\n",
    "        'Use the `joke_factory` to generate some jokes, then choose the best. '\n",
    "        'You must return just a single joke.'\n",
    "    ),\n",
    ")\n",
    "joke_generation_agent = Agent(  \n",
    "    qwen_model, result_type=list[str]\n",
    ")\n",
    "\n",
    "@joke_selection_agent.tool\n",
    "async def joke_factory(ctx: RunContext[None], count: int) -> list[str]:\n",
    "    r = await joke_generation_agent.run(  \n",
    "        f'Please generate {count} jokes.'\n",
    "        # usage=ctx.usage,  \n",
    "    )\n",
    "    return r.data  \n",
    "\n",
    "\n",
    "result = joke_selection_agent.run_sync(\n",
    "    'Tell me a joke.'\n",
    "    # usage_limits=UsageLimits(request_limit=5, total_tokens_limit=3000),\n",
    ")\n",
    "print(result.data)\n",
    "#> Did you hear about the toothpaste scandal? They called it Colgate.\n",
    "print(result.usage())\n",
    "\"\"\"\n",
    "Usage(\n",
    "    requests=3, request_tokens=204, response_tokens=24, total_tokens=228, details=None\n",
    ")\n",
    "\"\"\""
   ]
  },
  {
   "cell_type": "code",
   "execution_count": 24,
   "metadata": {},
   "outputs": [
    {
     "data": {
      "text/plain": [
       "[ModelRequest(parts=[SystemPromptPart(content='Use the `joke_factory` to generate some jokes, then choose the best. You must return just a single joke.', dynamic_ref=None, part_kind='system-prompt'), UserPromptPart(content='Tell me a joke.', timestamp=datetime.datetime(2025, 3, 7, 19, 38, 8, 156676, tzinfo=datetime.timezone.utc), part_kind='user-prompt')], kind='request'),\n",
       " ModelResponse(parts=[TextPart(content=\"Here's the joke I've generated for you:\\n\\nWhy don't scientists trust atoms? Because they make up everything!\\n\\nI hope this joke brings a smile to your face! Let me know if you need another one or any other help.\", part_kind='text')], model_name='qwen2.5-coder:14b', timestamp=datetime.datetime(2025, 3, 7, 19, 38, 9, tzinfo=datetime.timezone.utc), kind='response')]"
      ]
     },
     "execution_count": 24,
     "metadata": {},
     "output_type": "execute_result"
    }
   ],
   "source": [
    "result.all_messages()"
   ]
  },
  {
   "cell_type": "markdown",
   "metadata": {},
   "source": [
    "Generally the delegate agent needs to either have the same dependencies as the calling agent, or dependencies which are a subset of the calling agent's dependencies."
   ]
  },
  {
   "cell_type": "code",
   "execution_count": 28,
   "metadata": {},
   "outputs": [
    {
     "name": "stdout",
     "output_type": "stream",
     "text": [
      "('Here is a joke for you:\\n'\n",
      " '\\n'\n",
      " \"Why don't scientists trust atoms?\\n\"\n",
      " '\\n'\n",
      " 'Because they make up everything!')\n",
      "Usage(requests=2,\n",
      "      request_tokens=360,\n",
      "      response_tokens=103,\n",
      "      total_tokens=463,\n",
      "      details=None)\n"
     ]
    }
   ],
   "source": [
    "from dataclasses import dataclass\n",
    "\n",
    "import httpx\n",
    "\n",
    "from pydantic_ai import Agent, RunContext\n",
    "import nest_asyncio\n",
    "nest_asyncio.apply()\n",
    "\n",
    "@dataclass\n",
    "class ClientAndKey:  \n",
    "    http_client: httpx.AsyncClient\n",
    "    api_key: str\n",
    "\n",
    "\n",
    "joke_selection_agent = Agent(\n",
    "    qwen_model,\n",
    "    deps_type=ClientAndKey,  \n",
    "    system_prompt=(\n",
    "        'Use the `joke_factory` tool to generate some jokes on the given subject, '\n",
    "        'then choose the best. You must return just a single joke.'\n",
    "    ),\n",
    ")\n",
    "joke_generation_agent = Agent(\n",
    "    qwen_model,\n",
    "    deps_type=ClientAndKey,  \n",
    "    result_type=list[str],\n",
    "    system_prompt=(\n",
    "        'Use the \"get_jokes\" tool to get some jokes on the given subject, '\n",
    "        'then extract each joke into a list.'\n",
    "    ),\n",
    ")\n",
    "\n",
    "\n",
    "@joke_selection_agent.tool\n",
    "async def joke_factory(ctx: RunContext[ClientAndKey], count: int) -> list[str]:\n",
    "    r = await joke_generation_agent.run(\n",
    "        f'Please generate {count} jokes.',\n",
    "        deps=ctx.deps\n",
    "        # usage=ctx.usage,\n",
    "    )\n",
    "    return r.data\n",
    "\n",
    "\n",
    "@joke_generation_agent.tool  \n",
    "async def get_jokes(ctx: RunContext[ClientAndKey], count: int) -> str:\n",
    "    response = await ctx.deps.http_client.get(\n",
    "        'https://example.com',\n",
    "        params={'count': count},\n",
    "        headers={'Authorization': f'Bearer {ctx.deps.api_key}'},\n",
    "    )\n",
    "    response.raise_for_status()\n",
    "    return response.text\n",
    "\n",
    "\n",
    "async with httpx.AsyncClient() as client:\n",
    "    deps = ClientAndKey(client, 'foobar')\n",
    "    result = joke_selection_agent.run_sync(\n",
    "        'Tell me a joke.', \n",
    "        deps=deps,\n",
    "        usage_limits=UsageLimits(total_tokens_limit=3000))\n",
    "    pp.pprint(result.data)\n",
    "    #> Did you hear about the toothpaste scandal? They called it Colgate.\n",
    "    pp.pprint(result.usage())  \n",
    "    \"\"\"\n",
    "    Usage(\n",
    "        requests=4,\n",
    "        request_tokens=309,\n",
    "        response_tokens=32,\n",
    "        total_tokens=341,\n",
    "        details=None,\n",
    "    )\n",
    "    \"\"\""
   ]
  },
  {
   "cell_type": "code",
   "execution_count": 29,
   "metadata": {},
   "outputs": [],
   "source": [
    "from typing import Literal, Union\n",
    "from pydantic import BaseModel, Field\n",
    "from pydantic_ai import Agent, RunContext\n",
    "from pydantic_ai.usage import UsageLimits\n",
    "from pydantic_ai.models.openai import OpenAIModel\n",
    "from pydantic_ai.providers.openai import OpenAIProvider\n",
    "from pydantic_ai.usage import Usage, UsageLimits\n",
    "from pydantic_ai.messages import ModelMessage\n",
    "from rich.prompt import Prompt\n",
    "\n",
    "import nest_asyncio\n",
    "nest_asyncio.apply()\n",
    "\n",
    "qwen_model = OpenAIModel(\n",
    "    model_name='qwen2.5-coder:14b', provider=OpenAIProvider(base_url='http://localhost:11434/v1')\n",
    ")"
   ]
  },
  {
   "cell_type": "code",
   "execution_count": 30,
   "metadata": {},
   "outputs": [
    {
     "data": {
      "text/html": [
       "<pre style=\"white-space:pre;overflow-x:auto;line-height:normal;font-family:Menlo,'DejaVu Sans Mono',consolas,'Courier New',monospace\">Where would you like to fly from and to?: </pre>\n"
      ],
      "text/plain": [
       "Where would you like to fly from and to?: "
      ]
     },
     "metadata": {},
     "output_type": "display_data"
    },
    {
     "name": "stdout",
     "output_type": "stream",
     "text": [
      "Flight found: AK46\n"
     ]
    },
    {
     "data": {
      "text/html": [
       "<pre style=\"white-space:pre;overflow-x:auto;line-height:normal;font-family:Menlo,'DejaVu Sans Mono',consolas,'Courier New',monospace\">What seat would you like?: </pre>\n"
      ],
      "text/plain": [
       "What seat would you like?: "
      ]
     },
     "metadata": {},
     "output_type": "display_data"
    },
    {
     "name": "stdout",
     "output_type": "stream",
     "text": [
      "Could not understand seat prefeerence. Please try again.\n"
     ]
    },
    {
     "data": {
      "text/html": [
       "<pre style=\"white-space:pre;overflow-x:auto;line-height:normal;font-family:Menlo,'DejaVu Sans Mono',consolas,'Courier New',monospace\">What seat would you like?: </pre>\n"
      ],
      "text/plain": [
       "What seat would you like?: "
      ]
     },
     "metadata": {},
     "output_type": "display_data"
    },
    {
     "name": "stdout",
     "output_type": "stream",
     "text": [
      "Could not understand seat prefeerence. Please try again.\n"
     ]
    },
    {
     "data": {
      "text/html": [
       "<pre style=\"white-space:pre;overflow-x:auto;line-height:normal;font-family:Menlo,'DejaVu Sans Mono',consolas,'Courier New',monospace\">What seat would you like?: </pre>\n"
      ],
      "text/plain": [
       "What seat would you like?: "
      ]
     },
     "metadata": {},
     "output_type": "display_data"
    },
    {
     "name": "stdout",
     "output_type": "stream",
     "text": [
      "Could not understand seat prefeerence. Please try again.\n"
     ]
    },
    {
     "data": {
      "text/html": [
       "<pre style=\"white-space:pre;overflow-x:auto;line-height:normal;font-family:Menlo,'DejaVu Sans Mono',consolas,'Courier New',monospace\">What seat would you like?: </pre>\n"
      ],
      "text/plain": [
       "What seat would you like?: "
      ]
     },
     "metadata": {},
     "output_type": "display_data"
    },
    {
     "name": "stdout",
     "output_type": "stream",
     "text": [
      "Seat preference: row=1 seat='A'\n"
     ]
    }
   ],
   "source": [
    "class FlightDetails(BaseModel):\n",
    "    flight_number: str\n",
    "\n",
    "\n",
    "class Failed(BaseModel):\n",
    "    \"\"\"Unable to find a satisfactory choice.\"\"\"\n",
    "\n",
    "flight_search_agent = Agent[None, Union[FlightDetails, Failed]](\n",
    "    qwen_model,\n",
    "    result_type=Union[FlightDetails, Failed], # type: ingore\n",
    "    system_prompt=(\n",
    "        'Use the \"flight_search\" tool to find a flight '\n",
    "        'from the given origin to the given destinaiton.'\n",
    "    )\n",
    ")\n",
    "\n",
    "@flight_search_agent.tool\n",
    "async def flight_search(\n",
    "    ctx: RunContext[None], origin: str, destinaiton: str\n",
    ") -> Union[FlightDetails, None]:\n",
    "    # in reality, this would call a flight search API or\n",
    "    # use a browser to scrap a flight search website\n",
    "    return FlightDetails(flight_number='AK46')\n",
    "\n",
    "usage_limits = UsageLimits(request_limit=60)\n",
    "\n",
    "async def find_flight(usage: Usage) -> Union[FlightDetails, None]:\n",
    "    message_history: Union[list[ModelMessage], None] = None\n",
    "    for _ in range(3):\n",
    "        prompt = Prompt.ask(\n",
    "            'Where would you like to fly from and to?'\n",
    "        )\n",
    "        result = await flight_search_agent.run(\n",
    "            prompt,\n",
    "            message_history=message_history,\n",
    "            usage=usage,\n",
    "            usage_limits=usage_limits\n",
    "        )\n",
    "        if isinstance(result.data, FlightDetails):\n",
    "            return result.data\n",
    "        else:\n",
    "            message_history = result.all_messages(\n",
    "                result_tool_return_content='Please try again.'\n",
    "            )\n",
    "\n",
    "\n",
    "class SeatPreference(BaseModel):\n",
    "    row: int = Field(ge=1, le=30)\n",
    "    seat: Literal['A', 'B', 'C', 'D', 'E', 'F']\n",
    "\n",
    "\n",
    "# This agent is responsible for extracting the user's seat selection\n",
    "seat_preference_agent = Agent[None, Union[SeatPreference, Failed]](\n",
    "    qwen_model,\n",
    "    result_type=Union[SeatPreference, Failed], # type: ignore\n",
    "    system_prompt=(\n",
    "        \"Extract the user's seat preference. \"\n",
    "        'Seats A and F are window seats. '\n",
    "        'Row 1 is the front row and has extra log room. '\n",
    "        'Rows 14, and 20 also have extra leg roow. '\n",
    "    )\n",
    ")\n",
    "\n",
    "async def find_seat(usage: Usage) -> SeatPreference:\n",
    "    message_history: Union[list[ModelMessage], None] = None\n",
    "    while True:\n",
    "        answer = Prompt.ask('What seat would you like?')\n",
    "\n",
    "        result = await seat_preference_agent.run(\n",
    "            answer,\n",
    "            message_history=message_history,\n",
    "            usage=usage,\n",
    "            usage_limits=usage_limits\n",
    "        )\n",
    "        if isinstance(result.data, SeatPreference):\n",
    "            return result.data\n",
    "        else:\n",
    "            print('Could not understand seat prefeerence. Please try again.')\n",
    "            message_history = result.all_messages()\n",
    "\n",
    "usage: Usage = Usage()\n",
    "\n",
    "opt_flight_details = await find_flight(usage)\n",
    "\n",
    "if opt_flight_details is not None:\n",
    "    print(f'Flight found: {opt_flight_details.flight_number}')\n",
    "    #> Flight found: AK456\n",
    "    seat_preference = await find_seat(usage)\n",
    "    print(f'Seat preference: {seat_preference}')\n",
    "    #> Seat prerence: row=1 seat='A'"
   ]
  },
  {
   "cell_type": "markdown",
   "metadata": {},
   "source": [
    "## Programmic agent hand-off\n",
    "\"Programmatic agent hand-off\" refers to the scenario where multiple agents are called in succession, with application code and/or a human in the loop responsible for deciding which agent is caleld next.\n",
    "\n",
    "Here agents don't need to use the same deps.\n",
    "\n",
    "Here we show two agents used in succession, the first to find a flight and the second "
   ]
  },
  {
   "cell_type": "code",
   "execution_count": null,
   "metadata": {},
   "outputs": [],
   "source": [
    "from typing import Literal, Union\n",
    "\n",
    "from pydantic import BaseModel, Field\n",
    "from rich.prompt import Prompt\n",
    "\n",
    "from pydantic_ai import Agent, RunContext\n",
    "from pydantic_ai.messages import ModelMessage\n",
    "from pydantic_ai.usage import Usage, UsageLimits"
   ]
  },
  {
   "cell_type": "code",
   "execution_count": 35,
   "metadata": {},
   "outputs": [
    {
     "data": {
      "text/html": [
       "<pre style=\"white-space:pre;overflow-x:auto;line-height:normal;font-family:Menlo,'DejaVu Sans Mono',consolas,'Courier New',monospace\">Where would you like to fly from and to?: </pre>\n"
      ],
      "text/plain": [
       "Where would you like to fly from and to?: "
      ]
     },
     "metadata": {},
     "output_type": "display_data"
    },
    {
     "name": "stdout",
     "output_type": "stream",
     "text": [
      "Flight found: AK456\n"
     ]
    },
    {
     "data": {
      "text/html": [
       "<pre style=\"white-space:pre;overflow-x:auto;line-height:normal;font-family:Menlo,'DejaVu Sans Mono',consolas,'Courier New',monospace\">What seat would you like?: </pre>\n"
      ],
      "text/plain": [
       "What seat would you like?: "
      ]
     },
     "metadata": {},
     "output_type": "display_data"
    },
    {
     "name": "stdout",
     "output_type": "stream",
     "text": [
      "Seat preference: row=1 seat='B'\n"
     ]
    }
   ],
   "source": [
    "class FlightDetails(BaseModel):\n",
    "    flight_number: str\n",
    "\n",
    "class Failed(BaseModel):\n",
    "    \"\"\"Unable to find a satisfactory choice.\"\"\"\n",
    "\n",
    "flight_search_agent = Agent[None, Union[FlightDetails, Failed]](\n",
    "    qwen_model,\n",
    "    result_type=Union[FlightDetails, Failed], # type: ignore\n",
    "    system_prompt=(\n",
    "        'Used the \"flight_search\" tool to find a flight '\n",
    "        'from the given origin to the given destination.'\n",
    "    )\n",
    ")\n",
    "\n",
    "@flight_search_agent.tool\n",
    "async def flight_search(\n",
    "    ctx: RunContext[None], origin: str, destination: str\n",
    ") -> Union[FlightDetails, None]:\n",
    "    # in reality, this would call a flight search API or\n",
    "    # use a browser to scrap a flight search website\n",
    "    return FlightDetails(flight_number='AK456')\n",
    "\n",
    "usage_limits = UsageLimits(request_limit=15)\n",
    "\n",
    "async def find_flight(usage: Usage) -> Union[FlightDetails, None]:\n",
    "    message_history: Union[list[ModelMessage], None] = None\n",
    "    for _ in range(3):\n",
    "        prompt = Prompt.ask(\n",
    "            'Where would you like to fly from and to?'\n",
    "        )\n",
    "        result = await flight_search_agent.run(\n",
    "            prompt,\n",
    "            message_history=message_history,\n",
    "            usage=usage,\n",
    "            usage_limits=usage_limits            \n",
    "        )\n",
    "        if isinstance(result.data, FlightDetails):\n",
    "            return result.data\n",
    "        else:\n",
    "            message_history = result.all_messages(\n",
    "                result_tool_return_content='Please try again.'\n",
    "            )\n",
    "\n",
    "class SeatPreference(BaseModel):\n",
    "    row: int = Field(ge=1, le=30)\n",
    "    seat: Literal['A', 'B', 'C', 'D', 'E', 'F']\n",
    "\n",
    "# This agent is responsible for extracting the user's seat selection\n",
    "seat_preference_agent = Agent[None, Union[SeatPreference, Failed]](\n",
    "    qwen_model,\n",
    "    result_type=Union[SeatPreference, Failed], # type: ignore\n",
    "    system_prompt=(\n",
    "        \"Extract the user's seat preference. \"\n",
    "        'Seats A and F are window seats. '\n",
    "        'Row 1 is the front row and has extra leg room. '\n",
    "        'Rows 14, and 20 also have extra leg room. '\n",
    "    )\n",
    ")\n",
    "\n",
    "async def find_seat(usage: Usage) -> SeatPreference:\n",
    "    message_history: Union[list[ModelMessage], None] = None\n",
    "    while True:\n",
    "        answer = Prompt.ask('What seat would you like?')\n",
    "\n",
    "        result = await seat_preference_agent.run(\n",
    "            answer,\n",
    "            message_history=message_history,\n",
    "            usage=usage,\n",
    "            usage_limits=usage_limits\n",
    "        )\n",
    "        if isinstance(result.data, SeatPreference):\n",
    "            return result.data\n",
    "        else:\n",
    "            print('Could not understand seat preference. Please try again.')\n",
    "            message_history = result.all_messages()\n",
    "\n",
    "usage: Usage = Usage()\n",
    "\n",
    "opt_flight_details = await find_flight(usage)\n",
    "if opt_flight_details is not None:\n",
    "    print(f'Flight found: {opt_flight_details.flight_number}')\n",
    "    #> Flight found: AK456\n",
    "    seat_preference = await find_seat(usage)\n",
    "    print(f'Seat preference: {seat_preference}')\n",
    "    #> Seat preference: row=1 seat='A'"
   ]
  },
  {
   "cell_type": "code",
   "execution_count": null,
   "metadata": {},
   "outputs": [],
   "source": []
  }
 ],
 "metadata": {
  "kernelspec": {
   "display_name": ".venv",
   "language": "python",
   "name": "python3"
  },
  "language_info": {
   "codemirror_mode": {
    "name": "ipython",
    "version": 3
   },
   "file_extension": ".py",
   "mimetype": "text/x-python",
   "name": "python",
   "nbconvert_exporter": "python",
   "pygments_lexer": "ipython3",
   "version": "3.12.3"
  }
 },
 "nbformat": 4,
 "nbformat_minor": 2
}
