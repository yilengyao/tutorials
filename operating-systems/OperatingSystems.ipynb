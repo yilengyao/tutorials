{
 "cells": [
  {
   "cell_type": "markdown",
   "id": "5e19df34-ef80-4442-9b79-516fcb5a2b49",
   "metadata": {
    "editable": true,
    "slideshow": {
     "slide_type": ""
    },
    "tags": []
   },
   "source": [
    "https://www.youtube.com/watch?v=yK1uBHPdp30"
   ]
  },
  {
   "cell_type": "markdown",
   "id": "bb8650ea-2a8c-4c2b-8c0b-f8c2fcf7dc13",
   "metadata": {},
   "source": [
    "# Operating System\n",
    "## What is an operating system\n",
    "OS is an interface between the user(programmer) an computer(hardware).\n",
    "\n"
   ]
  },
  {
   "cell_type": "code",
   "execution_count": 2,
   "id": "1d3c2386-37db-4581-9743-71f5a639621a",
   "metadata": {},
   "outputs": [
    {
     "ename": "NameError",
     "evalue": "name 'fdsf' is not defined",
     "output_type": "error",
     "traceback": [
      "\u001b[0;31m---------------------------------------------------------------------------\u001b[0m",
      "\u001b[0;31mNameError\u001b[0m                                 Traceback (most recent call last)",
      "Cell \u001b[0;32mIn[2], line 1\u001b[0m\n\u001b[0;32m----> 1\u001b[0m \u001b[43mfdsf\u001b[49m\n",
      "\u001b[0;31mNameError\u001b[0m: name 'fdsf' is not defined"
     ]
    }
   ],
   "source": [
    "fdsf"
   ]
  },
  {
   "cell_type": "code",
   "execution_count": 1,
   "id": "5bd6f646-562b-4d27-a411-7fa1ea253e65",
   "metadata": {},
   "outputs": [
    {
     "data": {
      "text/plain": [
       "9"
      ]
     },
     "execution_count": 1,
     "metadata": {},
     "output_type": "execute_result"
    }
   ],
   "source": [
    "9"
   ]
  },
  {
   "cell_type": "code",
   "execution_count": 3,
   "id": "4d06aadc-de68-4fdd-92f3-ed83cc73ba1e",
   "metadata": {},
   "outputs": [
    {
     "data": {
      "text/plain": [
       "18"
      ]
     },
     "execution_count": 3,
     "metadata": {},
     "output_type": "execute_result"
    }
   ],
   "source": [
    "9+9"
   ]
  },
  {
   "cell_type": "code",
   "execution_count": null,
   "id": "014bee26-994a-4036-8ff9-0021969aadf6",
   "metadata": {
    "editable": true,
    "slideshow": {
     "slide_type": ""
    },
    "tags": []
   },
   "outputs": [],
   "source": []
  }
 ],
 "metadata": {
  "kernelspec": {
   "display_name": "Python 3 (ipykernel)",
   "language": "python",
   "name": "python3"
  },
  "language_info": {
   "codemirror_mode": {
    "name": "ipython",
    "version": 3
   },
   "file_extension": ".py",
   "mimetype": "text/x-python",
   "name": "python",
   "nbconvert_exporter": "python",
   "pygments_lexer": "ipython3",
   "version": "3.12.2"
  }
 },
 "nbformat": 4,
 "nbformat_minor": 5
}
