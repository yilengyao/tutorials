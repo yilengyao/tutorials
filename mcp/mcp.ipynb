{
 "cells": [
  {
   "cell_type": "markdown",
   "id": "d6deab7b-3efe-4884-b891-8aff84c17cf0",
   "metadata": {},
   "source": [
    "# JSONRpc\n",
    "Is a protocol for communication using JSON messages, the uses the request and response model.\n",
    "\n",
    "Reequest\n",
    "- jsonrpc: version number\n",
    "- method: function to invoke\n",
    "- params: function arguments\n",
    "- id: unique message identifier\n",
    "\n",
    "Response\n",
    "- jsonrpc: version number\n",
    "- result?: success content\n",
    "- error?: { code, message, data}\n",
    "- id: request's identifier\n",
    "\n",
    "// Start with the raw JSON-RPC request object\n",
    "const jsonRpecReques = {\n",
    "    \"jsonrpc\": \"2.0\",\n",
    "    \"method\": \"sum\",\n",
    "    \"params\": [3,4,5],\n",
    "    \"id\": 1\n",
    "}\n",
    "\n",
    "// Convert the JSON object to a string\n",
    "const jsonRpcString = JSON.stringify(jsonRpcRequest);\n",
    "\n",
    "// Calculate the length of the string in bytes\n",
    "const length = Buffer.byteLength(jsonRpacString, 'utf8');\n",
    "\n",
    "// Construct the message with Content-Length header and JSON-RPC content\n",
    "\n",
    "const message = `Content-Length: ${length}\\r\\n\\r\\n${jsonRpcString}`;"
   ]
  },
  {
   "cell_type": "markdown",
   "id": "5e20d348-5101-4f01-bdff-2735ff51443a",
   "metadata": {},
   "source": [
    "- tools: model controlled, Functions invoked by the model\n",
    "- resources: application controlled, Data exposed to the application\n",
    "- prompts: user controlled, Pre-defined templates for AI applications"
   ]
  }
 ],
 "metadata": {
  "kernelspec": {
   "display_name": "Python 3 (ipykernel)",
   "language": "python",
   "name": "python3"
  },
  "language_info": {
   "codemirror_mode": {
    "name": "ipython",
    "version": 3
   },
   "file_extension": ".py",
   "mimetype": "text/x-python",
   "name": "python",
   "nbconvert_exporter": "python",
   "pygments_lexer": "ipython3",
   "version": "3.12.3"
  }
 },
 "nbformat": 4,
 "nbformat_minor": 5
}
