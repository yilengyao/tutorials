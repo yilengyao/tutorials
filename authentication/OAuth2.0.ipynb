{
 "cells": [
  {
   "cell_type": "markdown",
   "id": "fe368165-5245-41c7-a36c-6173995bcc12",
   "metadata": {
    "jp-MarkdownHeadingCollapsed": true
   },
   "source": [
    "# OAuth 2.0\n",
    "OAuth 2.0 authorization framework enables third party applications to obtain limited access to an HTTP service either on the behalf of the resource owner by orchestrating an approval interaction between the resource owner and the HTTP service, or by allowing the third party application to obtain access on its own behalf.\n",
    "\n",
    "OAuth 2.0 is designed to provide third party applications with standardized secure delegated access to server resource on behalf of the resource owner. It specifies a process through which users can authorize third-part access without exposing their credentials (like passwords) to third-party applications, including server-side, client-side, and mobile applications.\n",
    "\n",
    "## Key components of OAuth 2.0\n",
    "1. `Resource Owner`: Typically the user who authorizes an application to access their account.\n",
    "2. `Client`: The application that wants to access the user's account. The client must be authorized by the user, and authenticated by the API.\n",
    "3. `Authorization Server`: The server that issues access tokens to the client after successfully authenticating the resource owner and obtaining authorization.\n",
    "4. `Resource Server`: The server hosting the protected resources. This server accepts and responds to protected resources requests using access tokens.\n",
    "\n",
    "## How OAuth 2.0 Works\n",
    "OAuth 2.0 provides several \"grant types\" for different use cases:\n",
    "1. `Authorization Code Grant`: Used by web and mobile apps. It involves redirecting the user to the authorization server to log in. After successful login, the user is directed to the application with an authorization code that can be exchanged for an access token.\n",
    "2. `Implicit Grant`: Previously recommended for clients without a server component, like JavaScript or mobile apps. This grant type is less secure and being replaced by more secure methods like the Authorization code Grant with PKCE.\n",
    "3. `Resource Owner Password Credentials Grant`: Allows an application to obtain an access token by providing the username and password of the resource owner. Since this involves sharing credentials directly, it's only recommended when other flows are not viable.\n",
    "4. `Client Credentials Grant`: Used for applications requesting access to their own resources, not on behalf of a user. It's commonly used for server-to-server interactions.\n",
    "5. `Refresh Token Grant`: Used to obtain additional access tokens without requiring the resource owner to be present by using a reference token received along with the access token.\n",
    "\n",
    "## Key Process of OAuth 2.0\n",
    "1. `Authorization Request`: The third-party application requests autorization from the resource owner to accesss theeir resources. This request of ten happens through a user agent (web browser) and is directed to the authorization server.\n",
    "2. `User Consent`: The resource owner interacts with the authorization server, granting or denying the request made by the third-party application. This step ovten involves authenticating with the ervice and explicitly approving the request.\n",
    "3. `Access Token Issuance`: Uon receiving approval, the authorization server issues an access token to the third-party application. This token limits the thrid-party application can access and often has a set expiry.\n",
    "4. `Resource Acccess`: The third-party application uses the access token to make API requests on behalf of the resource owner. The resource server, upon verifying the access token, allows the third-party application to access the resources permitted.\n",
    "\n",
    "## Common Use Cases\n",
    "- `Single Sign-On (SSO)`: OAuth allows users to log into multiple websites using their credentials from a site like Google or Facebook\n",
    "- `Third-Party Access`: Apps like fitness app accesing google fit or Apple Health data, or a third-party email app accessing Google Mail.\n",
    "- `Microservices Security`: In a microservies architecture, OAuth is used to secure communication between services.\n",
    "\n",
    "## Security Considerations\n",
    "- `Secure storage of Tokens`: Access and refresh tokens should be securely stored to prevent unauthorized access.\n",
    "- `HTTPS`: Always use HTTPS to prevent interception of tokens and data.\n",
    "- `Scope Limitation`: Limit the scope of what each token can access to minimize damage if the token is compromised.\n",
    "- `Token Expiry and Rotation`: Implement short-lived access tokens and refresh them periodically.\n",
    "- `PKCE (Proof Key for Code Exchange)`: Enhances security for mobile and native applications by preventing interception of unauthorizion code.\n",
    "\n",
    "## Benefits of OAuth 2.0\n",
    "- `Security`: OAuth 2.0 removes the need for applications to store and manage user passwords directly, reducing the risk of exposure.\n",
    "- `Standardization`: Offers a uniform model across different services and platform, making it easier for developers to implement and for users to understand and manage their permissions.\n",
    "- `Flexibility`: Supports different types of clients (web, mobile, server-side) and differen authorixation flows tailored to each user case."
   ]
  },
  {
   "cell_type": "markdown",
   "id": "609d67ba-2d88-43d0-bed3-0a6c98d23591",
   "metadata": {},
   "source": [
    "# OpenID\n",
    "OpenID is an open standard and decentralize authentication protocol that enables Client to verify the identity of the End-User based on the authentication performed by an Authorization server, as well as to obtain basic profile imformation about the End-User in an interoperable and REST-like manner.\n",
    "\n",
    "## Key Concepts of OpenID\n",
    "1. `Identity Provider (IdP):`: This is the service that provides user authentication. Examples include Google, Facebook, Github, ... and others. When a user tries to log in to a website using OpenID, the website redirects them to the IdP to authenticate.\n",
    "2. `Relying Party (RP)`: This is the website or application that wants to authenticate the user. The RP trusts the IdP to verify the user's identity and accept their authentication without requiring additional credentials.\n",
    "4. `Claims`: These are pieces of information that the identity provider asserts about the user, such as the user's name, email address, and other profile data.\n",
    "\n",
    "## Authentication Flow\n",
    "1. `Log In`: The user attempts to log in to the website(RP).\n",
    "2. `Authentication Request`: The RP redirects the user's browser to the IdP's authentication endpoint. This request includes the desired claims about the user, such as identity verification and profile data.\n",
    "3. `Authentication and Authorization`: The user authenticates with the IdP, and the IdP asks the user to authorize the release of any requested claims with the RP.\n",
    "4. `Assertion`: Upon successful authentication and authorization, the IdP sends an assertion to the RP. This assertion, is typically encapsulated in an ID Token, containing verified details aobut the user's identity along with any additional claims that were requested by the RP and authorized by the user. These claims may include attributes suchc as the user's name, email, and potentially other profile information that the RP needs to provide a personalized user experience or to make authorization decisions.\n",
    "5. `Token and Claims`: Often, in OpenID Connect (an extension of OpenID), the IdP returns an ID Token and possibly an access token to the RP can be used to retrieve additional claims about the authenticated user via secure APIs.\n",
    "\n",
    "## Advantages of OpenID\n",
    "- Simplified Authentication: Users can log into multiple websites with one set of credentials managed by the provider.\n",
    "- Reduced Responsibility for websites: Websites don't need to manage and secure password databases, reducing their liability and the complexity of their systems.\n",
    "- Enhanced Privacy and Security: IdPs can provide users with control over what information is shared with RPs.\n",
    "\n",
    "## Evolution and OpenID Connect\n",
    "OpenID has evolved over time, and OpenID Connect (OIDC) is now the most widely used version. OIDC is built on top ofthe OAuth 2.0 protocol and provides a more robust, standardized way of handling authentication and identity."
   ]
  },
  {
   "cell_type": "markdown",
   "id": "3e681c13-dfc4-4e49-971e-99a56d38ec9d",
   "metadata": {},
   "source": [
    "# OpenID Connect (OIDC)\n",
    "OpenID Connect (OIDC) is an authentication protocol that extends OAuth 2.0 to add an identity layer by adding an addition ID Token. It enables clients to verify the identity of an end-user based on the authentication performed by an Authorization Server, and to obtain the user’s profile information in a standardized and interoperable way.\n",
    "\n",
    "## Key Features of OIDC\n",
    "1. `Authentication and Identity`: OIDC provides a way for applications(relying parties) to authenticate users using a trusted identity provider, like Google or Facebook. It returns an ID Token(in JWT format) that contains information about the user's identity, which can be verified by the application.\n",
    "2. `OAuth 2.0 Integration`: OIDC builds on OAuth 2.0, which is primarily used for authorization (granting access to resources). By integrating with OAuth 2.0, OIDC allows both authentication and authorization to be handled in a unified framework.\n",
    "3. `ID Token`: The ID Token is the core of OIDC. It is a JWT (JSON Web Token) that includes claims about the authenticated user and other metadata, such as the token's issuer, its expiration time, and the user's identity (e.g., a unique identifier, email). This token is signed by the IdP and can be verified by the relying party to confirm the authenticity and integrity of the token.\n",
    "4. `UserInfo Endpoint`: After authentication, applications can call the UserInfo endpoint provided by the IdP to retrieve additional user profile information, such as the user's name, email and profile picture.\n",
    "5. `Scopes`: In OIDC, scopes are used to request specific sets of information from the IdP that are returned to the Application(RP) in the ID Token or via the UserInfo endpoint. Common scopes include:\n",
    "- - `openid`: Mandatory, indicates that the request is for OIDC authentication.\n",
    "  - `profile`: Request access to the user's profile information\n",
    "  - `email`: Requests access to the user's email address\n",
    "  - `address`, `phone`, etc., for other specific data.\n",
    "6.`Descovery Endpoint`: OIDC provides a discovery mechanism where the client application can dynamically obtain the configuration details of the IdP, such as the authorization endpoint, token endpoint, and other metadata. This is typically available via the well-known URL (e.g., /.well-known/openid-configuration) eg. https://accounts.google.com/.well-known/openid-configuration.\n",
    "7. `Claims`: OIDC allows applications to request and receive claims about the authenticated user. These claims are pieces of information about the user, such as their name, email and other attributes.\n",
    "\n",
    "## OIDC Flow:\n",
    "1. `Authentication Request`: The application (client) directs the user to the IdP's authorization endpint, requesting authorization and including the `openid` scope.\n",
    "2. `User Authentication`: The IdP authenticates the user and ask them for consent to the reqeusted scopes.\n",
    "3. `Authorization Response`: If the user consents, the IdP redirects the user back to the application with an authorization code.\n",
    "4. `Token Exchange`: The application exchanges the authorization code for an ID token (and optionally an Access Token and Refresh Token by making a request to the IdP's token endpoint.\n",
    "5. `ID Token Verification`: The application verifies the ID Token's signature, ensuring it was issued by the trusted IdP and that it has not been tampered with.\n",
    "6. `UserInfo Request (Optional)`: The application can retrieve additional user information by querying the UserInfo endpoint with the Access Token.\n",
    "7. `Authenticated Session`: The application establishes an authenticated session for the user, often using the information contained in the ID Token.\n",
    "\n",
    "<img src=\"OpenID-Flow.png\">\n",
    "\n",
    "## Common Use Cases\n",
    "- Logging in with Google/Facebook\n",
    "- SSO in Enterprises: Large organizations ofter use OIDC to enable single sign-on across various internal and external applications."
   ]
  },
  {
   "cell_type": "code",
   "execution_count": null,
   "id": "870c7e88-8782-4fd6-a366-af8ee64786e7",
   "metadata": {},
   "outputs": [],
   "source": []
  }
 ],
 "metadata": {
  "kernelspec": {
   "display_name": "Python 3 (ipykernel)",
   "language": "python",
   "name": "python3"
  },
  "language_info": {
   "codemirror_mode": {
    "name": "ipython",
    "version": 3
   },
   "file_extension": ".py",
   "mimetype": "text/x-python",
   "name": "python",
   "nbconvert_exporter": "python",
   "pygments_lexer": "ipython3",
   "version": "3.12.2"
  }
 },
 "nbformat": 4,
 "nbformat_minor": 5
}
