{
 "cells": [
  {
   "cell_type": "markdown",
   "metadata": {},
   "source": []
  },
  {
   "cell_type": "markdown",
   "metadata": {},
   "source": [
    "5 main components of a single agent system.\n",
    "- Actions and Tool Use: Actions represents a function/tool an agent can use.\n",
    "- Reasoning and Evaluation: Reasoning and evaluation group the agent and empower it to make better decisions.\n",
    "- Profile and Persona: A persona represents the agent's main role or function, typicalyy defined in a system prompt. The profile describes the entire agent system.\n",
    "- Memory and Knowledge: Memory and knowleddge provide added context to the agetn for a speific request or task.\n",
    "- Planning and Feedback: Planning and feedback allow the agent to learn and improve on task completion."
   ]
  }
 ],
 "metadata": {
  "language_info": {
   "name": "python"
  }
 },
 "nbformat": 4,
 "nbformat_minor": 2
}
