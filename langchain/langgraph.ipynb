{
 "cells": [
  {
   "cell_type": "markdown",
   "id": "294638f0-f415-4ed4-8f08-a9a29b95fdea",
   "metadata": {},
   "source": [
    "# Pregel Programing Model\n",
    "- each vertex executes code once graph is loaded\n",
    "- each vertex knows its outgoing eges\n",
    "- vertices are distributed across processors\n",
    "\n",
    "Superstep: each vertex\n",
    "- receives messages from in-neightbots\n",
    "- ... computation ...\n",
    "- sends messages to out-neighbours\n",
    "- decides whether or not to halt\n",
    "- (halt: vertex stays inactive except if it receives a message)\n",
    "\n",
    "computation halts if all vertices are in halt state\n",
    "\n",
    "\n",
    "## Model of Computation\n",
    "Input to a pregel computation is a directed graph in which each vertex is uniquely identify by a string vertex identifier and each vertex is associated with their modifiable user defined value.\n",
    "\n",
    "Directed edges are soociated with a modifiable user defined value.\n",
    "\n",
    "Pregal computation consists of a sequence of iterations called superstep.\n",
    "\n",
    "During a superstep the framework invodes a user-defined function for each vertex in parallel.\n",
    "\n",
    "In a superstep a vertex can do the following\n",
    "- Read the message sent to the vertex in the superstep S-1\n",
    "- Send the message to another vertex which will be received in S+1 superstep (Message are typically sent from outgoing edges but can be sent to any vertex if the identifier is known)\n",
    "- Modify the State of the vertex and its outgoing edge\n",
    "- Mutates the topology of the graph\n",
    "- Votes to halt if it has no further work todo"
   ]
  },
  {
   "cell_type": "markdown",
   "id": "33947019-63fe-42aa-af2f-39c4f829df54",
   "metadata": {},
   "source": [
    "### Algorithm in Pregel Framework\n",
    "In superstep 0 every vertex is in active state.\n",
    "\n",
    "In each superstep the vertices compute in parallel and execute the same function that expresses the logic of a given algorithm.\n",
    "\n",
    "A vertex deactives it self by volting to halt mean the vertex has no more work.\n",
    "\n",
    "The algorithm as a whole is terminated when alll the vertex are inactive and no messages are in transit.\n"
   ]
  },
  {
   "cell_type": "code",
   "execution_count": 5,
   "id": "d0827075-5e13-42d8-8ee3-961b68825c27",
   "metadata": {},
   "outputs": [
    {
     "data": {
      "image/png": "[encoded data removed]",
      "text/plain": [
       "<IPython.core.display.Image object>"
      ]
     },
     "execution_count": 5,
     "metadata": {},
     "output_type": "execute_result"
    }
   ],
   "source": [
    "from graphviz import Digraph\n",
    "from IPython.display import Image\n",
    "\n",
    "def pregel_framework():\n",
    "    dot = Digraph(comment='Pregel Framework')\n",
    "    \n",
    "    # Configure graph attributes\n",
    "    dot.attr(rankdir='LR')  # Left to right layout\n",
    "    dot.attr('node', shape='box', style='rounded')\n",
    "    \n",
    "    # Add nodes\n",
    "    dot.node('active', 'Active')\n",
    "    dot.node('inactive', 'Inactive')\n",
    "    \n",
    "    # Add edges with arrows\n",
    "    dot.edge('active:w', 'active:w')\n",
    "    dot.edge('inactive:e', 'inactive:e')\n",
    "    dot.edge('active', 'inactive', label=\"Vote to halt\")\n",
    "    dot.edge('inactive', 'active', label=\"Message received\")\n",
    "\n",
    "    return dot\n",
    "\n",
    "# Create and save the graph\n",
    "flow = pregel_framework()\n",
    "flow.render('pregel_framework', format='png', cleanup=False)\n",
    "Image(\"./pregel_framework.png\")"
   ]
  },
  {
   "cell_type": "markdown",
   "id": "241a3e48-3be6-40b3-b4c8-141789c77974",
   "metadata": {},
   "source": [
    "### Message Passing\n",
    "- Vertices Communicate with one another by sned messages, each of which consists a message value and the name of the destination vertex.\n",
    "- A vertex can send any number of message in a supertesp\n",
    "- A message sent at superset S will be recieved at S+1\n",
    "- Messages can be sent to non-neighbour vertex also if the vertex id is known\n",
    "\n",
    "### Combiners (optimization)\n",
    "- This reduces the overhead of sending multiple messages with the help of user\n",
    "- Suppose that Computer() receives integer message and that only the sum of the messages matter in that cases the system can combine all the messages for a vertex\n",
    "- For some algorithms, such as a single-source shortest paths we have observed more than a fourfold reduction in message traffic by using combiner.\n",
    "\n",
    "### Aggregators\n",
    "- Pregel aggregators are a mechanism for global communication, monitoring, and data\n",
    "- Each vertex can provide a value to an aggregator in superstep S, the system combines those values using a reduction operator, and the resulting value is made available to all vertices in superstep S + 1\n",
    "- Custom aggregator can be defined by user using predefined subclasses Aggregator, and specifies how the aggregated value is initialized from the first input value and how multiple partially aggregated valuse are reduced to one, Aggregation operators should be communtative and associative\n",
    "\n",
    "### Input and Output\n",
    "Pregel decouples the task of interpreting an input file as a graph from the task of graph computation. Similarly, output can be generated in an arbitrary format and stored in the form most suitable for a given application.\n",
    "\n",
    "Pregel library provides readers and writers for many common file formats, but users with unusual needs can write their own by subclassing the abstract base classes Reader and Writer."
   ]
  },
  {
   "cell_type": "markdown",
   "id": "a0463134-e573-430f-828c-3d4daded4d6f",
   "metadata": {},
   "source": [
    "### Basic Architecture\n",
    "The Pregel library divides a graph into partitions, each consisting of a set of vertices.\n",
    "\n",
    "Assignment of a vertex to a partition depends solely on the vertex ID, which implies it is possible to know which partition a given vertex belongs on even if the vertex is owned by a different machine, or even if the vertex does not yet exist.\n",
    "\n",
    "The default partitioning function is just hash(ID) and mod N, where N is the number of partitions, but users can replace it.\n",
    "\n",
    "After the input has finished loading, all vertices are marked as active.\n",
    "\n",
    "The master instructs each worker to perform a superstep. The worker loops through its active vertices, using one thread for each partition.\n",
    "\n",
    "The worker calls Compute() for each active vertex, delivering messages that were sent in the previous superstop. When the worker is finished it responds to the master, telling the master how many vertices will be active in the next superstep. This step is repeated as long as any vertices are active or any messages are in transit.\n",
    "\n",
    "After the computation halts, the master may instruct each work to save its portion of the graph.\n",
    "\n",
    "### Fault Tolerance\n",
    "Fault Tolerance is achieved through checkpointing. At the beginning of a superstep the master instructs the workers to save the state of their partitions to persistence storage.\n",
    "\n",
    "Worker Failures are detected using regular \"ping\" messages that the master issues to the workers.\n",
    "\n",
    "When one or more workers fail, the current state of the partitions assigned to these workers is lost. The master reassigns graph partitions to the currently available set of workers, and they all reload their partition state from the most recent available checkpoint at the beginning of a superstep S. That checkpoint may be several supersteps earlier than the latest superstep S\" completed by any partition before the failure, rrequiring that recovery repeat the missing supersteps.\n",
    "\n",
    "Confined recovery:\n",
    "\n",
    "In addition to the basic checkpoints, the workers also log outgoing messages from their assigned partitions during graph loading and supersteps. Recovery is then confined to the lost partitions, which are recovered from checkpoints. The system recomputes the missing supersteps up to S\" using logged messages from healthy partitions and recalculated ones from recovering partitiions.\n",
    "\n",
    "This approach saves compute resources during recovery by only recomputing lost partitions, and can improve the latency of recovery since each work may be recovering fewer partitions.\n",
    "\n",
    "### Worker Implementation\n",
    "A worker machine maintains the state of its portion of the graph in memory.\n",
    "Conceptually this can be thought of as a map from vertex ID to the state of each vertex, where the state of each vertex consists of its current value, a list of its outgoing edges. A queue containing incoming messages, and a flag specifying whether the vertex is active.\n",
    "\n",
    "A worker processes its vertices in superstep S it is simultaneously, in another thread, receiving messages from other workers executing the same superstep.\n",
    "\n",
    "Message spending can be optimized based the destination location (remote or local)\n",
    "\n",
    "\n",
    "### Master Implementation\n",
    "The master is primarily responsible for coordinating hte activities of workers. Each woker is assigned a unique identifier at the time of its registration.\n",
    "\n",
    "The master maintains a list of all workers currently known to be alive, including the worker's unique identifier, its addressing information, and which protion of the graph it has been assigned.\n",
    "\n",
    "Most master operations, including input, output, computation, and saving and resuming from checkpoints.\n",
    "\n",
    "The master also maintains statistics about the progress of computation and the state of the graph."
   ]
  },
  {
   "cell_type": "markdown",
   "id": "0267b428-fd2f-4eb3-ab4e-aba7ac3ac869",
   "metadata": {},
   "source": [
    "# Agents\n",
    "Agent can be defined in serveral ways. Some customers define agents as fully autonomous systems that operate independently over extended periods, using various tools to accomplish complex tasks. others use the term to describe predifine workflows.\n",
    "\n",
    "An important architectural distinciton between workflows and agents:\n",
    "- Workflows are ssystems wehre LLMs and tools are orchestrated through predefined code paths.\n",
    "- Agents, on the other hand, are systems where LLMs dynamically direct their own processes and tool usage, maintaining control over how they accomplish tasks.\n",
    "\n",
    "When to use agents\n",
    "\n",
    "When more complexity is warranted, workflows offer predictability and consistency for well-defined tasks, whereas agents are the better option when flexibility and model-driven decision-making are needed at scale. For many applications, however, optimizing single LLM calls with retrieval and in-context examples is usually enough.\n",
    "\n",
    "\n",
    "\n"
   ]
  },
  {
   "cell_type": "code",
   "execution_count": null,
   "id": "b5577df6-3700-443a-b146-58b1ba390c1d",
   "metadata": {},
   "outputs": [],
   "source": []
  }
 ],
 "metadata": {
  "kernelspec": {
   "display_name": "Python 3 (ipykernel)",
   "language": "python",
   "name": "python3"
  },
  "language_info": {
   "codemirror_mode": {
    "name": "ipython",
    "version": 3
   },
   "file_extension": ".py",
   "mimetype": "text/x-python",
   "name": "python",
   "nbconvert_exporter": "python",
   "pygments_lexer": "ipython3",
   "version": "3.12.3"
  }
 },
 "nbformat": 4,
 "nbformat_minor": 5
}
