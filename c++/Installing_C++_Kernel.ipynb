{
 "cells": [
  {
   "cell_type": "markdown",
   "metadata": {},
   "source": [
    "# Installing C++ kernel on Jupyter\n",
    "Cling is a project for an interactive C++ interpreter. You can read more about it here https://github.com/root-project/cling\n",
    "Cling come with a Jupyter kernel which allows us to execute C++ interactively on Jupyter.\n",
    "Here is the instruction to intall C++ kernel on Jupyter."
   ]
  },
  {
   "cell_type": "markdown",
   "metadata": {},
   "source": [
    "Download the binary snapshots for Cling https://root.cern.ch/download/cling/"
   ]
  },
  {
   "cell_type": "code",
   "execution_count": null,
   "metadata": {},
   "outputs": [],
   "source": [
    "%%bash\n",
    "wget -P /home/$USER/cling_ubuntu  https://root.cern.ch/download/cling/cling_2020-10-14_ROOT-ubuntu18.04.tar.bz2 "
   ]
  },
  {
   "cell_type": "markdown",
   "metadata": {},
   "source": [
    "Extract the Cling binary"
   ]
  },
  {
   "cell_type": "code",
   "execution_count": null,
   "metadata": {},
   "outputs": [],
   "source": [
    "%%bash\n",
    "tar -xf  /home/$USER/cling_ubuntu/cling_2020-10-14_ROOT-ubuntu18.04.tar.bz2"
   ]
  },
  {
   "cell_type": "markdown",
   "metadata": {},
   "source": [
    "We need to add the path, i.e., /home/${USER}/cling_ubuntu/bin in our path. And add it to our bashrc file. So, open up a terminal and type the following"
   ]
  },
  {
   "cell_type": "code",
   "execution_count": null,
   "metadata": {},
   "outputs": [],
   "source": [
    "%%bash\n",
    "echo \"export PATH=/home/${USER}/cling_ubuntu/cling_2020-10-14_ROOT-ubuntu18.04/bin:$PATH\" >> ~/.bashrc\n",
    "source ~/.bashrc"
   ]
  },
  {
   "cell_type": "markdown",
   "metadata": {},
   "source": [
    "Installing the Kernel using pip"
   ]
  },
  {
   "cell_type": "code",
   "execution_count": null,
   "metadata": {},
   "outputs": [],
   "source": [
    "%%bash\n",
    "pip install -e /home/${USER}/cling_ubuntu/cling_2020-10-14_ROOT-ubuntu18.04/share/cling/Jupyter/kernel"
   ]
  },
  {
   "cell_type": "markdown",
   "metadata": {},
   "source": [
    "Registering the kernel for Jupyter."
   ]
  },
  {
   "cell_type": "code",
   "execution_count": null,
   "metadata": {},
   "outputs": [],
   "source": [
    "%%bash\n",
    "cd /home/yilengyao/cling_ubuntu/cling_2020-10-14_ROOT-ubuntu18.04/share/cling/Jupyter/kernel\n",
    "jupyter-kernelspec install --user cling-cpp11\n",
    "jupyter-kernelspec install --user cling-cpp14\n",
    "jupyter-kernelspec install --user cling-cpp17\n",
    "jupyter-kernelspec install --user cling-cpp1z"
   ]
  },
  {
   "cell_type": "markdown",
   "metadata": {},
   "source": [
    "Firing up Jupyter notebook, you will find the C++ kernels on the on the dropdown top right dropdown menu."
   ]
  },
  {
   "cell_type": "code",
   "execution_count": null,
   "metadata": {},
   "outputs": [],
   "source": [
    "%%bash\n",
    "jupyter lab"
   ]
  },
  {
   "cell_type": "markdown",
   "metadata": {},
   "source": [
    "# Installing on Macos"
   ]
  },
  {
   "cell_type": "code",
   "execution_count": null,
   "metadata": {},
   "outputs": [],
   "source": [
    "%%bash\n",
    "mkdir /Users/$USER/cling_macos\n",
    "wget -P /Users/$USER/cling_macos https://root.cern.ch/download/cling/cling_2020-11-05_mac1015.tar.bz2"
   ]
  },
  {
   "cell_type": "code",
   "execution_count": null,
   "metadata": {},
   "outputs": [],
   "source": [
    "%%bash\n",
    "tar -xf  /Users/$USER/cling_macos/cling_2020-11-05_mac1015.tar.bz2"
   ]
  },
  {
   "cell_type": "code",
   "execution_count": null,
   "metadata": {},
   "outputs": [],
   "source": [
    "%%bash\n",
    "echo \"export PATH=/Users/$USER/cling_macos/cling_macos/cling_2020-11-05_mac1015/bin:$PATH\" >> ~/.bashrc\n",
    "source ~/.bashrc"
   ]
  },
  {
   "cell_type": "code",
   "execution_count": null,
   "metadata": {},
   "outputs": [],
   "source": [
    "%%bash\n",
    "pip install -e /Users/{$USER}/cling_macos/cling_2020-11-05_mac1015/share/cling/Jupyter/kernel"
   ]
  },
  {
   "cell_type": "markdown",
   "metadata": {},
   "source": [
    "if pip is not available `brew install pipx` use pipx"
   ]
  },
  {
   "cell_type": "code",
   "execution_count": null,
   "metadata": {},
   "outputs": [],
   "source": [
    "%%bash\n",
    "cd /Users/${USER}/cling_macos/cling_2020-11-05_mac1015/share/cling/Jupyter/kernel\n",
    "jupyter-kernelspec install --user cling-cpp11\n",
    "jupyter-kernelspec install --user cling-cpp14\n",
    "jupyter-kernelspec install --user cling-cpp17\n",
    "jupyter-kernelspec install --user cling-cpp1z"
   ]
  }
 ],
 "metadata": {
  "kernelspec": {
   "display_name": "Python 3 (ipykernel)",
   "language": "python",
   "name": "python3"
  },
  "language_info": {
   "codemirror_mode": {
    "name": "ipython",
    "version": 3
   },
   "file_extension": ".py",
   "mimetype": "text/x-python",
   "name": "python",
   "nbconvert_exporter": "python",
   "pygments_lexer": "ipython3",
   "version": "3.12.3"
  }
 },
 "nbformat": 4,
 "nbformat_minor": 4
}
