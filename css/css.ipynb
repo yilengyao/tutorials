{
 "cells": [
  {
   "cell_type": "markdown",
   "id": "a732f9ae-d06b-44d9-a2cf-aeb92d2e31a7",
   "metadata": {},
   "source": [
    "# Box Model\n",
    "Every HTML elmeent is considered a rectangular box.\n",
    "<img src=\"box-model.png\">\n",
    "\n",
    "The CSS box model consists of 4 parts.\n",
    "1. Content: This area is the inner rectangle of the box, consisting of the content--such as some text or an image--that's contained within the box.\n",
    "2. Padding: This area between the content and the border represents extra whitespace added outside the top, right, bottom, and left edges of the content area.\n",
    "3. Border: This part turns along the outer edges of the padding area and surrounds the content and padding with lines.\n",
    "4. Margin: This area is the outer rectangle of the box, representing extra whitespace added outside of the top, right, bottom, and left borders."
   ]
  }
 ],
 "metadata": {
  "kernelspec": {
   "display_name": "Python 3 (ipykernel)",
   "language": "python",
   "name": "python3"
  },
  "language_info": {
   "codemirror_mode": {
    "name": "ipython",
    "version": 3
   },
   "file_extension": ".py",
   "mimetype": "text/x-python",
   "name": "python",
   "nbconvert_exporter": "python",
   "pygments_lexer": "ipython3",
   "version": "3.12.2"
  }
 },
 "nbformat": 4,
 "nbformat_minor": 5
}
