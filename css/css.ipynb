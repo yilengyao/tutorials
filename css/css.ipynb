{
 "cells": [
  {
   "cell_type": "markdown",
   "id": "a732f9ae-d06b-44d9-a2cf-aeb92d2e31a7",
   "metadata": {},
   "source": [
    "# Box Model\n",
    "Every HTML elmeent is considered a rectangular box.\n",
    "<img src=\"box-model.png\">\n",
    "\n",
    "The CSS box model consists of 4 parts.\n",
    "1. Content: This area is the inner rectangle of the box, consisting of the content--such as some text or an image--that's contained within the box.\n",
    "2. Padding: This area between the content and the border represents extra whitespace added outside the top, right, bottom, and left edges of the content area.\n",
    "3. Border: This part turns along the outer edges of the padding area and surrounds the content and padding with lines.\n",
    "4. Margin: This area is the outer rectangle of the box, representing extra whitespace added outside of the top, right, bottom, and left borders.\n",
    "\n",
    "\n",
    "## Box sizing\n",
    "```\n",
    "element {\n",
    "    box-sizing: border-box\n",
    "}\n",
    "```\n",
    "`box-sizing` property in CSS defines how the total width and height of an element are calculated. By Default, CSS uses the `content-box` model, which can sometimes lead to unpredictable result, setting `box-sizing: border-box;` leads to more predictable result.\n",
    "\n",
    "The `box-sizing` property controls how the total width and height of an element are calculated. It can take one of two values:\n",
    "1. `content-box` (default): The width and height include only the content. Padding and border are added outside the content's dimentsions, increasing the total size.\n",
    "2. `border-box`: The width and height include the content, padding, and border. Padding and border are inside the box, reducing the content area to maintain the specified dimentsions.\n",
    "\n",
    "What does `box-sizing: border-box;` do?\n",
    "When you set `box-sizing: border-box;`, you change the box model calculation so that:\n",
    "- Total Width: includes content width, padding, and border.\n",
    "- Total Height: Includes content height, padding and border.\n",
    "\n",
    "This means that hte specified `width` and `height` properties define the total size of the element, and padding and borders are drawn inside this area.\n",
    "\n",
    "### Default `content-box`\n",
    "```\n",
    ".element {\n",
    "    width: 200px;\n",
    "    padding: 20px;\n",
    "    border: 5px;\n",
    "}\n",
    "```\n",
    "- Content Width: 200px\n",
    "- Padding: 20px (left) + 20px (right) = 40px\n",
    "- Border: 5px (left) + 5px (right) = 10px\n",
    "- Total Width: 200px + 40px + 10px = 250px\n",
    "\n",
    "### `box-sizing: border-box;`\n",
    "```\n",
    ".element {\n",
    "    box-sizing: border-box;\n",
    "    width: 200px;\n",
    "    padding: 20px;\n",
    "    border: 5px;\n",
    "}\n",
    "```\n",
    "- Total Width: 200px (specified width)\n",
    "- Padding and Border are inside the Width\n",
    "- Content Width: 200px - 40px (padding) - 10px (border) = 150px"
   ]
  }
 ],
 "metadata": {
  "kernelspec": {
   "display_name": "Python 3 (ipykernel)",
   "language": "python",
   "name": "python3"
  },
  "language_info": {
   "codemirror_mode": {
    "name": "ipython",
    "version": 3
   },
   "file_extension": ".py",
   "mimetype": "text/x-python",
   "name": "python",
   "nbconvert_exporter": "python",
   "pygments_lexer": "ipython3",
   "version": "3.12.2"
  }
 },
 "nbformat": 4,
 "nbformat_minor": 5
}
